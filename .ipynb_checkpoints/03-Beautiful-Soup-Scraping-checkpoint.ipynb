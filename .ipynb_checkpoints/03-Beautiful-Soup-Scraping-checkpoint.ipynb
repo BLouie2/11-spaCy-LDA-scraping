{
 "cells": [
  {
   "cell_type": "markdown",
   "metadata": {},
   "source": [
    "# Introduction to Web Scraping\n",
    "\n",
    "To begin, we will examine the reddit page dealing with Machine Learning.  Our goal is to scrape the basic information for posts.\n",
    "\n",
    "![](images/reddit.png)"
   ]
  },
  {
   "cell_type": "code",
   "execution_count": 1,
   "metadata": {},
   "outputs": [],
   "source": [
    "%matplotlib inline\n",
    "import matplotlib.pyplot as plt\n",
    "import requests\n",
    "from bs4 import BeautifulSoup\n",
    "import pandas as pd\n",
    "import numpy as np"
   ]
  },
  {
   "cell_type": "code",
   "execution_count": 5,
   "metadata": {},
   "outputs": [],
   "source": [
    "url = 'https://en.wikipedia.org/wiki/List_of_21_Jump_Street_episodes'"
   ]
  },
  {
   "cell_type": "code",
   "execution_count": 6,
   "metadata": {},
   "outputs": [],
   "source": [
    "response = requests.get(url)"
   ]
  },
  {
   "cell_type": "code",
   "execution_count": 7,
   "metadata": {},
   "outputs": [
    {
     "data": {
      "text/plain": [
       "<Response [200]>"
      ]
     },
     "execution_count": 7,
     "metadata": {},
     "output_type": "execute_result"
    }
   ],
   "source": [
    "response"
   ]
  },
  {
   "cell_type": "code",
   "execution_count": 9,
   "metadata": {},
   "outputs": [
    {
     "data": {
      "text/plain": [
       "'<!DOCTYPE html>\\n<html class=\"client-nojs\" lang=\"en\" dir=\"ltr\">\\n<head>\\n<meta charset=\"UTF-8\"/>\\n<title>List of 21 Jump Street episodes - Wikipedia</title>\\n<script>document.documentElement.className = document.documentElement.className.replace( /(^|\\\\s)client-nojs(\\\\s|$)/, \"$1client-js$2\" );</script>\\n<sc'"
      ]
     },
     "execution_count": 9,
     "metadata": {},
     "output_type": "execute_result"
    }
   ],
   "source": [
    "response.text[:300]"
   ]
  },
  {
   "cell_type": "code",
   "execution_count": 11,
   "metadata": {},
   "outputs": [],
   "source": [
    "soup = BeautifulSoup(response.text, 'html.parser')\n",
    "\n",
    "#Pass response text into Beautiful soup"
   ]
  },
  {
   "cell_type": "code",
   "execution_count": 12,
   "metadata": {},
   "outputs": [
    {
     "data": {
      "text/plain": [
       "<h2>Contents</h2>"
      ]
     },
     "execution_count": 12,
     "metadata": {},
     "output_type": "execute_result"
    }
   ],
   "source": [
    "soup.find('h2')\n",
    "\n",
    "#find anything that was a h2 header"
   ]
  },
  {
   "cell_type": "code",
   "execution_count": 15,
   "metadata": {},
   "outputs": [
    {
     "name": "stdout",
     "output_type": "stream",
     "text": [
      "Contents\n",
      "Series Overview[edit]\n",
      "Season 1 (1987)[edit]\n",
      "Season 2 (1987-88)[edit]\n",
      "Season 3 (1988-89)[edit]\n"
     ]
    }
   ],
   "source": [
    "all_h2 = soup.find_all('h2')\n",
    "for header in all_h2[:5]:\n",
    "    print(header.text)"
   ]
  },
  {
   "cell_type": "code",
   "execution_count": 16,
   "metadata": {},
   "outputs": [
    {
     "data": {
      "text/plain": [
       "'Contents'"
      ]
     },
     "execution_count": 16,
     "metadata": {},
     "output_type": "execute_result"
    }
   ],
   "source": [
    "soup.find('h2').text"
   ]
  },
  {
   "cell_type": "code",
   "execution_count": null,
   "metadata": {},
   "outputs": [],
   "source": [
    "soup.find('p')"
   ]
  },
  {
   "cell_type": "code",
   "execution_count": null,
   "metadata": {},
   "outputs": [],
   "source": [
    "len(soup.find_all('p'))"
   ]
  },
  {
   "cell_type": "code",
   "execution_count": null,
   "metadata": {},
   "outputs": [],
   "source": [
    "len(soup.find_all('h2'))"
   ]
  },
  {
   "cell_type": "code",
   "execution_count": null,
   "metadata": {},
   "outputs": [],
   "source": [
    "soup.find('a', {'data-click-id': 'body'})['href']"
   ]
  },
  {
   "cell_type": "code",
   "execution_count": null,
   "metadata": {},
   "outputs": [],
   "source": [
    "links = []\n",
    "for i in soup.find_all('a', {'data-click-id': 'body'}):\n",
    "    url_link = 'https://www.reddit.com' + i['href']\n",
    "    links.append(url_link)"
   ]
  },
  {
   "cell_type": "code",
   "execution_count": null,
   "metadata": {},
   "outputs": [],
   "source": [
    "links"
   ]
  },
  {
   "cell_type": "code",
   "execution_count": null,
   "metadata": {},
   "outputs": [],
   "source": [
    "links = []\n",
    "titles = []\n",
    "bodys = []\n",
    "for i in soup.find_all('a', {'data-click-id': 'body'}):\n",
    "    url_link = 'https://www.reddit.com' + i['href']\n",
    "    links.append(url_link)\n",
    "    response = requests.get(url_link)\n",
    "    soup2 = BeautifulSoup(response.text, 'html.parser')\n",
    "    title = soup2.find('h2')\n",
    "    body = soup2.find_all('p')\n",
    "    titles.append(title)\n",
    "    bodys.append(body)"
   ]
  },
  {
   "cell_type": "code",
   "execution_count": null,
   "metadata": {},
   "outputs": [],
   "source": [
    "import pandas as pd"
   ]
  },
  {
   "cell_type": "code",
   "execution_count": null,
   "metadata": {},
   "outputs": [],
   "source": [
    "df = pd.DataFrame({'links': links, 'title': titles, 'body': bodys})"
   ]
  },
  {
   "cell_type": "code",
   "execution_count": null,
   "metadata": {},
   "outputs": [],
   "source": [
    "df.head()"
   ]
  },
  {
   "cell_type": "markdown",
   "metadata": {},
   "source": [
    "### Wikipedia Exercise\n",
    "\n",
    "Scraping Wikipedia tables and adding information found through links.\n",
    "\n",
    "![](images/wiki_table.png)\n",
    "\n",
    "Problem:\n",
    "\n",
    "1. Create a dataframe that contains the information displayed on the Wikipedia page \"List of 2018 Albums\".\n",
    "2. What is Sub Pop releasing in 2018?\n",
    "3. Did Drake put anything out?\n",
    "4. What label is putting out the most music?  Visualize this."
   ]
  },
  {
   "cell_type": "code",
   "execution_count": null,
   "metadata": {},
   "outputs": [],
   "source": [
    "url = 'https://en.wikipedia.org/wiki/List_of_2018_albums'"
   ]
  },
  {
   "cell_type": "code",
   "execution_count": null,
   "metadata": {},
   "outputs": [],
   "source": [
    "response = requests.get(url)"
   ]
  },
  {
   "cell_type": "code",
   "execution_count": null,
   "metadata": {},
   "outputs": [],
   "source": [
    "soup = BeautifulSoup(response.text, 'html.parser')"
   ]
  },
  {
   "cell_type": "code",
   "execution_count": null,
   "metadata": {},
   "outputs": [],
   "source": [
    "soup.find('table', {'class':'wikitable'})"
   ]
  },
  {
   "cell_type": "code",
   "execution_count": null,
   "metadata": {},
   "outputs": [],
   "source": []
  },
  {
   "cell_type": "code",
   "execution_count": null,
   "metadata": {},
   "outputs": [],
   "source": []
  },
  {
   "cell_type": "code",
   "execution_count": null,
   "metadata": {},
   "outputs": [],
   "source": []
  },
  {
   "cell_type": "markdown",
   "metadata": {},
   "source": [
    "### Tweepy\n",
    "\n",
    "- Sign into Twitter apps (https://apps.twitter.com/)\n",
    "- Create application and retrieve `consumer_key`, `consumer_secret`, `access_token`, and `access_token_secret`.  \n",
    "- Follow example below filling in your info.  For more info, see the Tweepy documentation [here](http://tweepy.readthedocs.io/en/v3.5.0/getting_started.html#introduction)."
   ]
  },
  {
   "cell_type": "code",
   "execution_count": 17,
   "metadata": {},
   "outputs": [],
   "source": [
    "consumer_key = 'I7JmWNmyqhzu0VIVpn1DtUAsc'\n",
    "consumer_secret = 'DApKlKIMg2MMdiDEZNE3p3WtSNUF1tq6G70W0TBP4w7AVcZZkk'\n",
    "access_token = '2772844623-sad4NXYbTZhingQY2KycKK6bT3exbjp9dvl25lt'\n",
    "access_token_secret = '06ukALDQTMOCXG2bMXfSmxWMhdoXhzXD3qvUZLKy3YpRb'"
   ]
  },
  {
   "cell_type": "code",
   "execution_count": 19,
   "metadata": {},
   "outputs": [],
   "source": [
    "import tweepy\n",
    "\n",
    "auth = tweepy.OAuthHandler(consumer_key, consumer_secret)\n",
    "auth.set_access_token(access_token, access_token_secret)\n",
    "\n",
    "api = tweepy.API(auth)"
   ]
  },
  {
   "cell_type": "code",
   "execution_count": 20,
   "metadata": {},
   "outputs": [],
   "source": [
    "user = api.get_user('thrashermag')"
   ]
  },
  {
   "cell_type": "code",
   "execution_count": 21,
   "metadata": {},
   "outputs": [
    {
     "name": "stdout",
     "output_type": "stream",
     "text": [
      "Double the handcuffs equals triple the fun. Or pain. Probably pain. Watch the latest episode Tuesday night at 9 pm… https://t.co/CcyguAD6wC\n",
      "On Friday, attendees pulled up to the historic Max Fish bar in the Lower East Side of Manhattan from all over the E… https://t.co/hoZvHDxdKW\n",
      "With a nod to past, but firmly planted in the future, this offering from @dcshoes is everything you could ever want… https://t.co/w4nxVWK4lh\n",
      "With Chico and Carroll as their guides, watch Real tackle some '90s moves and f--ked up Goofy Boy fashion.… https://t.co/BoaQSv0QSD\n",
      "It all kicks off with a beautiful block-to-block line and just keeps getting better. Resounding pop, majestic style… https://t.co/hl76dds6tU\n",
      "Element attacks Sacto with help from Cardiel, Carroll and Chico gives Real an early-90s makeover and the F Troop ba… https://t.co/qWHqhBL2MW\n",
      "T-Funk blows the doors off an NYC hotspot with a rail combo bordering on the absurd. Hell YES.… https://t.co/PbmnhhaqCO\n",
      "A solid crew went over to Omar Hassan’s backyard bowl for an afternoon session before heading to SoCal skateshop fo… https://t.co/H20qRY4NhX\n",
      "The echoes grow louder and louder as the European dream spots just keep looking more and more tasty. Antiz brings t… https://t.co/s8O132OU9H\n",
      "Born and bred skating pools, pipes and parks with the older dudes since the age of five, Tristan Rennie is now 20 a… https://t.co/eNthzvoJOP\n",
      "It’s one thing to do some of the tricks you’re about to see, but it’s a whole other story to be dispatching them in… https://t.co/tzpNOQt0jO\n",
      "The Bay brought the Brute bizness to NYC, terrorizing security guards and owning the streets.… https://t.co/pk6rziFEIm\n",
      "Ishod investigates the science behind unlocking tricks and breaking down mental barriers. You can put your faith in… https://t.co/KHM5zgyIuc\n",
      "If Aliens ever show up on Planet Earth and demand to know more about skateboarding, we’ll show them Ishod footy. He… https://t.co/mnnGOYVK4J\n",
      "Everything about this is perfection. Ishod is in a league of his own. https://t.co/KvYjGToM6s https://t.co/OwjxNczo2m\n",
      "Otherworldly powers meet unstoppable PMA. Evan may just be the greatest KOTR skater ever! Watch the vid and weigh i… https://t.co/WyB7uD5HJj\n",
      "Jimmy backs up his promotion to the Creature Fiends pro ranks with one helluva video part. There’s too many WTF mom… https://t.co/IA0MGea11M\n",
      "Todd Falcon's movie, Jesse Noonan's huge Euro gap, El Toro back tail and more in today's episode of Skateline.… https://t.co/t1k61dgM1A\n",
      "He don't just sit on the sidelines. Andy Roy practices what he preaches ... and pays in pain! Watch episode two, \"D… https://t.co/58tGaK61gC\n",
      "Who's the heaviest dude on KOTR this year? Three words: Star. Head. Body. https://t.co/bXwomNxhhB https://t.co/M5Nyo9Ex1o\n"
     ]
    }
   ],
   "source": [
    "for tweet in user.timeline():\n",
    "    print(tweet.text)"
   ]
  },
  {
   "cell_type": "code",
   "execution_count": 22,
   "metadata": {},
   "outputs": [
    {
     "name": "stdout",
     "output_type": "stream",
     "text": [
      "415866\n"
     ]
    }
   ],
   "source": [
    "print(user.followers_count)"
   ]
  },
  {
   "cell_type": "code",
   "execution_count": 23,
   "metadata": {},
   "outputs": [],
   "source": [
    "tweets = []\n",
    "for tweet in user.timeline(count = 200):\n",
    "    tweets.append(tweet.text)"
   ]
  },
  {
   "cell_type": "code",
   "execution_count": 24,
   "metadata": {},
   "outputs": [
    {
     "data": {
      "text/plain": [
       "['Double the handcuffs equals triple the fun. Or pain. Probably pain. Watch the latest episode Tuesday night at 9 pm… https://t.co/CcyguAD6wC',\n",
       " 'On Friday, attendees pulled up to the historic Max Fish bar in the Lower East Side of Manhattan from all over the E… https://t.co/hoZvHDxdKW',\n",
       " 'With a nod to past, but firmly planted in the future, this offering from @dcshoes is everything you could ever want… https://t.co/w4nxVWK4lh',\n",
       " \"With Chico and Carroll as their guides, watch Real tackle some '90s moves and f--ked up Goofy Boy fashion.… https://t.co/BoaQSv0QSD\",\n",
       " 'It all kicks off with a beautiful block-to-block line and just keeps getting better. Resounding pop, majestic style… https://t.co/hl76dds6tU']"
      ]
     },
     "execution_count": 24,
     "metadata": {},
     "output_type": "execute_result"
    }
   ],
   "source": [
    "tweets[:5]"
   ]
  },
  {
   "cell_type": "code",
   "execution_count": 25,
   "metadata": {},
   "outputs": [],
   "source": [
    "user_BK = api.get_user('Rotoworld_BK')"
   ]
  },
  {
   "cell_type": "code",
   "execution_count": 26,
   "metadata": {},
   "outputs": [
    {
     "name": "stdout",
     "output_type": "stream",
     "text": [
      "110575\n"
     ]
    }
   ],
   "source": [
    "print(user_BK.followers_count)"
   ]
  },
  {
   "cell_type": "code",
   "execution_count": 27,
   "metadata": {},
   "outputs": [],
   "source": [
    "tweets = []\n",
    "for tweet in user_BK.timeline(count = 200):\n",
    "    tweets.append(tweet.text)"
   ]
  },
  {
   "cell_type": "code",
   "execution_count": 29,
   "metadata": {},
   "outputs": [
    {
     "data": {
      "text/plain": [
       "['Clippers acquire Johnathan Motley from Dallas https://t.co/RuWmR7Cfek',\n",
       " 'RT @MikeSGallagher: New fantasy hoops pod! @docktora and I go over the new-look Hawks with tons of John Collins hype, some of the low-key t…',\n",
       " 'Dakari Johnson traded to Memphis for Martin https://t.co/eK26sbIJEz',\n",
       " 'Carmelo Anthony intends to sign with Rockets https://t.co/3sjVswxC6V',\n",
       " 'Tobias Harris turns down $80m extension offer https://t.co/T0R9W8pp4M',\n",
       " 'Report: Cavs have spoken with David Nwaba https://t.co/DxFe4CUNjU',\n",
       " 'Shams: Alex Len finalizing deal with Hawks https://t.co/4FhdkFLs6Z',\n",
       " 'Shams: Kings, Nemanja Bjelica agree to deal https://t.co/Ifts6aWR0Z',\n",
       " 'Shams: Lakers, Michael Beasley agree to deal https://t.co/ejBXkueNNs',\n",
       " 'Shams: Magic trade for Dakari Johnson https://t.co/DLHwLESp3G',\n",
       " 'Shams: Kings, Yogi Ferrell agree to deal https://t.co/qv6bXokAPF',\n",
       " 'Jonah Bolden signs 4-year deal with Sixers https://t.co/YRbgjN5Bem',\n",
       " 'Shams: Sixers trading Richaun Holmes to PHX https://t.co/tTjxlDdCgC',\n",
       " 'Nets trade Darrell Arthur to PHX for Dudley https://t.co/fiIao0sxq5',\n",
       " 'Update: Yogi Ferrell to re-enter free agency https://t.co/ds1GMNr6g0']"
      ]
     },
     "execution_count": 29,
     "metadata": {},
     "output_type": "execute_result"
    }
   ],
   "source": [
    "tweets[:15]"
   ]
  },
  {
   "cell_type": "code",
   "execution_count": null,
   "metadata": {},
   "outputs": [],
   "source": []
  },
  {
   "cell_type": "markdown",
   "metadata": {},
   "source": [
    "### Open Table\n",
    "\n",
    "![](images/open_table.png)\n",
    "\n",
    "Finding restaurants in New York City. (https://www.opentable.com/new-york-restaurant-listings)  Is there good Indian food in the Upper West Side?  Where?  What are people saying is good?"
   ]
  },
  {
   "cell_type": "code",
   "execution_count": null,
   "metadata": {},
   "outputs": [],
   "source": []
  },
  {
   "cell_type": "code",
   "execution_count": null,
   "metadata": {},
   "outputs": [],
   "source": []
  },
  {
   "cell_type": "code",
   "execution_count": null,
   "metadata": {},
   "outputs": [],
   "source": []
  },
  {
   "cell_type": "code",
   "execution_count": null,
   "metadata": {},
   "outputs": [],
   "source": []
  },
  {
   "cell_type": "code",
   "execution_count": null,
   "metadata": {},
   "outputs": [],
   "source": []
  },
  {
   "cell_type": "code",
   "execution_count": null,
   "metadata": {},
   "outputs": [],
   "source": []
  },
  {
   "cell_type": "code",
   "execution_count": null,
   "metadata": {},
   "outputs": [],
   "source": []
  }
 ],
 "metadata": {
  "kernelspec": {
   "display_name": "Python 3",
   "language": "python",
   "name": "python3"
  },
  "language_info": {
   "codemirror_mode": {
    "name": "ipython",
    "version": 3
   },
   "file_extension": ".py",
   "mimetype": "text/x-python",
   "name": "python",
   "nbconvert_exporter": "python",
   "pygments_lexer": "ipython3",
   "version": "3.6.5"
  }
 },
 "nbformat": 4,
 "nbformat_minor": 2
}
