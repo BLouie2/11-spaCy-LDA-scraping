{
 "cells": [
  {
   "cell_type": "markdown",
   "metadata": {},
   "source": [
    "# Introduction to Web Scraping\n",
    "\n",
    "To begin, we will examine the reddit page dealing with Machine Learning.  Our goal is to scrape the basic information for posts.\n",
    "\n",
    "![](images/reddit.png)"
   ]
  },
  {
   "cell_type": "code",
   "execution_count": 1,
   "metadata": {},
   "outputs": [],
   "source": [
    "%matplotlib inline\n",
    "import matplotlib.pyplot as plt\n",
    "import requests\n",
    "from bs4 import BeautifulSoup\n",
    "import pandas as pd\n",
    "import numpy as np"
   ]
  },
  {
   "cell_type": "code",
   "execution_count": 5,
   "metadata": {},
   "outputs": [],
   "source": [
    "url = 'https://en.wikipedia.org/wiki/List_of_21_Jump_Street_episodes'"
   ]
  },
  {
   "cell_type": "code",
   "execution_count": 6,
   "metadata": {},
   "outputs": [],
   "source": [
    "response = requests.get(url)"
   ]
  },
  {
   "cell_type": "code",
   "execution_count": 7,
   "metadata": {},
   "outputs": [
    {
     "data": {
      "text/plain": [
       "<Response [200]>"
      ]
     },
     "execution_count": 7,
     "metadata": {},
     "output_type": "execute_result"
    }
   ],
   "source": [
    "response"
   ]
  },
  {
   "cell_type": "code",
   "execution_count": 9,
   "metadata": {},
   "outputs": [
    {
     "data": {
      "text/plain": [
       "'<!DOCTYPE html>\\n<html class=\"client-nojs\" lang=\"en\" dir=\"ltr\">\\n<head>\\n<meta charset=\"UTF-8\"/>\\n<title>List of 21 Jump Street episodes - Wikipedia</title>\\n<script>document.documentElement.className = document.documentElement.className.replace( /(^|\\\\s)client-nojs(\\\\s|$)/, \"$1client-js$2\" );</script>\\n<sc'"
      ]
     },
     "execution_count": 9,
     "metadata": {},
     "output_type": "execute_result"
    }
   ],
   "source": [
    "response.text[:300]"
   ]
  },
  {
   "cell_type": "code",
   "execution_count": 11,
   "metadata": {},
   "outputs": [],
   "source": [
    "soup = BeautifulSoup(response.text, 'html.parser')\n",
    "\n",
    "#Pass response text into Beautiful soup"
   ]
  },
  {
   "cell_type": "code",
   "execution_count": 12,
   "metadata": {},
   "outputs": [
    {
     "data": {
      "text/plain": [
       "<h2>Contents</h2>"
      ]
     },
     "execution_count": 12,
     "metadata": {},
     "output_type": "execute_result"
    }
   ],
   "source": [
    "soup.find('h2')\n",
    "\n",
    "#find anything that was a h2 header"
   ]
  },
  {
   "cell_type": "code",
   "execution_count": 15,
   "metadata": {},
   "outputs": [
    {
     "name": "stdout",
     "output_type": "stream",
     "text": [
      "Contents\n",
      "Series Overview[edit]\n",
      "Season 1 (1987)[edit]\n",
      "Season 2 (1987-88)[edit]\n",
      "Season 3 (1988-89)[edit]\n"
     ]
    }
   ],
   "source": [
    "all_h2 = soup.find_all('h2')\n",
    "for header in all_h2[:5]:\n",
    "    print(header.text)"
   ]
  },
  {
   "cell_type": "code",
   "execution_count": 16,
   "metadata": {},
   "outputs": [
    {
     "data": {
      "text/plain": [
       "'Contents'"
      ]
     },
     "execution_count": 16,
     "metadata": {},
     "output_type": "execute_result"
    }
   ],
   "source": [
    "soup.find('h2').text"
   ]
  },
  {
   "cell_type": "code",
   "execution_count": null,
   "metadata": {},
   "outputs": [],
   "source": [
    "soup.find('p')"
   ]
  },
  {
   "cell_type": "code",
   "execution_count": null,
   "metadata": {},
   "outputs": [],
   "source": [
    "len(soup.find_all('p'))"
   ]
  },
  {
   "cell_type": "code",
   "execution_count": null,
   "metadata": {},
   "outputs": [],
   "source": [
    "len(soup.find_all('h2'))"
   ]
  },
  {
   "cell_type": "code",
   "execution_count": null,
   "metadata": {},
   "outputs": [],
   "source": [
    "soup.find('a', {'data-click-id': 'body'})['href']"
   ]
  },
  {
   "cell_type": "code",
   "execution_count": null,
   "metadata": {},
   "outputs": [],
   "source": [
    "links = []\n",
    "for i in soup.find_all('a', {'data-click-id': 'body'}):\n",
    "    url_link = 'https://www.reddit.com' + i['href']\n",
    "    links.append(url_link)"
   ]
  },
  {
   "cell_type": "code",
   "execution_count": null,
   "metadata": {},
   "outputs": [],
   "source": [
    "links"
   ]
  },
  {
   "cell_type": "code",
   "execution_count": null,
   "metadata": {},
   "outputs": [],
   "source": [
    "links = []\n",
    "titles = []\n",
    "bodys = []\n",
    "for i in soup.find_all('a', {'data-click-id': 'body'}):\n",
    "    url_link = 'https://www.reddit.com' + i['href']\n",
    "    links.append(url_link)\n",
    "    response = requests.get(url_link)\n",
    "    soup2 = BeautifulSoup(response.text, 'html.parser')\n",
    "    title = soup2.find('h2')\n",
    "    body = soup2.find_all('p')\n",
    "    titles.append(title)\n",
    "    bodys.append(body)"
   ]
  },
  {
   "cell_type": "code",
   "execution_count": null,
   "metadata": {},
   "outputs": [],
   "source": [
    "import pandas as pd"
   ]
  },
  {
   "cell_type": "code",
   "execution_count": null,
   "metadata": {},
   "outputs": [],
   "source": [
    "df = pd.DataFrame({'links': links, 'title': titles, 'body': bodys})"
   ]
  },
  {
   "cell_type": "code",
   "execution_count": null,
   "metadata": {},
   "outputs": [],
   "source": [
    "df.head()"
   ]
  },
  {
   "cell_type": "markdown",
   "metadata": {},
   "source": [
    "### Wikipedia Exercise\n",
    "\n",
    "Scraping Wikipedia tables and adding information found through links.\n",
    "\n",
    "![](images/wiki_table.png)\n",
    "\n",
    "Problem:\n",
    "\n",
    "1. Create a dataframe that contains the information displayed on the Wikipedia page \"List of 2018 Albums\".\n",
    "2. What is Sub Pop releasing in 2018?\n",
    "3. Did Drake put anything out?\n",
    "4. What label is putting out the most music?  Visualize this."
   ]
  },
  {
   "cell_type": "code",
   "execution_count": null,
   "metadata": {},
   "outputs": [],
   "source": [
    "url = 'https://en.wikipedia.org/wiki/List_of_2018_albums'"
   ]
  },
  {
   "cell_type": "code",
   "execution_count": null,
   "metadata": {},
   "outputs": [],
   "source": [
    "response = requests.get(url)"
   ]
  },
  {
   "cell_type": "code",
   "execution_count": null,
   "metadata": {},
   "outputs": [],
   "source": [
    "soup = BeautifulSoup(response.text, 'html.parser')"
   ]
  },
  {
   "cell_type": "code",
   "execution_count": null,
   "metadata": {},
   "outputs": [],
   "source": [
    "soup.find('table', {'class':'wikitable'})"
   ]
  },
  {
   "cell_type": "code",
   "execution_count": 4,
   "metadata": {},
   "outputs": [],
   "source": [
    "url = 'https://www.basketball-reference.com/players/a/anthoca01.html'"
   ]
  },
  {
   "cell_type": "code",
   "execution_count": 5,
   "metadata": {},
   "outputs": [],
   "source": [
    "response = requests.get(url)"
   ]
  },
  {
   "cell_type": "code",
   "execution_count": 6,
   "metadata": {},
   "outputs": [
    {
     "data": {
      "text/plain": [
       "<Response [200]>"
      ]
     },
     "execution_count": 6,
     "metadata": {},
     "output_type": "execute_result"
    }
   ],
   "source": [
    "response"
   ]
  },
  {
   "cell_type": "code",
   "execution_count": 7,
   "metadata": {},
   "outputs": [
    {
     "data": {
      "text/plain": [
       "'\\n<!DOCTYPE html>\\n<html data-version=\"klecko-\" data-root=\"/home/bbr/build\" itemscope itemtype=\"https://schema.org/WebSite\" lang=\"en\" class=\"no-js\" >\\n<head>\\n    <meta charset=\"utf-8\">\\n    <meta http-equiv=\"x-ua-compatible\" content=\"ie=edge\">\\n    <meta name=\"viewport\" content=\"width=device-width, initial-scale=1.0, maximum-scale=2.0\" />\\n    <link rel=\"dns-prefetch\" href=\"https://d2p3bygnnzw9w3.cloudfront.net/req/201807242\" />\\n\\n<!-- no:cookie fast load the css.           -->\\n<link rel=\"preconnect\" h'"
      ]
     },
     "execution_count": 7,
     "metadata": {},
     "output_type": "execute_result"
    }
   ],
   "source": [
    "response.text[:500]"
   ]
  },
  {
   "cell_type": "code",
   "execution_count": 8,
   "metadata": {},
   "outputs": [],
   "source": [
    "soup = BeautifulSoup(response.text, 'html.parser')"
   ]
  },
  {
   "cell_type": "code",
   "execution_count": 2,
   "metadata": {},
   "outputs": [
    {
     "ename": "SyntaxError",
     "evalue": "invalid syntax (<ipython-input-2-c01b164053d6>, line 1)",
     "output_type": "error",
     "traceback": [
      "\u001b[0;36m  File \u001b[0;32m\"<ipython-input-2-c01b164053d6>\"\u001b[0;36m, line \u001b[0;32m1\u001b[0m\n\u001b[0;31m    print(soup.prettify()))\u001b[0m\n\u001b[0m                          ^\u001b[0m\n\u001b[0;31mSyntaxError\u001b[0m\u001b[0;31m:\u001b[0m invalid syntax\n"
     ]
    }
   ],
   "source": [
    "print(soup.prettify())\n",
    "\n",
    "#too big to execute"
   ]
  },
  {
   "cell_type": "code",
   "execution_count": 75,
   "metadata": {
    "scrolled": false
   },
   "outputs": [],
   "source": [
    "body = list(soup.children)[3]"
   ]
  },
  {
   "cell_type": "code",
   "execution_count": 78,
   "metadata": {},
   "outputs": [
    {
     "data": {
      "text/plain": [
       "<head>\n",
       "<meta charset=\"utf-8\"/>\n",
       "<meta content=\"ie=edge\" http-equiv=\"x-ua-compatible\"/>\n",
       "<meta content=\"width=device-width, initial-scale=1.0, maximum-scale=2.0\" name=\"viewport\">\n",
       "<link href=\"https://d2p3bygnnzw9w3.cloudfront.net/req/201807242\" rel=\"dns-prefetch\"/>\n",
       "<!-- no:cookie fast load the css.           -->\n",
       "<link crossorigin=\"\" href=\"https://d2p3bygnnzw9w3.cloudfront.net\" rel=\"preconnect\"/>\n",
       "<link crossorigin=\"\" href=\"https://d2cwpp38twqe55.cloudfront.net\" rel=\"preconnect\"/>\n",
       "<style>html,body{margin:0;padding:0;font:14px/1.25 \"Helvetica Neue\",helvetica,arial,sans-serif;color:#000}body{position:relative;background:#c9cbcd;z-index:0;-webkit-text-size-adjust:none;-moz-text-size-adjust:none;-ms-text-size-adjust:none}a img{border:0}ul,li,ol{margin:0;padding:0;list-style-type:none}table th,table td{border:0}iframe{max-width:100%}code{background:#eee}a,button,input,select,textarea,label,summary{touch-action:manipulation;-ms-touch-action:manipulation}::selection{background:#ff0;text-shadow:none}html.no-js .hasmore,html.no-js .js,html.js .no-js,html.no-js button,html.is_build .hide_build,html.is_dev .hide_dev,html.is_live .hide_live{display:none!important}.js-select{visibility:hidden}a[href]{color:#34d}a[href]:visited{color:#848}a[href]:hover{color:#5E44B3}a[href]:active{color:#b12}a[href^=\"tel:\"]:before{content:\"\\260E\";display:inline-block;margin-right:0}a[href^=\"mailto:\"]:before{content:\"\\2709\";display:inline-block;margin-right:0}.icon_group a[href^=\"tel:\"]:before,.icon_group a[href^=\"mailto:\"]:before{content:\"\"}.screen_only{display:initial}.user_logged_in .not_logged_in,.logged_in,.sr_cpi_control,.print_only{display:none}#perflog,#modernizr,.user_logged_in .logged_in{display:block}h2{color:#000;margin-bottom:5px;font-size:1.5em}img.right{float:right;margin:0 0 5px 5px}img.left{float:left;margin:0 15px 15px 0}sup{font-size:.75em;position:relative;top:-0.4em;vertical-align:baseline}#wrap{width:100%;background:#fff;position:relative}#wrap>div,#wrap>ul{width:100%;position:relative;clear:both}.hidden,#content .hidden,.gutterad,.more,.print_only,#warnings.hide,#nag_devs{display:none}#inner_nav.hidden{visibility:hidden}.float_wrap{overflow:hidden}#header{overflow:visible;background:#efeeed;border-bottom:3px solid #f8951d}#header img{height:25px;float:left;padding:8px 0 8px 2%;max-width:71%;max-width:calc(95% - 80px)}#header #nav_trigger{display:block;cursor:pointer;float:right;padding:7px 2% 7px 1%;height:30px}#header #nav_trigger a{color:#f8951d;font-size:20px;font-weight:bold;text-decoration:none;display:inline-block}#header #nav_trigger a:before{color:#f8951d;content:\"\\2630 \";font-weight:normal}#header #nav{display:none;clear:both;width:88%;background:#fff;padding:7px 6% 0;border-bottom:3px solid #f8951d;border-top:3px solid #f8951d;overflow:hidden;font-size:12px}#header #nav .usertools{font-weight:bold;font-size:12px;margin:0 0 4px;padding:7px 6% 0;border-top:1px solid #c9cbcd}#header #nav .breadcrumbs{font-size:12px;padding:7px 6%;border-top:1px solid #c9cbcd}#header #main_nav{color:#454340;overflow:hidden}#header #main_nav>li{border-top:1px solid #c9cbcd}#header #main_nav>li:first-child{border-top:none}#header #main_nav>li>a{display:block;padding:8px 0 8px 6%;font-weight:bold;text-decoration:none;font-size:1.4em}html.no-touchevents #header #main_nav>li:active{background-color:#454340}#header #main_nav>li:active>a{color:#efeeed}#header #main_nav li.current{background-color:#f8951d}#header #main_nav li.current>a{color:#efeeed}#header #nav_trigger.open{background:#f8951d}#header #nav_trigger.open a{color:#fff}#header #nav_trigger.open a:before{color:#fff}#header #nav.open{display:block}#header #main_nav .nm{display:none}#header .social{margin:15px 0;display:none}#header.open_search{margin-bottom:50px}#header #subnav{display:none}#header .search{margin-top:10px;clear:both;padding:0 2% 6px}#header .search input,#header .search input:active,#header .search input:focus{height:32px;font-size:20px}.search input[type=\"search\"]{padding:4px 5px;border:#747678 1px solid;width:73%;margin-right:2%}.search input[type=\"search\"].prefilled{background-color:#ffa}.search input[type=\"submit\"]{float:right;background:#f8951d;color:white;border:1px solid #747678;padding:0;border-radius:5px;height:24px;width:25%;width:calc(25% 0 2px)}.search input[type=\"submit\"]:hover{text-decoration:underline}.search input[type=\"submit\"]:active{background-color:#454340}.search .ac-outline{width:73%;margin-right:2%}.search .ac-outline input[type=\"search\"]{width:100%;margin:0}@media screen and (-webkit-min-device-pixel-ratio:0) and (max-width:400px){#header .search input,#header .search input:active,#header .search input:focus{height:32px;font-size:20px}}#wrap>#info{width:96%;margin:0 auto;padding-bottom:10px}#info .opener,#info .opener:active,#inner_nav div .opener{color:#900;font-weight:bold;clear:both;width:100%;text-align:left;padding:10px 0;border:none;background:transparent}#info button#meta_more_button{border:1px solid #c9cbcd;background-color:#efeeed;padding:.5em;margin:.5em 0;text-align:center;width:100%;max-width:400px;text-overflow:ellipsis;white-space:nowrap;overflow:hidden;display:none}#info button#meta_more_button.show{display:inline-block}#info #meta>div>p:nth-child(n+6){display:none}#info.open #meta>div>p:nth-child(n+6){display:block}#info #meta .opener{display:none}#info #meta{margin-top:10px;overflow:hidden}#info #meta p{font-size:.93em;margin:3px 0}#info #meta>div{}#info #meta>div.media-item{float:right;margin-left:10px;width:70px}#info #meta>div.media-item.country{width:100px;height:75px}#info #meta>div.media-item.country .flag{width:100%;height:100%;background-size:100%}#info .media-item img{width:100%;height:auto;border:1px solid black;box-sizing:border-box}#info .media-item img.additional{display:none}#info .media-item.logo img,.bbr #info .media-item img{border:none}#info #meta .media-item p{margin:3px 0;font-size:.785em;font-style:italic}#info #meta .media-item.loader p{visibility:hidden}#info h1{margin-top:0;margin-bottom:5px;line-height:1.1em;font-size:1.5em}#info h1+p{margin-top:5px}#info #bling{margin:6px 1% 6px 0;color:#fff;height:24px;overflow:hidden;float:left;width:88%;display:grid;grid-gap:5px 4px;grid-template-columns:repeat(auto-fill,minmax(100px,1fr))}#info.teams #bling{width:100%}#info #bling li{padding:4px 1.25%;text-align:center;position:relative;height:15px;background:#8f5400;font-size:.85em;word-spacing:0;white-space:nowrap;overflow:hidden;text-overflow:ellipsis;border-radius:5px;display:inline-block;width:27%;margin-bottom:5px}#info.teams #bling li{width:45%}#bling li a{color:inherit}#info #bling li.bling_hof{background-color:#ffdb1c;color:#000}#info #bling li.bling_all_star{background-color:#c9cbcd;color:#454340}#info #bling li.bling_hof,#info.teams #bling li.bling_all_star,#info.teams #bling li.bling_champ{grid-column-end:span 2}#info.open #bling{height:auto;width:100%;margin-right:0;float:none;overflow:visible}@supports(display:grid){#info #bling li,#info.open #bling li,#info.teams #bling li{width:auto!important;margin-bottom:0!important}}.uni_holder{margin:3px 0;float:none;width:100%;position:relative}#info .uni_holder{float:left}#bling+.uni_holder{width:11%}#info.open #bling+.uni_holder{width:100%;overflow:visible;float:none;margin-bottom:5px}.uni_holder>a{display:inline-block;position:relative;height:auto;width:28px;margin-bottom:3px;margin-right:.3em;text-decoration:none;overflow:hidden}.uni_holder svg{height:28px;width:28px}.uni_holder svg.jersey{height:35px}.uni_holder svg text{font-size:1.8em;font-weight:bold}.uni_holder svg text.string{font-size:1.3em}.uni_holder svg.jersey text{font-size:1.5em}.uni_holder svg.jersey text.string{font-size:.7em}#info #bling+.uni_holder>a{display:none}#info .uni_holder>a.default,#info.open .uni_holder>a,#info #bling+.uni_holder>a.default{display:inline-block}#info .uni_holder .counter{display:none;position:absolute;height:14px;width:18px;border-radius:50%;color:#fff;font-weight:bold;font-size:10px;top:-4px;left:18px;background:black;text-align:center;border:none;padding:4px 0 0;cursor:pointer;text-overflow:inherit}#info .uni_holder .counter:after{content:'';padding:0;font-size:0}#info #bling+.uni_holder .counter{display:block}#info.open #bling+.uni_holder .counter{display:none}#info.open #bling+.uni_holder>a{display:inline-block}#info.open .uni_holder>a{display:inline-block;width:33px}#info.open .uni_holder svg{height:33px;width:33px}#info.open .uni_holder svg.jersey{height:41px}.stats_pullout{overflow:hidden;text-align:center;width:96%;margin:0 auto 15px 0;padding-top:6px}.stats_pullout>div{float:left}.stats_pullout>div:first-child{text-align:left}.stats_pullout>div.p2,.stats_pullout>div.p3{display:none}.stats_pullout>div>div{float:left;margin-left:15px}.stats_pullout>div>div.p2{display:none}.stats_pullout>div:first-child>div{margin-left:0}.stats_pullout h4{color:#900;margin:2px 0;font-size:.785714286em;text-align:center}.stats_pullout p{margin:2px 0;font-size:1.1em}.stats_pullout .caption{clear:both;text-align:left}@media screen and (min-width:520px){.stats_pullout>div.p2{display:block}}@media screen and (min-width:600px){.stats_pullout>div{border-left:1px solid #c9cbcd;margin-left:10px}.stats_pullout>div:first-child{border-left:none;margin-left:0}}@media screen and (min-width:736px){.stats_pullout>div.p2{display:none}}@media screen and (min-width:800px){.stats_pullout>div.p2{display:block}.stats_pullout>div>div.p2{display:block}}.opener{cursor:pointer;position:relative;overflow:hidden;white-space:nowrap;text-overflow:ellipsis}.opener:after{content:\"\\25BC\";font-size:.75em;padding-left:5px;display:inline-block;text-decoration:none}.opener.open:after{content:\"\\25B2\"}.toggler.open{}.toggleable{display:none}.toggleable.open{display:block}tr.toggleable.open{display:table-row}table.toggleable.open{display:table}span.toggleable.open{display:inline}.hoverer{cursor:pointer}.hoverer:after{content:\"\\25BC\";position:absolute;top:7px;right:0}html.no-touchevents .hoverer:hover:after{content:\"\\25B2\"}ul.news{padding:0 10px}ul.news li{margin-bottom:3px}.section_content ul.news_stories>li{margin:5px 10px 0 0;float:none}ul.news_stories.more{display:none}ul.news_stories.more.open{display:block}.bullets{padding-left:20px}.bullets>li{margin-left:0;margin-bottom:6px}ul.bullets>li{list-style-type:disc}ol.bullets>li{list-style-type:decimal}.bullets-inline>li{display:inline-block;margin-right:9px;margin-bottom:10px}.bullets-inline>li:after{content:\"\\00B7\";margin-left:9px}.bullets-inline>li:last-child:after{content:\"\";margin-left:0}.bullets-inline>li.logged_in{display:none}.user_logged_in .bullets-inline>li.logged_in{display:inline-block}.desc{font-style:italic;font-size:.93em}.hilite{background-color:#ffa}.callout{margin:10px 0;padding:10px 15px;border:1px solid #aaa;background:#454340;color:#c9cbcd;font-size:1.1em}.callout a{color:#b3beff}.callout a:visited,.callout a:active{color:#a4adff}.callout a:hover,.callout a:visited:hover,.callout a:active:hover{color:#c4cfff}.callout.light{border-color:#404542;background:#c9cbcd;color:#404452}.callout.light a{color:#34d}.callout.light a:hover{color:#5e44b3}.note{color:#444;font-size:.92em}.header{font-weight:bold;font-size:1.16em}.pagelog{width:90%;overflow:scroll}.preformatted-desc{width:90%;overflow:auto}#info .adblock{display:none}.adblock{overflow:hidden}.adblock>p{font-size:.93em;margin:2px 0}.adblock img{display:block;margin:0 auto}.adblock{background-color:white;text-align:center}.adblock.ad728{display:none}.adblock.ad300{padding:10px}.adblock.grouped{float:left;padding:0}.adblock.ad300.grouped{float:none;padding:10px}.adblock.rails{display:none}#div-gpt-ad-728x90-BTF-1{max-height:340px}@media screen and (min-width:481px){.adblock.ad300{padding:10px 0}}@media screen and (min-width:800px){.adblock.ad728{display:block;float:none;margin-bottom:10px}.adblock.ad300{display:none}.adblock.grouped.ad728{display:none}.adblock.grouped.ad300{float:left;width:320px;background:none;padding:0;display:block}}@media screen and (min-width:1810px){.adblock.rails{display:block;height:600px;width:160px;background-color:transparent;border:1px #555 dotted;position:absolute;top:96px}.adblock.rails.left{left:0}.adblock.rails.right{right:0}}@media screen and (max-width:330px){.adblock{padding:0}.adblock.grouped{padding:0}.adblock.ad300.grouped{padding:0}}.button{background-color:#8f5400;padding:10px 15px;color:white;text-decoration:none;display:inline-block;text-align:center;font-size:1.1em;margin:10px 0;border-radius:5px;cursor:pointer}.button:active,.button:visited,a.button,a.button:visited,a.button:hover{color:white}.button.alt{background:#f8951d;border:#747678 1px solid;display:block}button.tooltip,button.modal{background:transparent;border:none;text-align:left;padding:0;color:#900}.button2{display:inline-block;border:1px solid #c9cbcd;border-radius:3px;background-color:#efeeed;font-size:.93em;font-weight:normal;margin:0 8px 0 0;padding:8px 12px;width:auto;text-align:center}#meta .button2{font-size:.785714286em;margin:0 6px 0 0;padding:8px 7px}.button2[href]{text-decoration:none}.button2.next{text-align:right}.button2.prev{text-align:left}.button2.index,.button2.index:hover,.button2.index:active,.button2.index:visited{background-color:#454340;color:#fff}.button2.index:hover{color:#ccc}.button2.current{text-align:left;background-color:#fff;border:none;font-weight:bold;padding-left:0;padding-right:0;margin-left:-8px;margin-right:0}.button2:last-child{margin-right:0}.button2.next:after{content:\"\\203A\\203A\";padding-left:6px;color:black}.button2.prev:before{content:\"\\2039\\2039\";padding-right:6px;color:black}#info_box div.prevnext{margin-left:1em}.prevnext{margin:10px 0 15px 0}#content .prevnext>*{margin:.25em}#header #main_nav>li>div{display:none;width:98%;position:absolute;top:100%;left:0;z-index:200;border-top:1px solid #454340;padding:1%;background:#fff;font-size:14px;font-weight:normal;box-shadow:0 6px 12px -3px #454340;color:black}#header #main_nav>li.drophover>div{display:block;line-height:initial}#main_nav div.name{font-weight:bold;margin:3px;width:auto}div.col1{width:90%;margin:5px 2% 5px 0;clear:both}div.col2{width:45%;margin:5px 2% 5px 0;float:left}div.col3{width:30%;margin:5px 1% 5px 0;float:left}div.col4{width:22%;margin:5px 1% 5px 0;float:left}div.col2:nth-child(4){clear:both}#main_nav td{padding:3px}#main_nav .end_links{clear:both}#main_nav .list{margin:0 0 8px;padding:3px;overflow-x:hidden;text-overflow:ellipsis}#main_nav div.list span{font-weight:bold;display:inline-block}#header_leaders div.list span{min-width:70px}#main_nav .game_summary td{padding:1px}.ac-outline{display:inline-block}.ac-wrapper{position:relative}.ac-prompt{position:absolute;font-size:16px;color:#454340;top:0;left:0;overflow:hidden;background:transparent}.ac-input:focus,.ac-input:active,.ac-hint:focus,.ac-input,.ac-hint{font-size:16px;background-color:#fff;width:100%;outline:0;border:0;margin:0;padding:0}.ac-input:focus,.ac-input:active,.ac-input{background-color:transparent}.ac-input{vertical-align:top;position:relative;color:#454340}.ac-hint{position:absolute;top:0;left:0;border-color:transparent;box-shadow:none;color:#747678}.ac-dropdown{position:absolute;visibility:hidden;padding:.5em 0;font-size:16px;background-color:#fff;z-index:100;cursor:default;overflow-x:hidden;overflow-y:scroll;width:calc(100% - 2px);min-width:380px;border:#aaa 1px solid;border-top:none}.ac-dropdown>div:first-of-type>.ac-results-header{padding-top:0}.ac-results-header{font-size:1em;padding:.35em .5em;font-weight:700}.ac-suggestion{cursor:pointer;padding:.35em 1em;font-size:1em;line-height:1em;border-top:1px solid #fff;border-bottom:1px solid #fff}.ac-suggestion p{margin:0}.ac-suggestion.active,.ac-suggestion.active .search-results-item{color:#b12;font-weight:bold}.search-results-item em{font-style:normal;border-bottom:1px dotted}.ac-suggestion.ac-is-under-cursor,html.no-touchevents .ac-suggestion:hover{border-top:1px solid #aaa!important;border-bottom:1px solid #aaa!important;background-color:#ffa!important}.ac-suggestion .subhead{margin-left:.5em;padding-top:.25em;display:block;font-size:.75em}.ac-suggestion-other-search{font-size:1em;line-height:1.2em;padding-left:.5em;color:#34d}.player_select_name{font-size:16px}.player_select_name button{font-size:2em;margin-left:10px;vertical-align:middle}.player_select_name strong{display:inline-block}.pi_forms .group input[type=\"search\"]{max-width:none;height:auto;font-size:16px;padding-bottom:3px}.pi_forms .ac-outline{width:100%;max-width:520px}@media screen and (max-width:480px){.ac-dropdown{min-width:310px}#desc_container{font-size:12px}}@media screen and (max-width:723px){.no_mobile{display:none}}@media screen and (min-width:400px){#info h1 span{display:inline-block}#info h1 span.header_end{display:inline}}@media screen and (min-width:481px){#header #nav_trigger a{font-size:24px}#header img{height:28px}#info #meta>div.media-item{width:92px}#info #meta>div.media-item.logo{width:118px}#info #meta>div.media-item.country{width:140px;height:105px}#info #meta>div>p:nth-child(6){display:block}#info #meta>div>p:nth-child(7){display:block}#info h1{font-size:1.7em}.button2,.button2.current{padding:8px 12px;margin:0 20px 0 0}}@media screen and (min-width:600px){#info #bling{grid-template-columns:repeat(auto-fill,minmax(130px,1fr))}#info.open #bling li{width:19.5%}#meta .button2{font-size:.93em;margin:0 20px 0 0;padding:8px 12px}}@media screen and (min-width:736px){.mobile_only{display:none}#wrap>#header{width:100%;padding-left:0;padding-right:0;border-bottom:none}#wrap>#srcom{width:99%;margin:0 auto}#wrap>#info{width:65%;width:calc(99% - 322px);margin:0 auto;padding-right:320px;min-height:270px}#info .adblock{display:block;position:absolute;top:0;right:0;height:270px;width:300px;padding:0}h2{font-size:1.8em;line-height:1.2em}#info h1{font-size:2em;line-height:1.1em}#info #meta{min-height:auto}#info#general #meta{min-height:auto}#info.open #bling li{width:28%}}@media screen and (min-width:800px){#info #meta>div{float:left;width:100%}#info #meta>div.media-item{float:left;margin-left:0;margin-right:10px}#info #meta>div.media-item+div{width:85%;width:calc(100% - 102px)}#info #meta>div.media-item.logo+div{width:calc(100% - 128px)}#info #meta>div.media-item.country+div{width:calc(100% - 160px)}#info #meta>div>p.opener{max-width:75%}#info.open.teams #bling li{width:45%}}@media screen and (min-width:1020px){#header #nav_trigger{display:none}#wrap>#header{border-bottom:2px solid #f8951d;overflow:visible;height:126px;background:#fff}#header img{position:absolute;top:22px;height:auto;max-height:55px;max-width:35%}#header #nav{display:block;width:100%;padding:0;margin:0;clear:none;background:#efeeed;border-top:1px solid #c9cbcd;border-bottom:none;overflow:visible;height:30px;position:absolute;bottom:0}#header #nav>*{display:none}#header #nav>#main_nav{display:block;color:#454340;text-align:left;margin-bottom:0;border:none;overflow:visible}#header #main_nav ul{border:none;position:relative}#header #main_nav>li{border:none;width:auto;white-space:nowrap;float:left;color:#454340;font-size:1.16666667em;font-weight:bold;height:14px;padding:8px 2.2%;line-height:12px}#header #main_nav>li>a{color:#454340;padding:0;position:relative;font-size:1em}#header #main_nav>li.current>a{color:#fff}#header #main_nav>li.nm{display:block}#header #main_nav>li.m{display:none}#header #main_nav>li.hasmore>a:after{content:\"\";display:none}#header #main_nav>li.hasmore.drophover>a:after{content:\"\";display:none}#header #main_nav li:nth-child(even){border:none}#header #main_nav>li.drophover,#header #main_nav>li:not(.hasmore):hover,#inner_nav>ul>li.drophover{background:#454340}#header #main_nav>li.drophover>a,#header #main_nav>li:not(.hasmore):hover>a,#inner_nav>ul>li.drophover>a{color:#fff}#header #main_nav>li.drophover>span,#header #main_nav>li:not(.hasmore):hover>span,#inner_nav>ul>li.drophover>span{color:#fff}#header #main_nav>li>div>ul{overflow:hidden;margin-top:10px;margin-bottom:10px}#header #main_nav>li>div>ul>li{width:18%;margin-right:2%;margin-bottom:8px;float:left}html.no-touchevents .hasmore>div{position:absolute;left:-999em}html.no-touchevents .hasmore.drophover>div{z-index:69;left:0;box-shadow:0 6px 12px -3px #454340}#header #subnav{display:block;color:#c9cbcd;background-color:#454340;width:100%;padding:0;height:22px}#header #subnav>li{font-size:.785714286em;float:left;padding:6px 10px 2px;margin-top:4px;vertical-align:top;position:relative;border-left:1px solid #747678;line-height:.2em;height:8px}#header #subnav>li:first-child{display:block;border-left:none}#header #subnav>li:nth-child(n+10){float:right;border-left:none;border-right:1px solid #747678}#header #subnav>li:last-child{display:none}#header #subnav>li:last-child(2){border-right:none}#header #subnav>li.current a{color:#fff}#header #subnav li a{color:#c9cbcd;text-decoration:none}#header #subnav li a:hover{color:#fff;text-decoration:underline}#header #subnav li svg{vertical-align:top;margin-top:-6px}#header .search{position:relative;float:right;padding:0;width:60%;max-width:700px;clear:none;margin-right:12px;margin-top:17px}#wrap #info{overflow:hidden;margin-bottom:8px}#info #meta{margin-top:0;margin-bottom:10px;padding-top:15px;float:left;width:100%}#info.players #meta,#info.teams #meta,#info.schools #meta{width:70%;width:calc(100% - 265px)}#info #bling,#info.open #bling,#info.teams #bling{float:right;width:250px;height:auto;margin-top:10px;margin-right:0;grid-template-columns:repeat(auto-fill,minmax(120px,1fr))}#info #bling li,#info.open #bling li{width:45%}#info.teams #bling li,#info.open.teams #bling li{width:92%}#info .opener{}#info #meta>div>p.opener{display:none}#info #meta>div>p:nth-child(6){display:none}#info #meta>div>p:nth-child(7){display:none}#info.teams #meta>div>p:nth-child(n+6){display:block}#info.teams #meta>div>p:nth-child(n+11){display:none}#info.teams.open #meta>div>p:nth-child(n+11){display:block}#info.leagues #meta>div>p:nth-child(n+6){display:block}#info.leagues #meta>div>p:nth-child(n+11){display:none}#info.leagues.open #meta>div>p:nth-child(n+11){display:block}#info .adblock>div{margin-top:2px}.uni_holder{float:right;clear:right;width:250px;margin-top:10px}.uni_holder>a{border-width:5px;float:none;width:42px;margin-right:.3em}.uni_holder svg{height:42px;width:42px}.uni_holder svg.jersey{height:52px}#info .uni_holder{float:right}#info .uni_holder>a,#info #bling+.uni_holder>a{display:inline-block}#bling+.uni_holder,#info.open #bling+.uni_holder{margin-top:0;width:250px;float:right}#info #bling+.uni_holder .counter{display:none}#info.open .uni_holder>a{width:42px}#info.open .uni_holder svg{height:42px;width:42px}#info.open .uni_holder svg.jersey{height:52px}.stats_pullout>div.p3{display:block}#bling li:after{content:\"\";position:absolute;top:-110%;left:-210%;width:150%;height:200%;opacity:0;transform:rotate(10deg);background:rgba(255,255,255,0.13);background:linear-gradient(to right,rgba(255,255,255,0.13) 0,rgba(255,255,255,0.13) 77%,rgba(255,255,255,0.5) 92%,rgba(255,255,255,0.0) 100%)}#bling li:hover:after{opacity:1;top:-63%;left:-26%;transition-property:left,top,opacity;transition-duration:.7s,0.7s,0.15s;transition-timing-function:ease}#bling li:active:after{opacity:0}.adblock.ad728{display:block;float:left}.adblock.grouped.ad300{display:none}}@media screen and (min-width:1160px){#header #main_nav>li{padding:8px 2.5%}#info #meta>div.media-item{margin-right:20px;width:92px}#info #meta>div.media-item.logo{margin-right:10px;width:125px}#info #meta>div.media-item.country{width:160px;height:120px}#info #meta>div.media-item.logo>img{height:125px;width:125px}#info #meta>div.media-item+div{width:calc(100% - 112px)}#info #meta>div.media-item.logo+div{width:calc(100% - 135px)}#info #meta>div.media-item.country+div{width:calc(100% - 180px)}#info #meta>div.media-item.multiple:hover img.additional{display:block}#info #meta>div.media-item.multiple:hover{position:fixed;z-index:200;width:auto;background-color:rgba(200,200,200,0.8);padding:5px;border:1px solid black}#info #meta>div.media-item.multiple:hover+div{margin-left:112px}#info #meta>div.media-item.multiple:hover img{width:92px;float:left;margin-right:10px}#info #meta>div.media-item.multiple:hover img:last-child{margin-right:0}#info #meta>div.media-item.multiple:hover:after{content:'Order may not be chronological';font display:block;background:rgba(200,200,200,1);float:right;clear:left;padding:2px 5px;font-size:.83em}.stats_pullout>div>div{margin-left:21px}.stats_pullout p{font-size:1em}}@media screen and (min-width:1478px){#wrap{width:1450px;border-left:1px solid #747678;border-right:1px solid #747678;box-shadow:0 0 27px #454340;margin:0 auto}.sr_expanded>#wrap{width:100%;border:0;box-shadow:none}#header #subnav>li:last-child{display:block}#info #meta>div>p:nth-child(6){display:block}#info #meta>div>p:nth-child(7){display:block}}.f-i,#footer,#content,#inner_nav,#srcom{display:none}</style>\n",
       "<link as=\"style\" crossorigin=\"\" href=\"https://d2p3bygnnzw9w3.cloudfront.net/req/201807242/css/bbr/sr-min.css\" onload=\"this.rel='stylesheet'\" rel=\"preload\"/>\n",
       "<noscript><link href=\"https://d2p3bygnnzw9w3.cloudfront.net/req/201807242/css/bbr/sr-min.css\" rel=\"stylesheet\" type=\"text/css\"/></noscript>\n",
       "<link as=\"script\" crossorigin=\"\" href=\"https://d2p3bygnnzw9w3.cloudfront.net/req/201807242/js/bbr/sr-min.js\" rel=\"preload\"/>\n",
       "<link as=\"fetch\" crossorigin=\"\" href=\"https://d2p3bygnnzw9w3.cloudfront.net/req/201807242/icons/sr_icons-min.svg?bbr\" rel=\"preload\"/>\n",
       "<link as=\"fetch\" crossorigin=\"\" href=\"https://d2cwpp38twqe55.cloudfront.net/short/inc/main_nav_menu.json\" rel=\"preload\"/>\n",
       "<link as=\"image\" crossorigin=\"\" href=\"https://d2p3bygnnzw9w3.cloudfront.net/req/201604190/images/chosen-sprite.png\" rel=\"preload\"/>\n",
       "<link crossorigin=\"\" href=\"https://www.google-analytics.com\" rel=\"preconnect\"/>\n",
       "<link crossorigin=\"\" href=\"https://www.googletagservices.com\" rel=\"preconnect\"/>\n",
       "<script class=\"allowed\">var sr_is_production = true;\n",
       "function vjs_ready(e){\"loading\"!=document.readyState?e():document.addEventListener(\"DOMContentLoaded\",e)}var log_performance=!1,is_new_jscss_version=!1,sr_detect_operaMini=navigator.userAgent.indexOf(\"Opera Mini\")>-1;sr_detect_operaMini&&((el=document.querySelector(\"html\")).className=el.className.concat(\" operamini\"));var sr_detect_firefox=navigator.userAgent.indexOf(\"Firefox\")>-1;sr_detect_firefox&&((el=document.querySelector(\"html\")).className=el.className.concat(\" firefox\"));var sr_detect_firefoxMobile=navigator.userAgent.indexOf(\"Firefox\")>-1&&(navigator.userAgent.indexOf(\"Mobile\")>-1||navigator.userAgent.indexOf(\"Tablet\")>-1);sr_detect_firefoxMobile&&((el=document.querySelector(\"html\")).className=el.className.concat(\" firefox-mobile\"));var sr_detect_ie=function(){var e=window.navigator.userAgent;if(e.indexOf(\"Trident/7.0\")>0)return 11;if(e.indexOf(\"Trident/6.0\")>0)return 10;if(e.indexOf(\"Trident/5.0\")>0)return 9;for(var t=3,n=document.createElement(\"div\"),r=n.getElementsByTagName(\"i\");n.innerHTML=\"\\x3c!--[if gt IE \"+ ++t+\"]><i></i><![endif]--\\x3e\",r[0];);return t>4&&t}(),sr_detect_edge=!sr_detect_ie&&!!window.StyleMedia,sr_detect_safari=/Safari/.test(navigator.userAgent)&&/Apple Computer/.test(navigator.vendor),el=document.querySelector(\"html\"),className=\"no-js\";el.classList?el.classList.remove(className):el.className=el.className.replace(new RegExp(\"(^|\\\\b)\"+className.split(\" \").join(\"|\")+\"(\\\\b|)\",\"gi\"),\" \"),el.className=el.className.concat(\" js\"),function(e,t,n){function r(e,t){return typeof e===t}function o(){return\"function\"!=typeof t.createElement?t.createElement(arguments[0]):x?t.createElementNS.call(t,\"http://www.w3.org/2000/svg\",arguments[0]):t.createElement.apply(t,arguments)}function i(){var e=t.body;return e||(e=o(x?\"svg\":\"body\"),e.fake=!0),e}function a(e,n,r,a){var s,l,c,d,u=\"modernizr\",f=o(\"div\"),m=i();if(parseInt(r,10))for(;r--;)c=o(\"div\"),c.id=a?a[r]:u+(r+1),f.appendChild(c);return s=o(\"style\"),s.type=\"text/css\",s.id=\"s\"+u,(m.fake?m:f).appendChild(s),m.appendChild(f),s.styleSheet?s.styleSheet.cssText=e:s.appendChild(t.createTextNode(e)),f.id=u,m.fake&&(m.style.background=\"\",m.style.overflow=\"hidden\",d=M.style.overflow,M.style.overflow=\"hidden\",M.appendChild(m)),l=n(f,e),m.fake?(m.parentNode.removeChild(m),M.style.overflow=d,M.offsetHeight):f.parentNode.removeChild(f),!!l}function s(e){return e.replace(/([a-z])-([a-z])/g,function(e,t,n){return t+n.toUpperCase()}).replace(/^-/,\"\")}function l(e,t){return!!~(\"\"+e).indexOf(t)}function c(e,t){return function(){return e.apply(t,arguments)}}function d(e,t,n){var o;for(var i in e)if(e[i]in t)return!1===n?e[i]:(o=t[e[i]],r(o,\"function\")?c(o,n||t):o);return!1}function u(e){return e.replace(/([A-Z])/g,function(e,t){return\"-\"+t.toLowerCase()}).replace(/^ms-/,\"-ms-\")}function f(t,n,r){var o;if(\"getComputedStyle\"in e){o=getComputedStyle.call(e,t,n);var i=e.console;null!==o?r&&(o=o.getPropertyValue(r)):i&&i[i.error?\"error\":\"log\"].call(i,\"getComputedStyle returning null, its possible modernizr test results are inaccurate\")}else o=!n&&t.currentStyle&&t.currentStyle[r];return o}function m(t,r){var o=t.length;if(\"CSS\"in e&&\"supports\"in e.CSS){for(;o--;)if(e.CSS.supports(u(t[o]),r))return!0;return!1}if(\"CSSSupportsRule\"in e){for(var i=[];o--;)i.push(\"(\"+u(t[o])+\":\"+r+\")\");return i=i.join(\" or \"),a(\"@supports (\"+i+\") { #modernizr { position: absolute; } }\",function(e){return\"absolute\"==f(e,null,\"position\")})}return n}function p(e,t,i,a){function c(){u&&(delete k.style,delete k.modElem)}if(a=!r(a,\"undefined\")&&a,!r(i,\"undefined\")){var d=m(e,i);if(!r(d,\"undefined\"))return d}for(var u,f,p,v,h,g=[\"modernizr\",\"tspan\",\"samp\"];!k.style&&g.length;)u=!0,k.modElem=o(g.shift()),k.style=k.modElem.style;for(p=e.length,f=0;p>f;f++)if(v=e[f],h=k.style[v],l(v,\"-\")&&(v=s(v)),k.style[v]!==n){if(a||r(i,\"undefined\"))return c(),\"pfx\"!=t||v;try{k.style[v]=i}catch(e){}if(k.style[v]!=h)return c(),\"pfx\"!=t||v}return c(),!1}function v(e,t,n,o,i){var a=e.charAt(0).toUpperCase()+e.slice(1),s=(e+\" \"+N.join(a+\" \")+a).split(\" \");return r(t,\"string\")||r(t,\"undefined\")?p(s,t,o,i):(s=(e+\" \"+T.join(a+\" \")+a).split(\" \"),d(s,t,n))}function h(e,t,r){return v(e,n,n,t,r)}var g=[],_=[],y={_version:\"3.5.0\",_config:{classPrefix:\"\",enableClasses:!0,enableJSClass:!0,usePrefixes:!0},_q:[],on:function(e,t){var n=this;setTimeout(function(){t(n[e])},0)},addTest:function(e,t,n){_.push({name:e,fn:t,options:n})},addAsyncTest:function(e){_.push({name:null,fn:e})}},b=function(){};b.prototype=y,(b=new b).addTest(\"cors\",\"XMLHttpRequest\"in e&&\"withCredentials\"in new XMLHttpRequest),b.addTest(\"cookies\",function(){try{t.cookie=\"cookietest=1\";var e=-1!=t.cookie.indexOf(\"cookietest=\");return t.cookie=\"cookietest=1; expires=Thu, 01-Jan-1970 00:00:01 GMT\",e}catch(e){return!1}}),b.addTest(\"localstorage\",function(){var e=\"modernizr\";try{return localStorage.setItem(e,e),localStorage.removeItem(e),!0}catch(e){return!1}}),b.addTest(\"sessionstorage\",function(){var e=\"modernizr\";try{return sessionStorage.setItem(e,e),sessionStorage.removeItem(e),!0}catch(e){return!1}});var w=y._config.usePrefixes?\" -webkit- -moz- -o- -ms- \".split(\" \"):[\"\",\"\"];y._prefixes=w;var M=t.documentElement,x=\"svg\"===M.nodeName.toLowerCase();x||function(e,t){function n(e,t){var n=e.createElement(\"p\"),r=e.getElementsByTagName(\"head\")[0]||e.documentElement;return n.innerHTML=\"x<style>\"+t+\"</style>\",r.insertBefore(n.lastChild,r.firstChild)}function r(){var e=w.elements;return\"string\"==typeof e?e.split(\" \"):e}function o(e){var t=b[e[_]];return t||(t={},y++,e[_]=y,b[y]=t),t}function i(e,n,r){if(n||(n=t),p)return n.createElement(e);r||(r=o(n));var i;return!(i=r.cache[e]?r.cache[e].cloneNode():g.test(e)?(r.cache[e]=r.createElem(e)).cloneNode():r.createElem(e)).canHaveChildren||h.test(e)||i.tagUrn?i:r.frag.appendChild(i)}function a(e,t){t.cache||(t.cache={},t.createElem=e.createElement,t.createFrag=e.createDocumentFragment,t.frag=t.createFrag()),e.createElement=function(n){return w.shivMethods?i(n,e,t):t.createElem(n)},e.createDocumentFragment=Function(\"h,f\",\"return function(){var n=f.cloneNode(),c=n.createElement;h.shivMethods&&(\"+r().join().replace(/[\\w\\-:]+/g,function(e){return t.createElem(e),t.frag.createElement(e),'c(\"'+e+'\")'})+\");return n}\")(w,t.frag)}function s(e){e||(e=t);var r=o(e);return!w.shivCSS||m||r.hasCSS||(r.hasCSS=!!n(e,\"article,aside,dialog,figcaption,figure,footer,header,hgroup,main,nav,section{display:block}mark{background:#FF0;color:#000}template{display:none}\")),p||a(e,r),e}function l(e){for(var t,n=e.getElementsByTagName(\"*\"),o=n.length,i=RegExp(\"^(?:\"+r().join(\"|\")+\")\",\"i\"),a=[];o--;)t=n[o],i.test(t.nodeName)&&a.push(t.applyElement(c(t)));return a}function c(e){for(var t,n=e.attributes,r=n.length,o=e.ownerDocument.createElement(x+\":\"+e.nodeName);r--;)(t=n[r]).specified&&o.setAttribute(t.nodeName,t.nodeValue);return o.style.cssText=e.style.cssText,o}function d(e){for(var t,n=e.split(\"{\"),o=n.length,i=RegExp(\"(^|[\\\\s,>+~])(\"+r().join(\"|\")+\")(?=[[\\\\s,>+~#.:]|)\",\"gi\"),a=\"1\"+x+\"\\\\:2\";o--;)t=n[o]=n[o].split(\"}\"),t[t.length-1]=t[t.length-1].replace(i,a),n[o]=t.join(\"}\");return n.join(\"{\")}function u(e){for(var t=e.length;t--;)e[t].removeNode()}function f(e){function t(){clearTimeout(a._removeSheetTimer),r&&r.removeNode(!0),r=null}var r,i,a=o(e),s=e.namespaces,c=e.parentWindow;return!E||e.printShived?e:(void 0===s[x]&&s.add(x),c.attachEvent(\"onbeforeprint\",function(){t();for(var o,a,s,c=e.styleSheets,u=[],f=c.length,m=Array(f);f--;)m[f]=c[f];for(;s=m.pop();)if(!s.disabled&&M.test(s.media)){try{o=s.imports,a=o.length}catch(e){a=0}for(f=0;a>f;f++)m.push(o[f]);try{u.push(s.cssText)}catch(e){}}u=d(u.reverse().join(\"\")),i=l(e),r=n(e,u)}),c.attachEvent(\"onafterprint\",function(){u(i),clearTimeout(a._removeSheetTimer),a._removeSheetTimer=setTimeout(t,500)}),e.printShived=!0,e)}var m,p,v=e.html5||{},h=/^<|^(?:button|map|select|textarea|object|iframe|option|optgroup)/i,g=/^(?:a|b|code|div|fieldset|h1|h2|h3|h4|h5|h6|i|label|li|ol|p|q|span|strong|style|table|tbody|td|th|tr|ul)/i,_=\"_html5shiv\",y=0,b={};!function(){try{var e=t.createElement(\"a\");e.innerHTML=\"<xyz></xyz>\",m=\"hidden\"in e,p=1==e.childNodes.length||function(){t.createElement(\"a\");var e=t.createDocumentFragment();return void 0===e.cloneNode||void 0===e.createDocumentFragment||void 0===e.createElement}()}catch(e){m=!0,p=!0}}();var w={elements:v.elements||\"abbr article aside audio bdi canvas data datalist details dialog figcaption figure footer header hgroup main mark meter nav output picture progress section summary template time video\",version:\"3.7.3\",shivCSS:!1!==v.shivCSS,supportsUnknownElements:p,shivMethods:!1!==v.shivMethods,type:\"default\",shivDocument:s,createElement:i,createDocumentFragment:function(e,n){if(e||(e=t),p)return e.createDocumentFragment();for(var i=(n=n||o(e)).frag.cloneNode(),a=0,s=r(),l=s.length;l>a;a++)i.createElement(s[a]);return i},addElements:function(e,t){var n=w.elements;\"string\"!=typeof n&&(n=n.join(\" \")),\"string\"!=typeof e&&(e=e.join(\" \")),w.elements=n+\" \"+e,s(t)}};e.html5=w,s(t);var M=/^|\\b(?:all|print)\\b/,x=\"html5shiv\",E=!p&&function(){var n=t.documentElement;return!(void 0===t.namespaces||void 0===t.parentWindow||void 0===n.applyElement||void 0===n.removeNode||void 0===e.attachEvent)}();w.type+=\" print\",w.shivPrint=f,f(t),\"object\"==typeof module&&module.exports&&(module.exports=w)}(void 0!==e?e:this,t),b.addTest(\"canvas\",function(){var e=o(\"canvas\");return!(!e.getContext||!e.getContext(\"2d\"))});var E=function(){var e=!(\"onblur\"in t.documentElement);return function(t,r){var i;return!!t&&(r&&\"string\"!=typeof r||(r=o(r||\"div\")),t=\"on\"+t,!(i=t in r)&&e&&(r.setAttribute||(r=o(\"div\")),r.setAttribute(t,\"\"),i=\"function\"==typeof r[t],r[t]!==n&&(r[t]=n),r.removeAttribute(t)),i)}}();y.hasEvent=E;var S=y.testStyles=a;b.addTest(\"touchevents\",function(){var n;if(\"ontouchstart\"in e||e.DocumentTouch&&t instanceof DocumentTouch)n=!0;else{var r=[\"@media (\",w.join(\"touch-enabled),(\"),\"heartz\",\")\",\"{#modernizr{top:9px;position:absolute}}\"].join(\"\");S(r,function(e){n=9===e.offsetTop})}return n}),b.addTest(\"unicode\",function(){var e,t=o(\"span\"),n=o(\"span\");return S(\"#modernizr{font-family:Arial,sans;font-size:300em;}\",function(r){t.innerHTML=x?\"妇\":\"&#5987;\",n.innerHTML=x?\"☆\":\"&#9734;\",r.appendChild(t),r.appendChild(n),e=\"offsetWidth\"in t&&t.offsetWidth!==n.offsetWidth}),e});var z=\"Moz O ms Webkit\",T=y._config.usePrefixes?z.toLowerCase().split(\" \"):[];y._domPrefixes=T,b.addTest(\"pointerevents\",function(){var e=!1,t=T.length;for(e=b.hasEvent(\"pointerdown\");t--&&!e;)E(T[t]+\"pointerdown\")&&(e=!0);return e});var N=y._config.usePrefixes?z.split(\" \"):[];y._cssomPrefixes=N;var C=function(t){var r,o=w.length,i=e.CSSRule;if(void 0===i)return n;if(!t)return!1;if(t=t.replace(/^@/,\"\"),(r=t.replace(/-/g,\"_\").toUpperCase()+\"_RULE\")in i)return\"@\"+t;for(var a=0;o>a;a++){var s=w[a];if(s.toUpperCase()+\"_\"+r in i)return\"@-\"+s.toLowerCase()+\"-\"+t}return!1};y.atRule=C;var L={elem:o(\"modernizr\")};b._q.push(function(){delete L.elem});var k={style:L.elem.style};b._q.unshift(function(){delete k.style}),y.testAllProps=v,y.testAllProps=h,b.addTest(\"flexwrap\",h(\"flexWrap\",\"wrap\",!0));var j=y.prefixed=function(e,t,n){return 0===e.indexOf(\"@\")?C(e):(-1!=e.indexOf(\"-\")&&(e=s(e)),t?v(e,t,n):v(e,\"pfx\"))};b.addTest(\"matchmedia\",!!j(\"matchMedia\",e)),b.addTest(\"vibrate\",!!j(\"vibrate\",navigator)),function(){var e,t,n,o,i,a,s;for(var l in _)if(_.hasOwnProperty(l)){if(e=[],(t=_[l]).name&&(e.push(t.name.toLowerCase()),t.options&&t.options.aliases&&t.options.aliases.length))for(n=0;n<t.options.aliases.length;n++)e.push(t.options.aliases[n].toLowerCase());for(o=r(t.fn,\"function\")?t.fn():t.fn,i=0;i<e.length;i++)a=e[i],1===(s=a.split(\".\")).length?b[s[0]]=o:(!b[s[0]]||b[s[0]]instanceof Boolean||(b[s[0]]=new Boolean(b[s[0]])),b[s[0]][s[1]]=o),g.push((o?\"\":\"no-\")+s.join(\"-\"))}}(),function(e){var t=M.className,n=b._config.classPrefix||\"\";if(x&&(t=t.baseVal),b._config.enableJSClass){var r=new RegExp(\"(^|\\\\s)\"+n+\"no-js(\\\\s|)\");t=t.replace(r,\"1\"+n+\"js2\")}b._config.enableClasses&&(t+=\" \"+n+e.join(\" \"+n),x?M.className.baseVal=t:M.className=t)}(g),delete y.addTest,delete y.addAsyncTest;for(var A=0;A<b._q.length;A++)b._q[A]();e.Modernizr=b}(window,document),Modernizr.viewport_width=Math.max(document.documentElement.clientWidth,window.innerWidth||0),Modernizr.viewport_height=Math.max(document.documentElement.clientHeight,window.innerHeight||0),Modernizr.narrow=Modernizr.viewport_width<=704,Modernizr.constrained=Modernizr.viewport_width<=1200,Modernizr.site_menu=Modernizr.viewport_width<=1020?\"button\":\"nav_bar\",Modernizr.touch=Modernizr.touchevents||Modernizr.pointerevents&&(navigator.MaxTouchPoints>0||navigator.msMaxTouchPoints>0),Modernizr.phone=Modernizr.narrow&&Modernizr.touch,Modernizr.tablet=Modernizr.viewport_width<1075&&Modernizr.touch,Modernizr.desktop=!Modernizr.constrained&&!Modernizr.touch,Modernizr.laptop=!(Modernizr.desktop||Modernizr.tablet||Modernizr.phone);var patt=new RegExp(\"hideallads\");Modernizr.adfree=patt.test(window.location.href);var sr_html=document.querySelector(\"html\"),cn=sr_html.className;Modernizr.phone?sr_html.className=cn.concat(\" phone\"):Modernizr.tablet?sr_html.className=cn.concat(\" tablet\"):(Modernizr.desktop||Modernizr.laptop)&&(sr_html.className=cn.concat(\" desktop\"));var sr_host_parts=window.location.hostname.split(\".\"),cn=sr_html.className;Modernizr.is_build=Modernizr.is_live=Modernizr.is_dev=!1,\"b\"===sr_host_parts[0]?(Modernizr.is_build=!0,sr_html.className=cn.concat(\" is_build\")):\"d\"===sr_host_parts[0]||\"r\"===sr_host_parts[0]?(Modernizr.is_dev=!0,sr_html.className=cn.concat(\" is_dev\")):\"www\"===sr_host_parts[0]&&(Modernizr.is_live=!0,sr_html.className=cn.concat(\" is_live\"));var sr_logger=function(){var e=null,t={};return t.enableLogger=function(){null!=e&&(window.console.log=e)},t.disableLogger=function(){e=console.log,window.console.log=function(){}},t}();sr_is_production&&sr_logger.disableLogger(),Modernizr.is_modern=(Modernizr.canvas||Modernizr.localstorage)&&!sr_detect_operaMini,Modernizr.is_modern?(document.documentElement.className+=\" is_modern\",Modernizr.is_not_modern=!1):(document.documentElement.className+=\" is_not_modern\",Modernizr.is_not_modern=!0);var sr_utilities_js_loader=[];!function(e){var t=function(t,n){\"use strict\";var r=e.document.getElementsByTagName(\"script\")[0],o=e.document.createElement(\"script\");return o.src=t,o.async=!0,r.parentNode.insertBefore(o,r),n&&\"function\"==typeof n&&(o.onload=n),o};\"undefined\"!=typeof module?module.exports=t:e.loadJS=t}(\"undefined\"!=typeof global?global:this),function(e){\"use strict\";var t=function(t,n,r){function o(e){if(s.body)return e();setTimeout(function(){o(e)})}function i(){l.addEventListener&&l.removeEventListener(\"load\",i),l.media=r||\"all\"}var a,s=e.document,l=s.createElement(\"link\");if(n)a=n;else{var c=(s.body||s.getElementsByTagName(\"head\")[0]).childNodes;a=c[c.length-1]}var d=s.styleSheets;l.rel=\"stylesheet\",l.href=t,l.media=\"only x\",o(function(){a.parentNode.insertBefore(l,n?a:a.nextSibling)});var u=function(e){for(var t=l.href,n=d.length;n--;)if(d[n].href===t)return e();setTimeout(function(){u(e)})};return l.addEventListener&&l.addEventListener(\"load\",i),l.onloadcssdefined=u,u(i),l};\"undefined\"!=typeof exports?exports.loadCSS=t:e.loadCSS=t}(\"undefined\"!=typeof global?global:this),function(e){if(e.loadCSS){var t=loadCSS.relpreload={};if(t.support=function(){try{return e.document.createElement(\"link\").relList.supports(\"preload\")}catch(e){return!1}},t.poly=function(){for(var t=e.document.getElementsByTagName(\"link\"),n=0;n<t.length;n++){var r=t[n];\"preload\"===r.rel&&\"style\"===r.getAttribute(\"as\")&&(e.loadCSS(r.href,r,r.getAttribute(\"media\")),r.rel=null)}},!t.support()){t.poly();var n=e.setInterval(t.poly,300);e.addEventListener&&e.addEventListener(\"load\",function(){t.poly(),e.clearInterval(n)}),e.attachEvent&&e.attachEvent(\"onload\",function(){e.clearInterval(n)})}}}(this);var sr_time_begin=new Date,sr_perf_startTime=new Date,sr_perf_log=\"<strong>Performance:</strong>\",sr_perf_lastTime=new Date;\n",
       "\n",
       "</script>\n",
       "<script>\n",
       "if (Modernizr.is_modern) { loadJS( \"https://d2p3bygnnzw9w3.cloudfront.net/req/201807242/js/bbr/sr-min.js\"     , function() { vjs_ready(sr_fire_js); }); }\n",
       "else                     { loadJS( \"https://d2p3bygnnzw9w3.cloudfront.net/req/201807242/js/bbr/sr-basic-min.js\", function() { vjs_ready(sr_fire_js); }); }\n",
       "</script>\n",
       "<script>sr_utilities_js_loader.push(function() { vjs_createCookie('srcssfull', 'yes', 0.5 )});</script>\n",
       "<title>Carmelo Anthony Stats | Basketball-Reference.com</title>\n",
       "<meta content=\"20:18:00 27-Jul-2018\" name=\"revised\">\n",
       "<meta content=\"True\" name=\"HandheldFriendly\"/>\n",
       "<meta content=\"True\" name=\"HandheldFriendly\"/>\n",
       "<meta content=\"build_player_page.pl\" name=\"generated-by\"/>\n",
       "<meta content=\"telephone=no\" name=\"format-detection\"/>\n",
       "<meta content=\"yes\" name=\"apple-mobile-web-app-capable\"/>\n",
       "<meta content=\"#4d4438\" name=\"theme-color\"/>\n",
       "<meta content=\"#4d4438\" name=\"msapplication-navbutton-color\"/>\n",
       "<meta content=\"#4d4438\" name=\"apple-mobile-web-app-status-bar-style\"/>\n",
       "<meta content=\"stats, NBA, players, Carmelo Anthony, career\" name=\"keywords\"/>\n",
       "<link href=\"https://www.basketball-reference.com/players/a/anthoca01.html\" rel=\"canonical\">\n",
       "<meta content=\"https://www.basketball-reference.com\" itemprop=\"url\"/>\n",
       "<meta content=\"Basketball Reference\" itemprop=\"name\"/>\n",
       "<meta content=\"BkRef\" itemprop=\"alternateName\"/>\n",
       "<meta content=\"Carmelo Anthony - Career stats, game logs, biographical info, awards, and achievements for the NBA and NCAA.\" name=\"Description\"/>\n",
       "<meta content=\"\" property=\"fb:app_id\"/>\n",
       "<meta content=\"https://www.basketball-reference.com/players/a/anthoca01.html\" property=\"og:url\"/>\n",
       "<meta content=\"Carmelo Anthony Stats | Basketball-Reference.com\" property=\"og:title\"/>\n",
       "<meta content=\"Basketball-Reference.com\" property=\"og:site_name\"/>\n",
       "<meta content=\"    Athlete\" property=\"og:type\">\n",
       "<meta content=\"Carmelo Anthony - Career stats, game logs, biographical info, awards, and achievements for the NBA and NCAA.\" property=\"og:description\"/>\n",
       "<meta content=\"http://ssref.net/scripts/image_resize.cgi?min=200&amp;url=https://d2cwpp38twqe55.cloudfront.net/req/201807091/images/players/anthoca01.jpg\" property=\"og:image\"/>\n",
       "<meta content=\"summary\" name=\"twitter:card\"/>\n",
       "<meta content=\"@bball_ref\" name=\"twitter:site\"/>\n",
       "<meta content=\"@bball_ref\" name=\"twitter:creator\"/>\n",
       "<meta content=\"http://ssref.net/scripts/image_resize.cgi?min=200&amp;url=https://d2cwpp38twqe55.cloudfront.net/req/201807091/images/players/anthoca01.jpg\" property=\"twitter:image\"/>\n",
       "<meta content=\"Basketball-Reference.com\" name=\"twitter:domain\"/>\n",
       "<meta content=\"unsafe-url\" name=\"referrer\"/>\n",
       "<!-- tiles, touch, favicons -->\n",
       "<link href=\"https://d2p3bygnnzw9w3.cloudfront.net/req/201807242/favicons/bbr/apple-touch-icon-192x192-precomposed.png\" rel=\"icon\" sizes=\"192x192\"/>\n",
       "<link href=\"https://d2p3bygnnzw9w3.cloudfront.net/req/201807242/favicons/bbr/apple-touch-icon-228x228-precomposed.png\" rel=\"apple-touch-icon\" sizes=\"228x228\"/>\n",
       "<link href=\"https://d2p3bygnnzw9w3.cloudfront.net/req/201807242/favicons/bbr/apple-touch-icon-195x195-precomposed.png\" rel=\"apple-touch-icon\" sizes=\"195x195\"/>\n",
       "<link href=\"https://d2p3bygnnzw9w3.cloudfront.net/req/201807242/favicons/bbr/apple-touch-icon-180x180-precomposed.png\" rel=\"apple-touch-icon\" sizes=\"180x180\"/>\n",
       "<link href=\"https://d2p3bygnnzw9w3.cloudfront.net/req/201807242/favicons/bbr/apple-touch-icon-152x152-precomposed.png\" rel=\"apple-touch-icon\" sizes=\"152x152\"/>\n",
       "<link href=\"https://d2p3bygnnzw9w3.cloudfront.net/req/201807242/favicons/bbr/apple-touch-icon-144x144-precomposed.png\" rel=\"apple-touch-icon\" sizes=\"144x144\"/>\n",
       "<link href=\"https://d2p3bygnnzw9w3.cloudfront.net/req/201807242/favicons/bbr/apple-touch-icon-128x128-precomposed.png\" rel=\"apple-touch-icon\" sizes=\"128x128\"/>\n",
       "<link href=\"https://d2p3bygnnzw9w3.cloudfront.net/req/201807242/favicons/bbr/apple-touch-icon-120x120-precomposed.png\" rel=\"apple-touch-icon\" sizes=\"120x120\"/>\n",
       "<link href=\"https://d2p3bygnnzw9w3.cloudfront.net/req/201807242/favicons/bbr/apple-touch-icon-114x114-precomposed.png\" rel=\"apple-touch-icon\" sizes=\"114x114\"/>\n",
       "<link href=\"https://d2p3bygnnzw9w3.cloudfront.net/req/201807242/favicons/bbr/apple-touch-icon-76x76-precomposed.png\" rel=\"apple-touch-icon\" sizes=\"76x76\"/>\n",
       "<link href=\"https://d2p3bygnnzw9w3.cloudfront.net/req/201807242/favicons/bbr/apple-touch-icon-72x72-precomposed.png\" rel=\"apple-touch-icon\" sizes=\"72x72\"/>\n",
       "<link href=\"https://d2p3bygnnzw9w3.cloudfront.net/req/201807242/favicons/bbr/apple-touch-icon-57x57-precomposed.png\" rel=\"apple-touch-icon\" sizes=\"57x57\"/>\n",
       "<link href=\"https://d2p3bygnnzw9w3.cloudfront.net/req/201807242/favicons/bbr/favicon-32.png\" rel=\"icon\" sizes=\"32x32\"/>\n",
       "<!--[if IE]>\n",
       "    <link rel=\"shortcut icon\"                                href=\"https://d2p3bygnnzw9w3.cloudfront.net/req/201807242/favicons/bbr/favicon.ico\"><![endif]-->\n",
       "<meta content=\"#905500\" name=\"msapplication-TileColor\">\n",
       "<meta content=\"https://d2p3bygnnzw9w3.cloudfront.net/req/201807242/favicons/bbr/ms-tile-144.png\" name=\"msapplication-TileImage\">\n",
       "<link href=\"https://d2p3bygnnzw9w3.cloudfront.net/req/201807242/opensearch/opensearch-bbr.xml\" rel=\"search\" title=\" Player and Team Search\" type=\"application/opensearchdescription+xml\"/>\n",
       "<script>\n",
       "    var freestar = freestar || {};\n",
       "    freestar.config = freestar.config || {};\n",
       "    freestar.config.enabled_slots = [ \"div-gpt-ad-300x250-ATF\",\"div-gpt-ad-728x90-ATF\",\"div-gpt-ad-728x90-BTF-1\",\"div-gpt-ad-728x90-BTF-2\",\"div-gpt-ad-728x90-BTF-3\",\"div-gpt-ad-728x90-Footer\" ];\n",
       "    if (sr_detect_ie || sr_detect_edge || Modernizr.adfree || document.getElementById('sr_suppress_ads') || Modernizr.viewport_width < 1810) {\n",
       "    // do not include the rails\n",
       "    }\n",
       "    else {\n",
       "         freestar.config.enabled_slots.push('div-gpt-ad-160x600-1');\n",
       "         freestar.config.enabled_slots.push('div-gpt-ad-160x600-2');\n",
       "    } \n",
       "\n",
       "</script>\n",
       "<script data-cfasync=\"false\" type=\"text/javascript\">\n",
       "    var fs_debug = window.location.search.indexOf('fsdebug') == -1 ? false : true;\n",
       "    freestar.hitTime = Date.now();\n",
       "    freestar.queue = freestar.queue || [];\n",
       "    freestar.config = freestar.config || {};\n",
       "    freestar.queue.push(function() {\n",
       "      // Include the line reflecting the area/section of the site you are on\n",
       "      googletag.pubads().setTargeting('sr_site_id', 'bbr');\n",
       "    });\n",
       "!function(a,b){\n",
       "    if (sr_detect_ie || sr_detect_edge || Modernizr.adfree) {\n",
       "        return;\n",
       "    }  \n",
       "    var c=b.getElementsByTagName(\"script\")[0],\n",
       "    d=b.createElement(\"script\"),\n",
       "    e=\"https://a.pub.network/basketball-reference\";\n",
       "    e+=fs_debug?\"/qa/pubfig.min.js\":\"/pubfig.min.js\",\n",
       "    d.async=!0,\n",
       "    d.src=e,\n",
       "    c.parentNode.insertBefore(d,c)\n",
       "}(window,document);\n",
       "</script>\n",
       "</meta></meta></meta></link></meta></meta></head>"
      ]
     },
     "execution_count": 78,
     "metadata": {},
     "output_type": "execute_result"
    }
   ],
   "source": [
    "list(body.children)[1]"
   ]
  },
  {
   "cell_type": "code",
   "execution_count": 9,
   "metadata": {
    "scrolled": true
   },
   "outputs": [
    {
     "data": {
      "text/plain": [
       "'\\n2003-0419DENNBASF828236.57.617.9.4260.82.6.3226.815.3.444.4495.06.4.7772.23.86.12.81.20.53.02.721.0\\n2004-0520DENNBASF757534.87.116.4.4310.62.1.2666.514.3.455.4486.17.6.7961.93.85.72.60.90.43.03.120.8\\n2005-0621DENNBASF808036.89.519.7.4810.51.9.2439.017.8.506.4937.28.9.8081.53.44.92.71.10.52.72.926.5\\n2006-0722DENNBASF656538.210.622.4.4760.62.3.26810.020.1.499.4897.18.7.8082.23.86.03.81.20.43.63.128.9\\n2007-0823DENNBASF777736.49.519.2.4920.82.1.3548.717.1.509.5116.07.7.7862.35.17.43.41.30.53.33.325.7\\n2008-0924DENNBASF666634.58.118.3.4431.02.6.3717.215.7.455.4695.67.1.7931.65.26.83.41.10.43.03.022.8\\n2009-1025DENNBASF696938.210.021.8.4580.92.7.3169.119.1.478.4787.48.9.8302.24.46.63.21.30.43.03.328.2\\n2010-1126TOTNBASF777735.78.919.5.4551.23.3.3787.616.3.470.4876.67.9.8381.55.87.32.90.90.62.72.925.6\\n2010-1126DENNBASF505035.58.719.3.4520.82.5.3337.916.8.470.4746.98.3.8231.56.17.62.80.90.62.82.725.2\\n2010-1126NYKNBASF272736.29.119.9.4612.04.6.4247.215.2.472.5106.17.0.8721.55.26.73.00.90.62.43.326.3\\n2011-1227NYKNBASF555534.18.018.6.4301.23.7.3356.814.9.454.4635.46.7.8041.64.76.33.61.10.42.62.822.6\\n2012-1328NYKNBAPF676737.010.022.2.4492.36.2.3797.616.0.476.5026.37.6.8302.04.96.92.60.80.52.63.128.7\\n2013-1429NYKNBAPF777738.79.621.3.4522.25.4.4027.515.9.469.5036.07.0.8481.96.28.13.11.20.72.62.927.4\\n2014-1530NYKNBASF404035.79.020.2.4441.54.5.3417.415.7.474.4824.75.9.7971.84.86.63.11.00.42.22.224.2\\n2015-1631NYKNBASF727235.17.918.2.4341.54.3.3396.413.8.463.4744.65.6.8291.46.47.74.20.90.52.42.521.8\\n2016-1732NYKNBASF747434.38.118.8.4332.05.7.3596.113.1.466.4884.14.9.8330.85.15.92.90.80.52.12.722.4\\n2017-1833OKCNBAPF787832.16.115.0.4042.26.1.3573.98.9.437.4761.92.5.7670.94.95.81.30.60.61.32.516.2\\n'"
      ]
     },
     "execution_count": 9,
     "metadata": {},
     "output_type": "execute_result"
    }
   ],
   "source": [
    "soup.find_all('tbody')[0].get_text()"
   ]
  },
  {
   "cell_type": "code",
   "execution_count": 10,
   "metadata": {},
   "outputs": [
    {
     "data": {
      "text/plain": [
       "[bs4.element.NavigableString,\n",
       " bs4.element.Doctype,\n",
       " bs4.element.NavigableString,\n",
       " bs4.element.Tag,\n",
       " bs4.element.NavigableString]"
      ]
     },
     "execution_count": 10,
     "metadata": {},
     "output_type": "execute_result"
    }
   ],
   "source": [
    "[type(item) for item in list(soup.children)]"
   ]
  },
  {
   "cell_type": "code",
   "execution_count": 11,
   "metadata": {},
   "outputs": [
    {
     "data": {
      "text/plain": [
       "[<h2>Per Game</h2>,\n",
       " <h2>View on stats.nba.com</h2>,\n",
       " <h2>Player News</h2>,\n",
       " <h2>Totals</h2>,\n",
       " <h2>Per 36 Minutes</h2>,\n",
       " <h2>Per 100 Poss</h2>,\n",
       " <h2>Advanced</h2>,\n",
       " <h2>Shooting</h2>,\n",
       " <h2>Play-by-Play</h2>,\n",
       " <h2>Playoffs Per Game</h2>]"
      ]
     },
     "execution_count": 11,
     "metadata": {},
     "output_type": "execute_result"
    }
   ],
   "source": [
    "soup.find_all('h2')[:10]"
   ]
  },
  {
   "cell_type": "code",
   "execution_count": 12,
   "metadata": {},
   "outputs": [
    {
     "data": {
      "text/plain": [
       "28"
      ]
     },
     "execution_count": 12,
     "metadata": {},
     "output_type": "execute_result"
    }
   ],
   "source": [
    "len(soup.find_all('h2'))"
   ]
  },
  {
   "cell_type": "code",
   "execution_count": 13,
   "metadata": {},
   "outputs": [
    {
     "name": "stdout",
     "output_type": "stream",
     "text": [
      "Per Game\n",
      "View on stats.nba.com\n",
      "Player News\n",
      "Totals\n",
      "Per 36 Minutes\n",
      "Per 100 Poss\n",
      "Advanced\n",
      "Shooting\n",
      "Play-by-Play\n",
      "Playoffs Per Game\n"
     ]
    }
   ],
   "source": [
    "all_h2 = soup.find_all('h2')\n",
    "for header in all_h2[:10]:\n",
    "    print(header.text)"
   ]
  },
  {
   "cell_type": "code",
   "execution_count": 14,
   "metadata": {},
   "outputs": [
    {
     "data": {
      "text/plain": [
       "[<li><a href=\"https://www.sports-reference.com/\"><svg height=\"15px\" width=\"20px\"><use xlink:href=\"#ic-sr-pennant\"></use></svg> Sports Reference</a></li>,\n",
       " <li><a href=\"https://www.baseball-reference.com/\">Baseball</a></li>,\n",
       " <li><a href=\"https://www.pro-football-reference.com/\">Football</a> <a href=\"https://www.sports-reference.com/cfb/\">(college)</a></li>,\n",
       " <li class=\"current\"><a href=\"https://www.basketball-reference.com/\">Basketball</a> <a href=\"https://www.sports-reference.com/cbb/\">(college)</a></li>,\n",
       " <li><a href=\"https://www.hockey-reference.com/\">Hockey</a></li>,\n",
       " <li><a href=\"https://fbref.com/\">Soccer</a></li>,\n",
       " <li><a href=\"https://www.sports-reference.com/blog/\">Blog</a></li>,\n",
       " <li><a href=\"https://stathead.com/\">Stathead</a></li>,\n",
       " <li><a href=\"https://widgets.sports-reference.com/\">Widgets</a></li>,\n",
       " <li><a href=\"https://www.sports-reference.com/feedback/\">Questions or Comments?</a></li>]"
      ]
     },
     "execution_count": 14,
     "metadata": {},
     "output_type": "execute_result"
    }
   ],
   "source": [
    "soup.find_all('li')[:10]"
   ]
  },
  {
   "cell_type": "code",
   "execution_count": 15,
   "metadata": {},
   "outputs": [
    {
     "data": {
      "text/plain": [
       "[<li><a href=\"https://www.sports-reference.com/\"><svg height=\"15px\" width=\"20px\"><use xlink:href=\"#ic-sr-pennant\"></use></svg> Sports Reference</a></li>,\n",
       " <li><a href=\"https://www.baseball-reference.com/\">Baseball</a></li>,\n",
       " <li><a href=\"https://www.pro-football-reference.com/\">Football</a> <a href=\"https://www.sports-reference.com/cfb/\">(college)</a></li>,\n",
       " <li class=\"current\"><a href=\"https://www.basketball-reference.com/\">Basketball</a> <a href=\"https://www.sports-reference.com/cbb/\">(college)</a></li>,\n",
       " <li><a href=\"https://www.hockey-reference.com/\">Hockey</a></li>,\n",
       " <li><a href=\"https://fbref.com/\">Soccer</a></li>,\n",
       " <li><a href=\"https://www.sports-reference.com/blog/\">Blog</a></li>,\n",
       " <li><a href=\"https://stathead.com/\">Stathead</a></li>,\n",
       " <li><a href=\"https://widgets.sports-reference.com/\">Widgets</a></li>,\n",
       " <li><a href=\"https://www.sports-reference.com/feedback/\">Questions or Comments?</a></li>]"
      ]
     },
     "execution_count": 15,
     "metadata": {},
     "output_type": "execute_result"
    }
   ],
   "source": [
    "soup.findAll('li')[:10]"
   ]
  },
  {
   "cell_type": "code",
   "execution_count": 16,
   "metadata": {},
   "outputs": [
    {
     "name": "stdout",
     "output_type": "stream",
     "text": [
      " Sports Reference\n",
      "Baseball\n",
      "Football (college)\n",
      "Basketball (college)\n",
      "Hockey\n",
      "Soccer\n",
      "Blog\n",
      "Stathead\n",
      "Widgets\n",
      "Questions or Comments?\n"
     ]
    }
   ],
   "source": [
    "all_li = soup.find_all('li')\n",
    "for element in all_li[:10]:\n",
    "    print(element.text)"
   ]
  },
  {
   "cell_type": "code",
   "execution_count": 17,
   "metadata": {},
   "outputs": [
    {
     "data": {
      "text/plain": [
       "<tr>\n",
       "<th aria-label=\"If listed as single number, the year the season ended.★ - Indicates All-Star for league.Only on regular season tables.\" class=\" poptip sort_default_asc center\" data-stat=\"season\" data-tip=\"If listed as single number, the year the season ended.&lt;br&gt;★ - Indicates All-Star for league.&lt;br&gt;Only on regular season tables.\" scope=\"col\">Season</th>\n",
       "<th aria-label=\"Age of Player at the start of February 1st of that season.\" class=\" poptip sort_default_asc center\" data-stat=\"age\" data-tip=\"Age of Player at the start of February 1st of that season.\" scope=\"col\">Age</th>\n",
       "<th aria-label=\"Team\" class=\" poptip sort_default_asc center\" data-stat=\"team_id\" data-tip=\"Team\" scope=\"col\">Tm</th>\n",
       "<th aria-label=\"League\" class=\" poptip sort_default_asc center\" data-stat=\"lg_id\" data-tip=\"League\" scope=\"col\">Lg</th>\n",
       "<th aria-label=\"Position\" class=\" poptip sort_default_asc center\" data-stat=\"pos\" data-tip=\"Position\" scope=\"col\">Pos</th>\n",
       "<th aria-label=\"Games\" class=\" poptip center\" data-stat=\"g\" data-tip=\"Games\" scope=\"col\">G</th>\n",
       "<th aria-label=\"Games Started\" class=\" poptip center\" data-stat=\"gs\" data-tip=\"Games Started\" scope=\"col\">GS</th>\n",
       "<th aria-label=\"Minutes Played Per Game\" class=\" poptip center\" data-stat=\"mp_per_g\" data-tip=\"Minutes Played Per Game\" scope=\"col\">MP</th>\n",
       "<th aria-label=\"Field Goals Per Game\" class=\" poptip center\" data-stat=\"fg_per_g\" data-tip=\"Field Goals Per Game\" scope=\"col\">FG</th>\n",
       "<th aria-label=\"Field Goal Attempts Per Game\" class=\" poptip center\" data-stat=\"fga_per_g\" data-tip=\"Field Goal Attempts Per Game\" scope=\"col\">FGA</th>\n",
       "<th aria-label=\"Field Goal Percentage\" class=\" poptip center\" data-stat=\"fg_pct\" data-tip=\"Field Goal Percentage\" scope=\"col\">FG%</th>\n",
       "<th aria-label=\"3-Point Field Goals Per Game\" class=\" poptip center\" data-stat=\"fg3_per_g\" data-tip=\"3-Point Field Goals Per Game\" scope=\"col\">3P</th>\n",
       "<th aria-label=\"3-Point Field Goal Attempts Per Game\" class=\" poptip center\" data-stat=\"fg3a_per_g\" data-tip=\"3-Point Field Goal Attempts Per Game\" scope=\"col\">3PA</th>\n",
       "<th aria-label=\"3-Point Field Goal Percentage\" class=\" poptip center\" data-stat=\"fg3_pct\" data-tip=\"3-Point Field Goal Percentage\" scope=\"col\">3P%</th>\n",
       "<th aria-label=\"2-Point Field Goals Per Game\" class=\" poptip center\" data-stat=\"fg2_per_g\" data-tip=\"2-Point Field Goals Per Game\" scope=\"col\">2P</th>\n",
       "<th aria-label=\"2-Point Field Goal Attempts Per Game\" class=\" poptip center\" data-stat=\"fg2a_per_g\" data-tip=\"2-Point Field Goal Attempts Per Game\" scope=\"col\">2PA</th>\n",
       "<th aria-label=\"2-Point Field Goal Percentage\" class=\" poptip center\" data-stat=\"fg2_pct\" data-tip=\"2-Point Field Goal Percentage\" scope=\"col\">2P%</th>\n",
       "<th aria-label=\"Effective Field Goal Percentage\" class=\" poptip center\" data-stat=\"efg_pct\" data-tip=\"&lt;strong&gt;Effective Field Goal Percentage&lt;/strong&gt;&lt;br&gt;This statistic adjusts for the fact that a 3-point field goal is worth one more point than a 2-point field goal.\" scope=\"col\">eFG%</th>\n",
       "<th aria-label=\"Free Throws Per Game\" class=\" poptip center\" data-stat=\"ft_per_g\" data-tip=\"Free Throws Per Game\" scope=\"col\">FT</th>\n",
       "<th aria-label=\"Free Throw Attempts Per Game\" class=\" poptip center\" data-stat=\"fta_per_g\" data-tip=\"Free Throw Attempts Per Game\" scope=\"col\">FTA</th>\n",
       "<th aria-label=\"Free Throw Percentage\" class=\" poptip center\" data-stat=\"ft_pct\" data-tip=\"Free Throw Percentage\" scope=\"col\">FT%</th>\n",
       "<th aria-label=\"Offensive Rebounds Per Game\" class=\" poptip center\" data-stat=\"orb_per_g\" data-tip=\"Offensive Rebounds Per Game\" scope=\"col\">ORB</th>\n",
       "<th aria-label=\"Defensive Rebounds Per Game\" class=\" poptip center\" data-stat=\"drb_per_g\" data-tip=\"Defensive Rebounds Per Game\" scope=\"col\">DRB</th>\n",
       "<th aria-label=\"Total Rebounds Per Game\" class=\" poptip center\" data-stat=\"trb_per_g\" data-tip=\"Total Rebounds Per Game\" scope=\"col\">TRB</th>\n",
       "<th aria-label=\"Assists Per Game\" class=\" poptip center\" data-stat=\"ast_per_g\" data-tip=\"Assists Per Game\" scope=\"col\">AST</th>\n",
       "<th aria-label=\"Steals Per Game\" class=\" poptip center\" data-stat=\"stl_per_g\" data-tip=\"Steals Per Game\" scope=\"col\">STL</th>\n",
       "<th aria-label=\"Blocks Per Game\" class=\" poptip center\" data-stat=\"blk_per_g\" data-tip=\"Blocks Per Game\" scope=\"col\">BLK</th>\n",
       "<th aria-label=\"Turnovers Per Game\" class=\" poptip center\" data-stat=\"tov_per_g\" data-tip=\"Turnovers Per Game\" scope=\"col\">TOV</th>\n",
       "<th aria-label=\"Personal Fouls Per Game\" class=\" poptip center\" data-stat=\"pf_per_g\" data-tip=\"Personal Fouls Per Game\" scope=\"col\">PF</th>\n",
       "<th aria-label=\"Points Per Game\" class=\" poptip center\" data-stat=\"pts_per_g\" data-tip=\"Points Per Game\" scope=\"col\">PTS</th>\n",
       "</tr>"
      ]
     },
     "execution_count": 17,
     "metadata": {},
     "output_type": "execute_result"
    }
   ],
   "source": [
    "soup.find_all('tr')[0]"
   ]
  },
  {
   "cell_type": "code",
   "execution_count": 18,
   "metadata": {},
   "outputs": [
    {
     "name": "stdout",
     "output_type": "stream",
     "text": [
      "2003-0419DENNBASF828236.57.617.9.4260.82.6.3226.815.3.444.4495.06.4.7772.23.86.12.81.20.53.02.721.0\n",
      "2004-0520DENNBASF757534.87.116.4.4310.62.1.2666.514.3.455.4486.17.6.7961.93.85.72.60.90.43.03.120.8\n",
      "2005-0621DENNBASF808036.89.519.7.4810.51.9.2439.017.8.506.4937.28.9.8081.53.44.92.71.10.52.72.926.5\n",
      "2006-0722DENNBASF656538.210.622.4.4760.62.3.26810.020.1.499.4897.18.7.8082.23.86.03.81.20.43.63.128.9\n",
      "2007-0823DENNBASF777736.49.519.2.4920.82.1.3548.717.1.509.5116.07.7.7862.35.17.43.41.30.53.33.325.7\n",
      "2008-0924DENNBASF666634.58.118.3.4431.02.6.3717.215.7.455.4695.67.1.7931.65.26.83.41.10.43.03.022.8\n",
      "2009-1025DENNBASF696938.210.021.8.4580.92.7.3169.119.1.478.4787.48.9.8302.24.46.63.21.30.43.03.328.2\n",
      "2010-1126TOTNBASF777735.78.919.5.4551.23.3.3787.616.3.470.4876.67.9.8381.55.87.32.90.90.62.72.925.6\n",
      "2010-1126DENNBASF505035.58.719.3.4520.82.5.3337.916.8.470.4746.98.3.8231.56.17.62.80.90.62.82.725.2\n",
      "2010-1126NYKNBASF272736.29.119.9.4612.04.6.4247.215.2.472.5106.17.0.8721.55.26.73.00.90.62.43.326.3\n",
      "2011-1227NYKNBASF555534.18.018.6.4301.23.7.3356.814.9.454.4635.46.7.8041.64.76.33.61.10.42.62.822.6\n",
      "2012-1328NYKNBAPF676737.010.022.2.4492.36.2.3797.616.0.476.5026.37.6.8302.04.96.92.60.80.52.63.128.7\n",
      "2013-1429NYKNBAPF777738.79.621.3.4522.25.4.4027.515.9.469.5036.07.0.8481.96.28.13.11.20.72.62.927.4\n",
      "2014-1530NYKNBASF404035.79.020.2.4441.54.5.3417.415.7.474.4824.75.9.7971.84.86.63.11.00.42.22.224.2\n"
     ]
    }
   ],
   "source": [
    "all_tr = soup.find_all('tr')\n",
    "for element in all_tr[1:15]:\n",
    "    print(element.text)"
   ]
  },
  {
   "cell_type": "code",
   "execution_count": 27,
   "metadata": {},
   "outputs": [
    {
     "data": {
      "text/plain": [
       "[<th aria-label=\"If listed as single number, the year the season ended.★ - Indicates All-Star for league.Only on regular season tables.\" class=\" poptip sort_default_asc center\" data-stat=\"season\" data-tip=\"If listed as single number, the year the season ended.&lt;br&gt;★ - Indicates All-Star for league.&lt;br&gt;Only on regular season tables.\" scope=\"col\">Season</th>,\n",
       " <th aria-label=\"Age of Player at the start of February 1st of that season.\" class=\" poptip sort_default_asc center\" data-stat=\"age\" data-tip=\"Age of Player at the start of February 1st of that season.\" scope=\"col\">Age</th>,\n",
       " <th aria-label=\"Team\" class=\" poptip sort_default_asc center\" data-stat=\"team_id\" data-tip=\"Team\" scope=\"col\">Tm</th>,\n",
       " <th aria-label=\"League\" class=\" poptip sort_default_asc center\" data-stat=\"lg_id\" data-tip=\"League\" scope=\"col\">Lg</th>,\n",
       " <th aria-label=\"Position\" class=\" poptip sort_default_asc center\" data-stat=\"pos\" data-tip=\"Position\" scope=\"col\">Pos</th>,\n",
       " <th aria-label=\"Games\" class=\" poptip center\" data-stat=\"g\" data-tip=\"Games\" scope=\"col\">G</th>,\n",
       " <th aria-label=\"Games Started\" class=\" poptip center\" data-stat=\"gs\" data-tip=\"Games Started\" scope=\"col\">GS</th>,\n",
       " <th aria-label=\"Minutes Played Per Game\" class=\" poptip center\" data-stat=\"mp_per_g\" data-tip=\"Minutes Played Per Game\" scope=\"col\">MP</th>,\n",
       " <th aria-label=\"Field Goals Per Game\" class=\" poptip center\" data-stat=\"fg_per_g\" data-tip=\"Field Goals Per Game\" scope=\"col\">FG</th>,\n",
       " <th aria-label=\"Field Goal Attempts Per Game\" class=\" poptip center\" data-stat=\"fga_per_g\" data-tip=\"Field Goal Attempts Per Game\" scope=\"col\">FGA</th>]"
      ]
     },
     "execution_count": 27,
     "metadata": {},
     "output_type": "execute_result"
    }
   ],
   "source": [
    "soup.find_all('th')[:10]"
   ]
  },
  {
   "cell_type": "code",
   "execution_count": 31,
   "metadata": {},
   "outputs": [
    {
     "data": {
      "text/plain": [
       "52"
      ]
     },
     "execution_count": 31,
     "metadata": {},
     "output_type": "execute_result"
    }
   ],
   "source": [
    "len( soup.find_all('th'))"
   ]
  },
  {
   "cell_type": "code",
   "execution_count": 49,
   "metadata": {},
   "outputs": [],
   "source": [
    "soup.find('tr#per_game.2004.full_table')"
   ]
  },
  {
   "cell_type": "code",
   "execution_count": 53,
   "metadata": {},
   "outputs": [
    {
     "name": "stdout",
     "output_type": "stream",
     "text": [
      "Help on class BeautifulSoup in module bs4:\n",
      "\n",
      "class BeautifulSoup(bs4.element.Tag)\n",
      " |  This class defines the basic interface called by the tree builders.\n",
      " |  \n",
      " |  These methods will be called by the parser:\n",
      " |    reset()\n",
      " |    feed(markup)\n",
      " |  \n",
      " |  The tree builder may call these methods from its feed() implementation:\n",
      " |    handle_starttag(name, attrs) # See note about return value\n",
      " |    handle_endtag(name)\n",
      " |    handle_data(data) # Appends to the current data node\n",
      " |    endData(containerClass=NavigableString) # Ends the current data node\n",
      " |  \n",
      " |  No matter how complicated the underlying parser is, you should be\n",
      " |  able to build a tree using 'start tag' events, 'end tag' events,\n",
      " |  'data' events, and \"done with data\" events.\n",
      " |  \n",
      " |  If you encounter an empty-element tag (aka a self-closing tag,\n",
      " |  like HTML's <br> tag), call handle_starttag and then\n",
      " |  handle_endtag.\n",
      " |  \n",
      " |  Method resolution order:\n",
      " |      BeautifulSoup\n",
      " |      bs4.element.Tag\n",
      " |      bs4.element.PageElement\n",
      " |      builtins.object\n",
      " |  \n",
      " |  Methods defined here:\n",
      " |  \n",
      " |  __copy__(self)\n",
      " |      A copy of a Tag is a new Tag, unconnected to the parse tree.\n",
      " |      Its contents are a copy of the old Tag's contents.\n",
      " |  \n",
      " |  __getstate__(self)\n",
      " |  \n",
      " |  __init__(self, markup='', features=None, builder=None, parse_only=None, from_encoding=None, exclude_encodings=None, **kwargs)\n",
      " |      The Soup object is initialized as the 'root tag', and the\n",
      " |      provided markup (which can be a string or a file-like object)\n",
      " |      is fed into the underlying parser.\n",
      " |  \n",
      " |  decode(self, pretty_print=False, eventual_encoding='utf-8', formatter='minimal')\n",
      " |      Returns a string or Unicode representation of this document.\n",
      " |      To get Unicode, pass None for encoding.\n",
      " |  \n",
      " |  endData(self, containerClass=<class 'bs4.element.NavigableString'>)\n",
      " |  \n",
      " |  handle_data(self, data)\n",
      " |  \n",
      " |  handle_endtag(self, name, nsprefix=None)\n",
      " |  \n",
      " |  handle_starttag(self, name, namespace, nsprefix, attrs)\n",
      " |      Push a start tag on to the stack.\n",
      " |      \n",
      " |      If this method returns None, the tag was rejected by the\n",
      " |      SoupStrainer. You should proceed as if the tag had not occurred\n",
      " |      in the document. For instance, if this was a self-closing tag,\n",
      " |      don't call handle_endtag.\n",
      " |  \n",
      " |  insert_after(self, successor)\n",
      " |      Makes the given element the immediate successor of this one.\n",
      " |      \n",
      " |      The two elements will have the same parent, and the given element\n",
      " |      will be immediately after this one.\n",
      " |  \n",
      " |  insert_before(self, successor)\n",
      " |      Makes the given element the immediate predecessor of this one.\n",
      " |      \n",
      " |      The two elements will have the same parent, and the given element\n",
      " |      will be immediately before this one.\n",
      " |  \n",
      " |  new_string(self, s, subclass=<class 'bs4.element.NavigableString'>)\n",
      " |      Create a new NavigableString associated with this soup.\n",
      " |  \n",
      " |  new_tag(self, name, namespace=None, nsprefix=None, **attrs)\n",
      " |      Create a new tag associated with this soup.\n",
      " |  \n",
      " |  object_was_parsed(self, o, parent=None, most_recent_element=None)\n",
      " |      Add an object to the parse tree.\n",
      " |  \n",
      " |  popTag(self)\n",
      " |  \n",
      " |  pushTag(self, tag)\n",
      " |  \n",
      " |  reset(self)\n",
      " |  \n",
      " |  ----------------------------------------------------------------------\n",
      " |  Data and other attributes defined here:\n",
      " |  \n",
      " |  ASCII_SPACES = ' \\n\\t\\x0c\\r'\n",
      " |  \n",
      " |  DEFAULT_BUILDER_FEATURES = ['html', 'fast']\n",
      " |  \n",
      " |  NO_PARSER_SPECIFIED_WARNING = 'No parser was explicitly specified, so ...\n",
      " |  \n",
      " |  ROOT_TAG_NAME = '[document]'\n",
      " |  \n",
      " |  ----------------------------------------------------------------------\n",
      " |  Methods inherited from bs4.element.Tag:\n",
      " |  \n",
      " |  __bool__(self)\n",
      " |      A tag is non-None even if it has no contents.\n",
      " |  \n",
      " |  __call__(self, *args, **kwargs)\n",
      " |      Calling a tag like a function is the same as calling its\n",
      " |      find_all() method. Eg. tag('a') returns a list of all the A tags\n",
      " |      found within this tag.\n",
      " |  \n",
      " |  __contains__(self, x)\n",
      " |  \n",
      " |  __delitem__(self, key)\n",
      " |      Deleting tag[key] deletes all 'key' attributes for the tag.\n",
      " |  \n",
      " |  __eq__(self, other)\n",
      " |      Returns true iff this tag has the same name, the same attributes,\n",
      " |      and the same contents (recursively) as the given tag.\n",
      " |  \n",
      " |  __getattr__(self, tag)\n",
      " |  \n",
      " |  __getitem__(self, key)\n",
      " |      tag[key] returns the value of the 'key' attribute for the tag,\n",
      " |      and throws an exception if it's not there.\n",
      " |  \n",
      " |  __hash__(self)\n",
      " |      Return hash(self).\n",
      " |  \n",
      " |  __iter__(self)\n",
      " |      Iterating over a tag iterates over its contents.\n",
      " |  \n",
      " |  __len__(self)\n",
      " |      The length of a tag is the length of its list of contents.\n",
      " |  \n",
      " |  __ne__(self, other)\n",
      " |      Returns true iff this tag is not identical to the other tag,\n",
      " |      as defined in __eq__.\n",
      " |  \n",
      " |  __repr__ = __unicode__(self)\n",
      " |  \n",
      " |  __setitem__(self, key, value)\n",
      " |      Setting tag[key] sets the value of the 'key' attribute for the\n",
      " |      tag.\n",
      " |  \n",
      " |  __str__ = __unicode__(self)\n",
      " |  \n",
      " |  __unicode__(self)\n",
      " |  \n",
      " |  childGenerator(self)\n",
      " |      # Old names for backwards compatibility\n",
      " |  \n",
      " |  clear(self, decompose=False)\n",
      " |      Extract all children. If decompose is True, decompose instead.\n",
      " |  \n",
      " |  decode_contents(self, indent_level=None, eventual_encoding='utf-8', formatter='minimal')\n",
      " |      Renders the contents of this tag as a Unicode string.\n",
      " |      \n",
      " |      :param indent_level: Each line of the rendering will be\n",
      " |         indented this many spaces.\n",
      " |      \n",
      " |      :param eventual_encoding: The tag is destined to be\n",
      " |         encoded into this encoding. This method is _not_\n",
      " |         responsible for performing that encoding. This information\n",
      " |         is passed in so that it can be substituted in if the\n",
      " |         document contains a <META> tag that mentions the document's\n",
      " |         encoding.\n",
      " |      \n",
      " |      :param formatter: The output formatter responsible for converting\n",
      " |         entities to Unicode characters.\n",
      " |  \n",
      " |  decompose(self)\n",
      " |      Recursively destroys the contents of this tree.\n",
      " |  \n",
      " |  encode(self, encoding='utf-8', indent_level=None, formatter='minimal', errors='xmlcharrefreplace')\n",
      " |  \n",
      " |  encode_contents(self, indent_level=None, encoding='utf-8', formatter='minimal')\n",
      " |      Renders the contents of this tag as a bytestring.\n",
      " |      \n",
      " |      :param indent_level: Each line of the rendering will be\n",
      " |         indented this many spaces.\n",
      " |      \n",
      " |      :param eventual_encoding: The bytestring will be in this encoding.\n",
      " |      \n",
      " |      :param formatter: The output formatter responsible for converting\n",
      " |         entities to Unicode characters.\n",
      " |  \n",
      " |  find(self, name=None, attrs={}, recursive=True, text=None, **kwargs)\n",
      " |      Return only the first child of this Tag matching the given\n",
      " |      criteria.\n",
      " |  \n",
      " |  findAll = find_all(self, name=None, attrs={}, recursive=True, text=None, limit=None, **kwargs)\n",
      " |      Extracts a list of Tag objects that match the given\n",
      " |      criteria.  You can specify the name of the Tag and any\n",
      " |      attributes you want the Tag to have.\n",
      " |      \n",
      " |      The value of a key-value pair in the 'attrs' map can be a\n",
      " |      string, a list of strings, a regular expression object, or a\n",
      " |      callable that takes a string and returns whether or not the\n",
      " |      string matches for some custom definition of 'matches'. The\n",
      " |      same is true of the tag name.\n",
      " |  \n",
      " |  findChild = find(self, name=None, attrs={}, recursive=True, text=None, **kwargs)\n",
      " |      Return only the first child of this Tag matching the given\n",
      " |      criteria.\n",
      " |  \n",
      " |  findChildren = find_all(self, name=None, attrs={}, recursive=True, text=None, limit=None, **kwargs)\n",
      " |      Extracts a list of Tag objects that match the given\n",
      " |      criteria.  You can specify the name of the Tag and any\n",
      " |      attributes you want the Tag to have.\n",
      " |      \n",
      " |      The value of a key-value pair in the 'attrs' map can be a\n",
      " |      string, a list of strings, a regular expression object, or a\n",
      " |      callable that takes a string and returns whether or not the\n",
      " |      string matches for some custom definition of 'matches'. The\n",
      " |      same is true of the tag name.\n",
      " |  \n",
      " |  find_all(self, name=None, attrs={}, recursive=True, text=None, limit=None, **kwargs)\n",
      " |      Extracts a list of Tag objects that match the given\n",
      " |      criteria.  You can specify the name of the Tag and any\n",
      " |      attributes you want the Tag to have.\n",
      " |      \n",
      " |      The value of a key-value pair in the 'attrs' map can be a\n",
      " |      string, a list of strings, a regular expression object, or a\n",
      " |      callable that takes a string and returns whether or not the\n",
      " |      string matches for some custom definition of 'matches'. The\n",
      " |      same is true of the tag name.\n",
      " |  \n",
      " |  get(self, key, default=None)\n",
      " |      Returns the value of the 'key' attribute for the tag, or\n",
      " |      the value given for 'default' if it doesn't have that\n",
      " |      attribute.\n",
      " |  \n",
      " |  getText = get_text(self, separator='', strip=False, types=(<class 'bs4.element.NavigableString'>, <class 'bs4.element.CData'>))\n",
      " |      Get all child strings, concatenated using the given separator.\n",
      " |  \n",
      " |  get_attribute_list(self, key, default=None)\n",
      " |      The same as get(), but always returns a list.\n",
      " |  \n",
      " |  get_text(self, separator='', strip=False, types=(<class 'bs4.element.NavigableString'>, <class 'bs4.element.CData'>))\n",
      " |      Get all child strings, concatenated using the given separator.\n",
      " |  \n",
      " |  has_attr(self, key)\n",
      " |  \n",
      " |  has_key(self, key)\n",
      " |      This was kind of misleading because has_key() (attributes)\n",
      " |      was different from __in__ (contents). has_key() is gone in\n",
      " |      Python 3, anyway.\n",
      " |  \n",
      " |  index(self, element)\n",
      " |      Find the index of a child by identity, not value. Avoids issues with\n",
      " |      tag.contents.index(element) getting the index of equal elements.\n",
      " |  \n",
      " |  prettify(self, encoding=None, formatter='minimal')\n",
      " |  \n",
      " |  recursiveChildGenerator(self)\n",
      " |  \n",
      " |  renderContents(self, encoding='utf-8', prettyPrint=False, indentLevel=0)\n",
      " |      # Old method for BS3 compatibility\n",
      " |  \n",
      " |  select(self, selector, _candidate_generator=None, limit=None)\n",
      " |      Perform a CSS selection operation on the current element.\n",
      " |  \n",
      " |  select_one(self, selector)\n",
      " |      Perform a CSS selection operation on the current element.\n",
      " |  \n",
      " |  ----------------------------------------------------------------------\n",
      " |  Data descriptors inherited from bs4.element.Tag:\n",
      " |  \n",
      " |  children\n",
      " |  \n",
      " |  descendants\n",
      " |  \n",
      " |  isSelfClosing\n",
      " |      Is this tag an empty-element tag? (aka a self-closing tag)\n",
      " |      \n",
      " |      A tag that has contents is never an empty-element tag.\n",
      " |      \n",
      " |      A tag that has no contents may or may not be an empty-element\n",
      " |      tag. It depends on the builder used to create the tag. If the\n",
      " |      builder has a designated list of empty-element tags, then only\n",
      " |      a tag whose name shows up in that list is considered an\n",
      " |      empty-element tag.\n",
      " |      \n",
      " |      If the builder has no designated list of empty-element tags,\n",
      " |      then any tag with no contents is an empty-element tag.\n",
      " |  \n",
      " |  is_empty_element\n",
      " |      Is this tag an empty-element tag? (aka a self-closing tag)\n",
      " |      \n",
      " |      A tag that has contents is never an empty-element tag.\n",
      " |      \n",
      " |      A tag that has no contents may or may not be an empty-element\n",
      " |      tag. It depends on the builder used to create the tag. If the\n",
      " |      builder has a designated list of empty-element tags, then only\n",
      " |      a tag whose name shows up in that list is considered an\n",
      " |      empty-element tag.\n",
      " |      \n",
      " |      If the builder has no designated list of empty-element tags,\n",
      " |      then any tag with no contents is an empty-element tag.\n",
      " |  \n",
      " |  parserClass\n",
      " |  \n",
      " |  string\n",
      " |      Convenience property to get the single string within this tag.\n",
      " |      \n",
      " |      :Return: If this tag has a single string child, return value\n",
      " |       is that string. If this tag has no children, or more than one\n",
      " |       child, return value is None. If this tag has one child tag,\n",
      " |       return value is the 'string' attribute of the child tag,\n",
      " |       recursively.\n",
      " |  \n",
      " |  strings\n",
      " |      Yield all strings of certain classes, possibly stripping them.\n",
      " |      \n",
      " |      By default, yields only NavigableString and CData objects. So\n",
      " |      no comments, processing instructions, etc.\n",
      " |  \n",
      " |  stripped_strings\n",
      " |  \n",
      " |  text\n",
      " |      Get all child strings, concatenated using the given separator.\n",
      " |  \n",
      " |  ----------------------------------------------------------------------\n",
      " |  Data and other attributes inherited from bs4.element.Tag:\n",
      " |  \n",
      " |  quoted_colon = re.compile('\"[^\"]*:[^\"]*\"')\n",
      " |  \n",
      " |  ----------------------------------------------------------------------\n",
      " |  Methods inherited from bs4.element.PageElement:\n",
      " |  \n",
      " |  append(self, tag)\n",
      " |      Appends the given tag to the contents of this tag.\n",
      " |  \n",
      " |  extract(self)\n",
      " |      Destructively rips this element out of the tree.\n",
      " |  \n",
      " |  fetchNextSiblings = find_next_siblings(self, name=None, attrs={}, text=None, limit=None, **kwargs)\n",
      " |      Returns the siblings of this Tag that match the given\n",
      " |      criteria and appear after this Tag in the document.\n",
      " |  \n",
      " |  fetchParents = find_parents(self, name=None, attrs={}, limit=None, **kwargs)\n",
      " |      Returns the parents of this Tag that match the given\n",
      " |      criteria.\n",
      " |  \n",
      " |  fetchPrevious = find_all_previous(self, name=None, attrs={}, text=None, limit=None, **kwargs)\n",
      " |      Returns all items that match the given criteria and appear\n",
      " |      before this Tag in the document.\n",
      " |  \n",
      " |  fetchPreviousSiblings = find_previous_siblings(self, name=None, attrs={}, text=None, limit=None, **kwargs)\n",
      " |      Returns the siblings of this Tag that match the given\n",
      " |      criteria and appear before this Tag in the document.\n",
      " |  \n",
      " |  findAllNext = find_all_next(self, name=None, attrs={}, text=None, limit=None, **kwargs)\n",
      " |      Returns all items that match the given criteria and appear\n",
      " |      after this Tag in the document.\n",
      " |  \n",
      " |  findAllPrevious = find_all_previous(self, name=None, attrs={}, text=None, limit=None, **kwargs)\n",
      " |      Returns all items that match the given criteria and appear\n",
      " |      before this Tag in the document.\n",
      " |  \n",
      " |  findNext = find_next(self, name=None, attrs={}, text=None, **kwargs)\n",
      " |      Returns the first item that matches the given criteria and\n",
      " |      appears after this Tag in the document.\n",
      " |  \n",
      " |  findNextSibling = find_next_sibling(self, name=None, attrs={}, text=None, **kwargs)\n",
      " |      Returns the closest sibling to this Tag that matches the\n",
      " |      given criteria and appears after this Tag in the document.\n",
      " |  \n",
      " |  findNextSiblings = find_next_siblings(self, name=None, attrs={}, text=None, limit=None, **kwargs)\n",
      " |      Returns the siblings of this Tag that match the given\n",
      " |      criteria and appear after this Tag in the document.\n",
      " |  \n",
      " |  findParent = find_parent(self, name=None, attrs={}, **kwargs)\n",
      " |      Returns the closest parent of this Tag that matches the given\n",
      " |      criteria.\n",
      " |  \n",
      " |  findParents = find_parents(self, name=None, attrs={}, limit=None, **kwargs)\n",
      " |      Returns the parents of this Tag that match the given\n",
      " |      criteria.\n",
      " |  \n",
      " |  findPrevious = find_previous(self, name=None, attrs={}, text=None, **kwargs)\n",
      " |      Returns the first item that matches the given criteria and\n",
      " |      appears before this Tag in the document.\n",
      " |  \n",
      " |  findPreviousSibling = find_previous_sibling(self, name=None, attrs={}, text=None, **kwargs)\n",
      " |      Returns the closest sibling to this Tag that matches the\n",
      " |      given criteria and appears before this Tag in the document.\n",
      " |  \n",
      " |  findPreviousSiblings = find_previous_siblings(self, name=None, attrs={}, text=None, limit=None, **kwargs)\n",
      " |      Returns the siblings of this Tag that match the given\n",
      " |      criteria and appear before this Tag in the document.\n",
      " |  \n",
      " |  find_all_next(self, name=None, attrs={}, text=None, limit=None, **kwargs)\n",
      " |      Returns all items that match the given criteria and appear\n",
      " |      after this Tag in the document.\n",
      " |  \n",
      " |  find_all_previous(self, name=None, attrs={}, text=None, limit=None, **kwargs)\n",
      " |      Returns all items that match the given criteria and appear\n",
      " |      before this Tag in the document.\n",
      " |  \n",
      " |  find_next(self, name=None, attrs={}, text=None, **kwargs)\n",
      " |      Returns the first item that matches the given criteria and\n",
      " |      appears after this Tag in the document.\n",
      " |  \n",
      " |  find_next_sibling(self, name=None, attrs={}, text=None, **kwargs)\n",
      " |      Returns the closest sibling to this Tag that matches the\n",
      " |      given criteria and appears after this Tag in the document.\n",
      " |  \n",
      " |  find_next_siblings(self, name=None, attrs={}, text=None, limit=None, **kwargs)\n",
      " |      Returns the siblings of this Tag that match the given\n",
      " |      criteria and appear after this Tag in the document.\n",
      " |  \n",
      " |  find_parent(self, name=None, attrs={}, **kwargs)\n",
      " |      Returns the closest parent of this Tag that matches the given\n",
      " |      criteria.\n",
      " |  \n",
      " |  find_parents(self, name=None, attrs={}, limit=None, **kwargs)\n",
      " |      Returns the parents of this Tag that match the given\n",
      " |      criteria.\n",
      " |  \n",
      " |  find_previous(self, name=None, attrs={}, text=None, **kwargs)\n",
      " |      Returns the first item that matches the given criteria and\n",
      " |      appears before this Tag in the document.\n",
      " |  \n",
      " |  find_previous_sibling(self, name=None, attrs={}, text=None, **kwargs)\n",
      " |      Returns the closest sibling to this Tag that matches the\n",
      " |      given criteria and appears before this Tag in the document.\n",
      " |  \n",
      " |  find_previous_siblings(self, name=None, attrs={}, text=None, limit=None, **kwargs)\n",
      " |      Returns the siblings of this Tag that match the given\n",
      " |      criteria and appear before this Tag in the document.\n",
      " |  \n",
      " |  format_string(self, s, formatter='minimal')\n",
      " |      Format the given string using the given formatter.\n",
      " |  \n",
      " |  insert(self, position, new_child)\n",
      " |  \n",
      " |  nextGenerator(self)\n",
      " |      # Old non-property versions of the generators, for backwards\n",
      " |      # compatibility with BS3.\n",
      " |  \n",
      " |  nextSiblingGenerator(self)\n",
      " |  \n",
      " |  parentGenerator(self)\n",
      " |  \n",
      " |  previousGenerator(self)\n",
      " |  \n",
      " |  previousSiblingGenerator(self)\n",
      " |  \n",
      " |  replaceWith = replace_with(self, replace_with)\n",
      " |  \n",
      " |  replaceWithChildren = unwrap(self)\n",
      " |  \n",
      " |  replace_with(self, replace_with)\n",
      " |  \n",
      " |  replace_with_children = unwrap(self)\n",
      " |  \n",
      " |  setup(self, parent=None, previous_element=None, next_element=None, previous_sibling=None, next_sibling=None)\n",
      " |      Sets up the initial relations between this element and\n",
      " |      other elements.\n",
      " |  \n",
      " |  unwrap(self)\n",
      " |  \n",
      " |  wrap(self, wrap_inside)\n",
      " |  \n",
      " |  ----------------------------------------------------------------------\n",
      " |  Data descriptors inherited from bs4.element.PageElement:\n",
      " |  \n",
      " |  __dict__\n",
      " |      dictionary for instance variables (if defined)\n",
      " |  \n",
      " |  __weakref__\n",
      " |      list of weak references to the object (if defined)\n",
      " |  \n",
      " |  next\n",
      " |  \n",
      " |  nextSibling\n",
      " |  \n",
      " |  next_elements\n",
      " |  \n",
      " |  next_siblings\n",
      " |  \n",
      " |  parents\n",
      " |  \n",
      " |  previous\n",
      " |  \n",
      " |  previousSibling\n",
      " |  \n",
      " |  previous_elements\n",
      " |  \n",
      " |  previous_siblings\n",
      " |  \n",
      " |  ----------------------------------------------------------------------\n",
      " |  Data and other attributes inherited from bs4.element.PageElement:\n",
      " |  \n",
      " |  HTML_FORMATTERS = {'html': <bound method HTMLAwareEntitySubstitution.s...\n",
      " |  \n",
      " |  XML_FORMATTERS = {'html': <bound method EntitySubstitution.substitute_...\n",
      " |  \n",
      " |  attribselect_re = re.compile('^(?P<tag>[a-zA-Z0-9][-.a-zA-Z0-9:_]*...[...\n",
      " |  \n",
      " |  tag_name_re = re.compile('^[a-zA-Z0-9][-.a-zA-Z0-9:_]*$')\n",
      "\n"
     ]
    }
   ],
   "source": [
    "help(BeautifulSoup)"
   ]
  },
  {
   "cell_type": "code",
   "execution_count": 22,
   "metadata": {},
   "outputs": [
    {
     "data": {
      "text/plain": [
       "[<th aria-label=\"Field Goal Percentage\" class=\" poptip center\" data-stat=\"fg_pct\" data-tip=\"Field Goal Percentage\" scope=\"col\">FG%</th>,\n",
       " <th aria-label=\"3-Point Field Goals Per Game\" class=\" poptip center\" data-stat=\"fg3_per_g\" data-tip=\"3-Point Field Goals Per Game\" scope=\"col\">3P</th>,\n",
       " <th aria-label=\"3-Point Field Goal Attempts Per Game\" class=\" poptip center\" data-stat=\"fg3a_per_g\" data-tip=\"3-Point Field Goal Attempts Per Game\" scope=\"col\">3PA</th>,\n",
       " <th aria-label=\"3-Point Field Goal Percentage\" class=\" poptip center\" data-stat=\"fg3_pct\" data-tip=\"3-Point Field Goal Percentage\" scope=\"col\">3P%</th>,\n",
       " <th aria-label=\"2-Point Field Goals Per Game\" class=\" poptip center\" data-stat=\"fg2_per_g\" data-tip=\"2-Point Field Goals Per Game\" scope=\"col\">2P</th>,\n",
       " <th aria-label=\"2-Point Field Goal Attempts Per Game\" class=\" poptip center\" data-stat=\"fg2a_per_g\" data-tip=\"2-Point Field Goal Attempts Per Game\" scope=\"col\">2PA</th>,\n",
       " <th aria-label=\"2-Point Field Goal Percentage\" class=\" poptip center\" data-stat=\"fg2_pct\" data-tip=\"2-Point Field Goal Percentage\" scope=\"col\">2P%</th>,\n",
       " <th aria-label=\"Effective Field Goal Percentage\" class=\" poptip center\" data-stat=\"efg_pct\" data-tip=\"&lt;strong&gt;Effective Field Goal Percentage&lt;/strong&gt;&lt;br&gt;This statistic adjusts for the fact that a 3-point field goal is worth one more point than a 2-point field goal.\" scope=\"col\">eFG%</th>,\n",
       " <th aria-label=\"Free Throws Per Game\" class=\" poptip center\" data-stat=\"ft_per_g\" data-tip=\"Free Throws Per Game\" scope=\"col\">FT</th>,\n",
       " <th aria-label=\"Free Throw Attempts Per Game\" class=\" poptip center\" data-stat=\"fta_per_g\" data-tip=\"Free Throw Attempts Per Game\" scope=\"col\">FTA</th>]"
      ]
     },
     "execution_count": 22,
     "metadata": {},
     "output_type": "execute_result"
    }
   ],
   "source": [
    "soup.find_all('th')[10:20]"
   ]
  },
  {
   "cell_type": "code",
   "execution_count": 43,
   "metadata": {},
   "outputs": [
    {
     "data": {
      "text/plain": [
       "<tr class=\"full_table\" id=\"per_game.2005\"><th class=\"left \" data-stat=\"season\" scope=\"row\"><a href=\"/players/a/anthoca01/gamelog/2005/\">2004-05</a></th><td class=\"center \" data-stat=\"age\">20</td><td class=\"left \" data-stat=\"team_id\"><a href=\"/teams/DEN/2005.html\">DEN</a></td><td class=\"left \" data-stat=\"lg_id\"><a href=\"/leagues/NBA_2005.html\">NBA</a></td><td class=\"center \" data-stat=\"pos\">SF</td><td class=\"right \" data-stat=\"g\">75</td><td class=\"right \" data-stat=\"gs\">75</td><td class=\"right \" data-stat=\"mp_per_g\">34.8</td><td class=\"right \" data-stat=\"fg_per_g\">7.1</td><td class=\"right \" data-stat=\"fga_per_g\">16.4</td><td class=\"right \" data-stat=\"fg_pct\">.431</td><td class=\"right \" data-stat=\"fg3_per_g\">0.6</td><td class=\"right \" data-stat=\"fg3a_per_g\">2.1</td><td class=\"right \" data-stat=\"fg3_pct\">.266</td><td class=\"right \" data-stat=\"fg2_per_g\">6.5</td><td class=\"right \" data-stat=\"fg2a_per_g\">14.3</td><td class=\"right \" data-stat=\"fg2_pct\">.455</td><td class=\"right \" data-stat=\"efg_pct\">.448</td><td class=\"right \" data-stat=\"ft_per_g\">6.1</td><td class=\"right \" data-stat=\"fta_per_g\">7.6</td><td class=\"right \" data-stat=\"ft_pct\">.796</td><td class=\"right \" data-stat=\"orb_per_g\">1.9</td><td class=\"right \" data-stat=\"drb_per_g\">3.8</td><td class=\"right \" data-stat=\"trb_per_g\">5.7</td><td class=\"right \" data-stat=\"ast_per_g\">2.6</td><td class=\"right \" data-stat=\"stl_per_g\">0.9</td><td class=\"right \" data-stat=\"blk_per_g\">0.4</td><td class=\"right \" data-stat=\"tov_per_g\">3.0</td><td class=\"right \" data-stat=\"pf_per_g\">3.1</td><td class=\"right \" data-stat=\"pts_per_g\">20.8</td></tr>"
      ]
     },
     "execution_count": 43,
     "metadata": {},
     "output_type": "execute_result"
    }
   ],
   "source": [
    "soup.find_all('tr', class_='full_table')[1]"
   ]
  },
  {
   "cell_type": "code",
   "execution_count": 58,
   "metadata": {},
   "outputs": [
    {
     "data": {
      "text/plain": [
       "[<td class=\"center \" data-stat=\"age\">19</td>,\n",
       " <td class=\"left \" data-stat=\"team_id\"><a href=\"/teams/DEN/2004.html\">DEN</a></td>,\n",
       " <td class=\"left \" data-stat=\"lg_id\"><a href=\"/leagues/NBA_2004.html\">NBA</a></td>,\n",
       " <td class=\"center \" data-stat=\"pos\">SF</td>,\n",
       " <td class=\"right \" data-stat=\"g\">82</td>,\n",
       " <td class=\"right \" data-stat=\"gs\">82</td>,\n",
       " <td class=\"right \" data-stat=\"mp_per_g\">36.5</td>,\n",
       " <td class=\"right \" data-stat=\"fg_per_g\">7.6</td>,\n",
       " <td class=\"right \" data-stat=\"fga_per_g\">17.9</td>,\n",
       " <td class=\"right \" data-stat=\"fg_pct\">.426</td>,\n",
       " <td class=\"right \" data-stat=\"fg3_per_g\">0.8</td>,\n",
       " <td class=\"right \" data-stat=\"fg3a_per_g\">2.6</td>,\n",
       " <td class=\"right \" data-stat=\"fg3_pct\">.322</td>,\n",
       " <td class=\"right \" data-stat=\"fg2_per_g\">6.8</td>,\n",
       " <td class=\"right \" data-stat=\"fg2a_per_g\">15.3</td>,\n",
       " <td class=\"right \" data-stat=\"fg2_pct\">.444</td>,\n",
       " <td class=\"right \" data-stat=\"efg_pct\">.449</td>,\n",
       " <td class=\"right \" data-stat=\"ft_per_g\">5.0</td>,\n",
       " <td class=\"right \" data-stat=\"fta_per_g\">6.4</td>,\n",
       " <td class=\"right \" data-stat=\"ft_pct\">.777</td>]"
      ]
     },
     "execution_count": 58,
     "metadata": {},
     "output_type": "execute_result"
    }
   ],
   "source": [
    "soup.find_all('td', class_=['center','left','right'])[:20]"
   ]
  },
  {
   "cell_type": "code",
   "execution_count": 64,
   "metadata": {},
   "outputs": [
    {
     "ename": "SyntaxError",
     "evalue": "keyword can't be an expression (<ipython-input-64-70236bcd0a47>, line 1)",
     "output_type": "error",
     "traceback": [
      "\u001b[0;36m  File \u001b[0;32m\"<ipython-input-64-70236bcd0a47>\"\u001b[0;36m, line \u001b[0;32m1\u001b[0m\n\u001b[0;31m    soup.find_all('td', data-stat =['age'])\u001b[0m\n\u001b[0m                       ^\u001b[0m\n\u001b[0;31mSyntaxError\u001b[0m\u001b[0;31m:\u001b[0m keyword can't be an expression\n"
     ]
    }
   ],
   "source": [
    "soup.find_all('td', data-stat =['age'])"
   ]
  },
  {
   "cell_type": "code",
   "execution_count": null,
   "metadata": {},
   "outputs": [],
   "source": []
  },
  {
   "cell_type": "code",
   "execution_count": 98,
   "metadata": {},
   "outputs": [],
   "source": [
    "#soup_2 = BeautifulSoup(response.content, 'html.parser')"
   ]
  },
  {
   "cell_type": "code",
   "execution_count": null,
   "metadata": {},
   "outputs": [],
   "source": []
  },
  {
   "cell_type": "code",
   "execution_count": null,
   "metadata": {},
   "outputs": [],
   "source": []
  },
  {
   "cell_type": "markdown",
   "metadata": {},
   "source": [
    "### Tweepy\n",
    "\n",
    "- Sign into Twitter apps (https://apps.twitter.com/)\n",
    "- Create application and retrieve `consumer_key`, `consumer_secret`, `access_token`, and `access_token_secret`.  \n",
    "- Follow example below filling in your info.  For more info, see the Tweepy documentation [here](http://tweepy.readthedocs.io/en/v3.5.0/getting_started.html#introduction)."
   ]
  },
  {
   "cell_type": "code",
   "execution_count": 17,
   "metadata": {},
   "outputs": [],
   "source": [
    "consumer_key = 'I7JmWNmyqhzu0VIVpn1DtUAsc'\n",
    "consumer_secret = 'DApKlKIMg2MMdiDEZNE3p3WtSNUF1tq6G70W0TBP4w7AVcZZkk'\n",
    "access_token = '2772844623-sad4NXYbTZhingQY2KycKK6bT3exbjp9dvl25lt'\n",
    "access_token_secret = '06ukALDQTMOCXG2bMXfSmxWMhdoXhzXD3qvUZLKy3YpRb'"
   ]
  },
  {
   "cell_type": "code",
   "execution_count": 19,
   "metadata": {},
   "outputs": [],
   "source": [
    "import tweepy\n",
    "\n",
    "auth = tweepy.OAuthHandler(consumer_key, consumer_secret)\n",
    "auth.set_access_token(access_token, access_token_secret)\n",
    "\n",
    "api = tweepy.API(auth)"
   ]
  },
  {
   "cell_type": "code",
   "execution_count": 20,
   "metadata": {},
   "outputs": [],
   "source": [
    "user = api.get_user('thrashermag')"
   ]
  },
  {
   "cell_type": "code",
   "execution_count": 21,
   "metadata": {},
   "outputs": [
    {
     "name": "stdout",
     "output_type": "stream",
     "text": [
      "Double the handcuffs equals triple the fun. Or pain. Probably pain. Watch the latest episode Tuesday night at 9 pm… https://t.co/CcyguAD6wC\n",
      "On Friday, attendees pulled up to the historic Max Fish bar in the Lower East Side of Manhattan from all over the E… https://t.co/hoZvHDxdKW\n",
      "With a nod to past, but firmly planted in the future, this offering from @dcshoes is everything you could ever want… https://t.co/w4nxVWK4lh\n",
      "With Chico and Carroll as their guides, watch Real tackle some '90s moves and f--ked up Goofy Boy fashion.… https://t.co/BoaQSv0QSD\n",
      "It all kicks off with a beautiful block-to-block line and just keeps getting better. Resounding pop, majestic style… https://t.co/hl76dds6tU\n",
      "Element attacks Sacto with help from Cardiel, Carroll and Chico gives Real an early-90s makeover and the F Troop ba… https://t.co/qWHqhBL2MW\n",
      "T-Funk blows the doors off an NYC hotspot with a rail combo bordering on the absurd. Hell YES.… https://t.co/PbmnhhaqCO\n",
      "A solid crew went over to Omar Hassan’s backyard bowl for an afternoon session before heading to SoCal skateshop fo… https://t.co/H20qRY4NhX\n",
      "The echoes grow louder and louder as the European dream spots just keep looking more and more tasty. Antiz brings t… https://t.co/s8O132OU9H\n",
      "Born and bred skating pools, pipes and parks with the older dudes since the age of five, Tristan Rennie is now 20 a… https://t.co/eNthzvoJOP\n",
      "It’s one thing to do some of the tricks you’re about to see, but it’s a whole other story to be dispatching them in… https://t.co/tzpNOQt0jO\n",
      "The Bay brought the Brute bizness to NYC, terrorizing security guards and owning the streets.… https://t.co/pk6rziFEIm\n",
      "Ishod investigates the science behind unlocking tricks and breaking down mental barriers. You can put your faith in… https://t.co/KHM5zgyIuc\n",
      "If Aliens ever show up on Planet Earth and demand to know more about skateboarding, we’ll show them Ishod footy. He… https://t.co/mnnGOYVK4J\n",
      "Everything about this is perfection. Ishod is in a league of his own. https://t.co/KvYjGToM6s https://t.co/OwjxNczo2m\n",
      "Otherworldly powers meet unstoppable PMA. Evan may just be the greatest KOTR skater ever! Watch the vid and weigh i… https://t.co/WyB7uD5HJj\n",
      "Jimmy backs up his promotion to the Creature Fiends pro ranks with one helluva video part. There’s too many WTF mom… https://t.co/IA0MGea11M\n",
      "Todd Falcon's movie, Jesse Noonan's huge Euro gap, El Toro back tail and more in today's episode of Skateline.… https://t.co/t1k61dgM1A\n",
      "He don't just sit on the sidelines. Andy Roy practices what he preaches ... and pays in pain! Watch episode two, \"D… https://t.co/58tGaK61gC\n",
      "Who's the heaviest dude on KOTR this year? Three words: Star. Head. Body. https://t.co/bXwomNxhhB https://t.co/M5Nyo9Ex1o\n"
     ]
    }
   ],
   "source": [
    "for tweet in user.timeline():\n",
    "    print(tweet.text)"
   ]
  },
  {
   "cell_type": "code",
   "execution_count": 22,
   "metadata": {},
   "outputs": [
    {
     "name": "stdout",
     "output_type": "stream",
     "text": [
      "415866\n"
     ]
    }
   ],
   "source": [
    "print(user.followers_count)"
   ]
  },
  {
   "cell_type": "code",
   "execution_count": 23,
   "metadata": {},
   "outputs": [],
   "source": [
    "tweets = []\n",
    "for tweet in user.timeline(count = 200):\n",
    "    tweets.append(tweet.text)"
   ]
  },
  {
   "cell_type": "code",
   "execution_count": 24,
   "metadata": {},
   "outputs": [
    {
     "data": {
      "text/plain": [
       "['Double the handcuffs equals triple the fun. Or pain. Probably pain. Watch the latest episode Tuesday night at 9 pm… https://t.co/CcyguAD6wC',\n",
       " 'On Friday, attendees pulled up to the historic Max Fish bar in the Lower East Side of Manhattan from all over the E… https://t.co/hoZvHDxdKW',\n",
       " 'With a nod to past, but firmly planted in the future, this offering from @dcshoes is everything you could ever want… https://t.co/w4nxVWK4lh',\n",
       " \"With Chico and Carroll as their guides, watch Real tackle some '90s moves and f--ked up Goofy Boy fashion.… https://t.co/BoaQSv0QSD\",\n",
       " 'It all kicks off with a beautiful block-to-block line and just keeps getting better. Resounding pop, majestic style… https://t.co/hl76dds6tU']"
      ]
     },
     "execution_count": 24,
     "metadata": {},
     "output_type": "execute_result"
    }
   ],
   "source": [
    "tweets[:5]"
   ]
  },
  {
   "cell_type": "code",
   "execution_count": 25,
   "metadata": {},
   "outputs": [],
   "source": [
    "user_BK = api.get_user('Rotoworld_BK')"
   ]
  },
  {
   "cell_type": "code",
   "execution_count": 26,
   "metadata": {},
   "outputs": [
    {
     "name": "stdout",
     "output_type": "stream",
     "text": [
      "110575\n"
     ]
    }
   ],
   "source": [
    "print(user_BK.followers_count)"
   ]
  },
  {
   "cell_type": "code",
   "execution_count": 27,
   "metadata": {},
   "outputs": [],
   "source": [
    "tweets = []\n",
    "for tweet in user_BK.timeline(count = 200):\n",
    "    tweets.append(tweet.text)"
   ]
  },
  {
   "cell_type": "code",
   "execution_count": 29,
   "metadata": {},
   "outputs": [
    {
     "data": {
      "text/plain": [
       "['Clippers acquire Johnathan Motley from Dallas https://t.co/RuWmR7Cfek',\n",
       " 'RT @MikeSGallagher: New fantasy hoops pod! @docktora and I go over the new-look Hawks with tons of John Collins hype, some of the low-key t…',\n",
       " 'Dakari Johnson traded to Memphis for Martin https://t.co/eK26sbIJEz',\n",
       " 'Carmelo Anthony intends to sign with Rockets https://t.co/3sjVswxC6V',\n",
       " 'Tobias Harris turns down $80m extension offer https://t.co/T0R9W8pp4M',\n",
       " 'Report: Cavs have spoken with David Nwaba https://t.co/DxFe4CUNjU',\n",
       " 'Shams: Alex Len finalizing deal with Hawks https://t.co/4FhdkFLs6Z',\n",
       " 'Shams: Kings, Nemanja Bjelica agree to deal https://t.co/Ifts6aWR0Z',\n",
       " 'Shams: Lakers, Michael Beasley agree to deal https://t.co/ejBXkueNNs',\n",
       " 'Shams: Magic trade for Dakari Johnson https://t.co/DLHwLESp3G',\n",
       " 'Shams: Kings, Yogi Ferrell agree to deal https://t.co/qv6bXokAPF',\n",
       " 'Jonah Bolden signs 4-year deal with Sixers https://t.co/YRbgjN5Bem',\n",
       " 'Shams: Sixers trading Richaun Holmes to PHX https://t.co/tTjxlDdCgC',\n",
       " 'Nets trade Darrell Arthur to PHX for Dudley https://t.co/fiIao0sxq5',\n",
       " 'Update: Yogi Ferrell to re-enter free agency https://t.co/ds1GMNr6g0']"
      ]
     },
     "execution_count": 29,
     "metadata": {},
     "output_type": "execute_result"
    }
   ],
   "source": [
    "tweets[:15]"
   ]
  },
  {
   "cell_type": "code",
   "execution_count": 32,
   "metadata": {},
   "outputs": [
    {
     "data": {
      "text/plain": [
       "9"
      ]
     },
     "execution_count": 32,
     "metadata": {},
     "output_type": "execute_result"
    }
   ],
   "source": [
    "user_BK.favourites_count"
   ]
  },
  {
   "cell_type": "code",
   "execution_count": 33,
   "metadata": {},
   "outputs": [
    {
     "data": {
      "text/plain": [
       "1050"
      ]
     },
     "execution_count": 33,
     "metadata": {},
     "output_type": "execute_result"
    }
   ],
   "source": [
    "user.favourites_count"
   ]
  },
  {
   "cell_type": "code",
   "execution_count": null,
   "metadata": {},
   "outputs": [],
   "source": []
  },
  {
   "cell_type": "markdown",
   "metadata": {},
   "source": [
    "### Open Table\n",
    "\n",
    "![](images/open_table.png)\n",
    "\n",
    "Finding restaurants in New York City. (https://www.opentable.com/new-york-restaurant-listings)  Is there good Indian food in the Upper West Side?  Where?  What are people saying is good?"
   ]
  },
  {
   "cell_type": "code",
   "execution_count": null,
   "metadata": {},
   "outputs": [],
   "source": []
  },
  {
   "cell_type": "code",
   "execution_count": null,
   "metadata": {},
   "outputs": [],
   "source": []
  },
  {
   "cell_type": "code",
   "execution_count": null,
   "metadata": {},
   "outputs": [],
   "source": []
  },
  {
   "cell_type": "code",
   "execution_count": null,
   "metadata": {},
   "outputs": [],
   "source": []
  },
  {
   "cell_type": "code",
   "execution_count": null,
   "metadata": {},
   "outputs": [],
   "source": []
  },
  {
   "cell_type": "code",
   "execution_count": null,
   "metadata": {},
   "outputs": [],
   "source": []
  },
  {
   "cell_type": "code",
   "execution_count": null,
   "metadata": {},
   "outputs": [],
   "source": []
  }
 ],
 "metadata": {
  "kernelspec": {
   "display_name": "Python 3",
   "language": "python",
   "name": "python3"
  },
  "language_info": {
   "codemirror_mode": {
    "name": "ipython",
    "version": 3
   },
   "file_extension": ".py",
   "mimetype": "text/x-python",
   "name": "python",
   "nbconvert_exporter": "python",
   "pygments_lexer": "ipython3",
   "version": "3.6.5"
  }
 },
 "nbformat": 4,
 "nbformat_minor": 2
}
