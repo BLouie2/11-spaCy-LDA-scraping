{
 "cells": [
  {
   "cell_type": "markdown",
   "metadata": {},
   "source": [
    "# spaCy\n",
    "\n",
    "Make sure you've installed spacy.  If not, run the cell below after uncommenting it.  We will cover the capabilities we examined in `scikitlearn` as well as some additional functionality with `spaCy` including:\n",
    "\n",
    "- Annotating Text\n",
    "- Tokenizing Text\n",
    "- POS tagging and dependencies\n",
    "- Named entity extraction\n",
    "- Similarity"
   ]
  },
  {
   "cell_type": "code",
   "execution_count": 8,
   "metadata": {},
   "outputs": [],
   "source": [
    "#%%bash\n",
    "#pip install spacy"
   ]
  },
  {
   "cell_type": "code",
   "execution_count": 9,
   "metadata": {},
   "outputs": [],
   "source": [
    "import spacy"
   ]
  },
  {
   "cell_type": "code",
   "execution_count": 11,
   "metadata": {},
   "outputs": [],
   "source": [
    "nlp = spacy.load('en')"
   ]
  },
  {
   "cell_type": "code",
   "execution_count": 12,
   "metadata": {},
   "outputs": [],
   "source": [
    "doc = nlp('This is a sentence about a dog, a priest, and a bicycle in North Dakota named Microsoft.')"
   ]
  },
  {
   "cell_type": "markdown",
   "metadata": {},
   "source": [
    "### The spaCy pipeline\n",
    "\n",
    "![](images/spacy_pipeline.svg)"
   ]
  },
  {
   "cell_type": "code",
   "execution_count": 16,
   "metadata": {},
   "outputs": [
    {
     "name": "stdout",
     "output_type": "stream",
     "text": [
      "('This', 'DET', 'nsubj')\n",
      "('is', 'VERB', 'ROOT')\n",
      "('a', 'DET', 'det')\n",
      "('sentence', 'NOUN', 'attr')\n",
      "('about', 'ADP', 'prep')\n",
      "('a', 'DET', 'det')\n",
      "('dog', 'NOUN', 'pobj')\n",
      "(',', 'PUNCT', 'punct')\n",
      "('a', 'DET', 'det')\n",
      "('priest', 'NOUN', 'appos')\n",
      "(',', 'PUNCT', 'punct')\n",
      "('and', 'CCONJ', 'cc')\n",
      "('a', 'DET', 'det')\n",
      "('bicycle', 'NOUN', 'conj')\n",
      "('in', 'ADP', 'prep')\n",
      "('North', 'PROPN', 'compound')\n",
      "('Dakota', 'PROPN', 'pobj')\n",
      "('named', 'VERB', 'acl')\n",
      "('Microsoft', 'PROPN', 'oprd')\n",
      "('.', 'PUNCT', 'punct')\n"
     ]
    }
   ],
   "source": [
    "for wrd in doc:\n",
    "    print((wrd.text, wrd.pos_, wrd.dep_))"
   ]
  },
  {
   "cell_type": "code",
   "execution_count": 7,
   "metadata": {},
   "outputs": [
    {
     "name": "stdout",
     "output_type": "stream",
     "text": [
      "This\n",
      "is\n",
      "a\n",
      "sentence\n",
      "about\n",
      "a\n",
      "dog\n",
      ",\n",
      "a\n",
      "priest\n",
      ",\n",
      "and\n",
      "a\n",
      "bicycle\n",
      "in\n",
      "North\n",
      "Dakota\n",
      "named\n",
      "Microsoft\n",
      ".\n"
     ]
    }
   ],
   "source": [
    "for word in doc:\n",
    "    print(word.text)"
   ]
  },
  {
   "cell_type": "code",
   "execution_count": 17,
   "metadata": {},
   "outputs": [
    {
     "name": "stdout",
     "output_type": "stream",
     "text": [
      "This this DET DT nsubj Xxxx True False\n",
      "is be VERB VBZ ROOT xx True True\n",
      "a a DET DT det x True True\n",
      "sentence sentence NOUN NN attr xxxx True False\n",
      "about about ADP IN prep xxxx True True\n",
      "a a DET DT det x True True\n",
      "dog dog NOUN NN pobj xxx True False\n",
      ", , PUNCT , punct , False False\n",
      "a a DET DT det x True True\n",
      "priest priest NOUN NN appos xxxx True False\n",
      ", , PUNCT , punct , False False\n",
      "and and CCONJ CC cc xxx True True\n",
      "a a DET DT det x True True\n",
      "bicycle bicycle NOUN NN conj xxxx True False\n",
      "in in ADP IN prep xx True True\n",
      "North north PROPN NNP compound Xxxxx True False\n",
      "Dakota dakota PROPN NNP pobj Xxxxx True False\n",
      "named name VERB VBD acl xxxx True False\n",
      "Microsoft microsoft PROPN NNP oprd Xxxxx True False\n",
      ". . PUNCT . punct . False False\n"
     ]
    }
   ],
   "source": [
    "for token in doc:\n",
    "    print(token.text, token.lemma_, token.pos_, token.tag_, token.dep_,\n",
    "          token.shape_, token.is_alpha, token.is_stop)"
   ]
  },
  {
   "cell_type": "markdown",
   "metadata": {},
   "source": [
    "### POS Tags and Dependency Parsing\n",
    "\n",
    "spaCy POS Tags: https://spacy.io/api/annotation\n",
    "\n",
    "\n",
    "\n",
    "spaCy Dedpendencies: https://spacy.io/usage/linguistic-features\n"
   ]
  },
  {
   "cell_type": "code",
   "execution_count": 18,
   "metadata": {},
   "outputs": [],
   "source": [
    "from spacy import displacy"
   ]
  },
  {
   "cell_type": "code",
   "execution_count": 19,
   "metadata": {},
   "outputs": [
    {
     "data": {
      "text/html": [
       "<svg xmlns=\"http://www.w3.org/2000/svg\" xmlns:xlink=\"http://www.w3.org/1999/xlink\" id=\"0\" class=\"displacy\" width=\"650\" height=\"287.0\" style=\"max-width: none; height: 287.0px; color: white; background: lightblue; font-family: Arial\">\n",
       "<text class=\"displacy-token\" fill=\"currentColor\" text-anchor=\"middle\" y=\"197.0\">\n",
       "    <tspan class=\"displacy-word\" fill=\"currentColor\" x=\"50\">This</tspan>\n",
       "    <tspan class=\"displacy-tag\" dy=\"2em\" fill=\"currentColor\" x=\"50\">DET</tspan>\n",
       "</text>\n",
       "\n",
       "<text class=\"displacy-token\" fill=\"currentColor\" text-anchor=\"middle\" y=\"197.0\">\n",
       "    <tspan class=\"displacy-word\" fill=\"currentColor\" x=\"200\">is</tspan>\n",
       "    <tspan class=\"displacy-tag\" dy=\"2em\" fill=\"currentColor\" x=\"200\">VERB</tspan>\n",
       "</text>\n",
       "\n",
       "<text class=\"displacy-token\" fill=\"currentColor\" text-anchor=\"middle\" y=\"197.0\">\n",
       "    <tspan class=\"displacy-word\" fill=\"currentColor\" x=\"350\">a</tspan>\n",
       "    <tspan class=\"displacy-tag\" dy=\"2em\" fill=\"currentColor\" x=\"350\">DET</tspan>\n",
       "</text>\n",
       "\n",
       "<text class=\"displacy-token\" fill=\"currentColor\" text-anchor=\"middle\" y=\"197.0\">\n",
       "    <tspan class=\"displacy-word\" fill=\"currentColor\" x=\"500\">sentence</tspan>\n",
       "    <tspan class=\"displacy-tag\" dy=\"2em\" fill=\"currentColor\" x=\"500\">NOUN</tspan>\n",
       "</text>\n",
       "\n",
       "<g class=\"displacy-arrow\">\n",
       "    <path class=\"displacy-arc\" id=\"arrow-0-0\" stroke-width=\"2px\" d=\"M62,152.0 62,127.0 197.0,127.0 197.0,152.0\" fill=\"none\" stroke=\"currentColor\"/>\n",
       "    <text dy=\"1.25em\" style=\"font-size: 0.8em; letter-spacing: 1px\">\n",
       "        <textPath xlink:href=\"#arrow-0-0\" class=\"displacy-label\" startOffset=\"50%\" fill=\"currentColor\" text-anchor=\"middle\">nsubj</textPath>\n",
       "    </text>\n",
       "    <path class=\"displacy-arrowhead\" d=\"M62,154.0 L58,146.0 66,146.0\" fill=\"currentColor\"/>\n",
       "</g>\n",
       "\n",
       "<g class=\"displacy-arrow\">\n",
       "    <path class=\"displacy-arc\" id=\"arrow-0-1\" stroke-width=\"2px\" d=\"M362,152.0 362,127.0 497.0,127.0 497.0,152.0\" fill=\"none\" stroke=\"currentColor\"/>\n",
       "    <text dy=\"1.25em\" style=\"font-size: 0.8em; letter-spacing: 1px\">\n",
       "        <textPath xlink:href=\"#arrow-0-1\" class=\"displacy-label\" startOffset=\"50%\" fill=\"currentColor\" text-anchor=\"middle\">det</textPath>\n",
       "    </text>\n",
       "    <path class=\"displacy-arrowhead\" d=\"M362,154.0 L358,146.0 366,146.0\" fill=\"currentColor\"/>\n",
       "</g>\n",
       "\n",
       "<g class=\"displacy-arrow\">\n",
       "    <path class=\"displacy-arc\" id=\"arrow-0-2\" stroke-width=\"2px\" d=\"M212,152.0 212,102.0 500.0,102.0 500.0,152.0\" fill=\"none\" stroke=\"currentColor\"/>\n",
       "    <text dy=\"1.25em\" style=\"font-size: 0.8em; letter-spacing: 1px\">\n",
       "        <textPath xlink:href=\"#arrow-0-2\" class=\"displacy-label\" startOffset=\"50%\" fill=\"currentColor\" text-anchor=\"middle\">attr</textPath>\n",
       "    </text>\n",
       "    <path class=\"displacy-arrowhead\" d=\"M500.0,154.0 L504.0,146.0 496.0,146.0\" fill=\"currentColor\"/>\n",
       "</g>\n",
       "</svg>"
      ],
      "text/plain": [
       "<IPython.core.display.HTML object>"
      ]
     },
     "metadata": {},
     "output_type": "display_data"
    }
   ],
   "source": [
    "doc = nlp('This is a sentence')\n",
    "opts = {'color': 'white', 'bg': 'lightblue', 'compact': True}\n",
    "displacy.render(doc, style='dep', jupyter=True, options = opts)"
   ]
  },
  {
   "cell_type": "markdown",
   "metadata": {},
   "source": [
    "### Named Entity Recognition\n",
    "\n",
    "spaCy entities: https://spacy.io/usage/linguistic-features#entity-types"
   ]
  },
  {
   "cell_type": "code",
   "execution_count": 20,
   "metadata": {},
   "outputs": [
    {
     "name": "stdout",
     "output_type": "stream",
     "text": [
      "Apple 0 5 ORG\n",
      "U.K. 27 31 GPE\n",
      "$1 billion 44 54 MONEY\n"
     ]
    }
   ],
   "source": [
    "doc = nlp('Apple is looking at buying U.K. startup for $1 billion')\n",
    "\n",
    "for ent in doc.ents:\n",
    "    print(ent.text, ent.start_char, ent.end_char, ent.label_)"
   ]
  },
  {
   "cell_type": "code",
   "execution_count": 21,
   "metadata": {},
   "outputs": [
    {
     "data": {
      "text/html": [
       "<div class=\"entities\" style=\"line-height: 2.5\">\n",
       "<mark class=\"entity\" style=\"background: #7aecec; padding: 0.45em 0.6em; margin: 0 0.25em; line-height: 1; border-radius: 0.35em; box-decoration-break: clone; -webkit-box-decoration-break: clone\">\n",
       "    Apple\n",
       "    <span style=\"font-size: 0.8em; font-weight: bold; line-height: 1; border-radius: 0.35em; text-transform: uppercase; vertical-align: middle; margin-left: 0.5rem\">ORG</span>\n",
       "</mark>\n",
       " is looking at buying \n",
       "<mark class=\"entity\" style=\"background: #feca74; padding: 0.45em 0.6em; margin: 0 0.25em; line-height: 1; border-radius: 0.35em; box-decoration-break: clone; -webkit-box-decoration-break: clone\">\n",
       "    U.K.\n",
       "    <span style=\"font-size: 0.8em; font-weight: bold; line-height: 1; border-radius: 0.35em; text-transform: uppercase; vertical-align: middle; margin-left: 0.5rem\">GPE</span>\n",
       "</mark>\n",
       " startup for \n",
       "<mark class=\"entity\" style=\"background: #e4e7d2; padding: 0.45em 0.6em; margin: 0 0.25em; line-height: 1; border-radius: 0.35em; box-decoration-break: clone; -webkit-box-decoration-break: clone\">\n",
       "    $1 billion\n",
       "    <span style=\"font-size: 0.8em; font-weight: bold; line-height: 1; border-radius: 0.35em; text-transform: uppercase; vertical-align: middle; margin-left: 0.5rem\">MONEY</span>\n",
       "</mark>\n",
       "</div>"
      ],
      "text/plain": [
       "<IPython.core.display.HTML object>"
      ]
     },
     "metadata": {},
     "output_type": "display_data"
    }
   ],
   "source": [
    "displacy.render(doc, style='ent', jupyter=True)"
   ]
  },
  {
   "cell_type": "code",
   "execution_count": 22,
   "metadata": {},
   "outputs": [],
   "source": [
    "import pandas as pd"
   ]
  },
  {
   "cell_type": "code",
   "execution_count": 23,
   "metadata": {},
   "outputs": [],
   "source": [
    "train = pd.read_csv('data/ny_donors.csv')"
   ]
  },
  {
   "cell_type": "code",
   "execution_count": 15,
   "metadata": {},
   "outputs": [
    {
     "data": {
      "text/html": [
       "<div>\n",
       "<style scoped>\n",
       "    .dataframe tbody tr th:only-of-type {\n",
       "        vertical-align: middle;\n",
       "    }\n",
       "\n",
       "    .dataframe tbody tr th {\n",
       "        vertical-align: top;\n",
       "    }\n",
       "\n",
       "    .dataframe thead th {\n",
       "        text-align: right;\n",
       "    }\n",
       "</style>\n",
       "<table border=\"1\" class=\"dataframe\">\n",
       "  <thead>\n",
       "    <tr style=\"text-align: right;\">\n",
       "      <th></th>\n",
       "      <th>Unnamed: 0</th>\n",
       "      <th>id</th>\n",
       "      <th>teacher_id</th>\n",
       "      <th>teacher_prefix</th>\n",
       "      <th>school_state</th>\n",
       "      <th>project_submitted_datetime</th>\n",
       "      <th>project_grade_category</th>\n",
       "      <th>project_subject_categories</th>\n",
       "      <th>project_subject_subcategories</th>\n",
       "      <th>project_title</th>\n",
       "      <th>project_essay_1</th>\n",
       "      <th>project_essay_2</th>\n",
       "      <th>project_essay_3</th>\n",
       "      <th>project_essay_4</th>\n",
       "      <th>project_resource_summary</th>\n",
       "      <th>teacher_number_of_previously_posted_projects</th>\n",
       "      <th>project_is_approved</th>\n",
       "    </tr>\n",
       "  </thead>\n",
       "  <tbody>\n",
       "    <tr>\n",
       "      <th>0</th>\n",
       "      <td>13</td>\n",
       "      <td>p173555</td>\n",
       "      <td>9b7f355e34bc9ca5740779b69ee14d8e</td>\n",
       "      <td>Mrs.</td>\n",
       "      <td>NY</td>\n",
       "      <td>2016-11-15 22:13:39</td>\n",
       "      <td>Grades 3-5</td>\n",
       "      <td>Literacy &amp; Language</td>\n",
       "      <td>Literature &amp; Writing</td>\n",
       "      <td>Extra! Extra! Read all about it!!  We love to ...</td>\n",
       "      <td>Each day my fifth graders walk into our \\\"home...</td>\n",
       "      <td>My students have had a taste of good reading! ...</td>\n",
       "      <td>NaN</td>\n",
       "      <td>NaN</td>\n",
       "      <td>My students need good books, with life lessons...</td>\n",
       "      <td>5</td>\n",
       "      <td>0</td>\n",
       "    </tr>\n",
       "    <tr>\n",
       "      <th>1</th>\n",
       "      <td>21</td>\n",
       "      <td>p116615</td>\n",
       "      <td>b3593a375f2cf7fd4469b928ffac1c95</td>\n",
       "      <td>Mrs.</td>\n",
       "      <td>NY</td>\n",
       "      <td>2016-09-30 08:12:37</td>\n",
       "      <td>Grades PreK-2</td>\n",
       "      <td>Applied Learning, Music &amp; The Arts</td>\n",
       "      <td>Early Development, Performing Arts</td>\n",
       "      <td>Oral Language Development through the use of p...</td>\n",
       "      <td>Teaching kindergarten in a diverse district po...</td>\n",
       "      <td>Students don't often get the chance to 'play' ...</td>\n",
       "      <td>NaN</td>\n",
       "      <td>NaN</td>\n",
       "      <td>My students need the opportunity to develop or...</td>\n",
       "      <td>0</td>\n",
       "      <td>1</td>\n",
       "    </tr>\n",
       "    <tr>\n",
       "      <th>2</th>\n",
       "      <td>30</td>\n",
       "      <td>p081434</td>\n",
       "      <td>17563b7d138a9ca1e7308f0f480e7d09</td>\n",
       "      <td>Ms.</td>\n",
       "      <td>NY</td>\n",
       "      <td>2016-12-06 21:19:44</td>\n",
       "      <td>Grades PreK-2</td>\n",
       "      <td>Health &amp; Sports, Special Needs</td>\n",
       "      <td>Health &amp; Wellness, Special Needs</td>\n",
       "      <td>Seating Like a Boss- Our 21st Century Room</td>\n",
       "      <td>\\\"Great job buddy!\\\" is something I hear every...</td>\n",
       "      <td>In order to promote essential learning skills ...</td>\n",
       "      <td>NaN</td>\n",
       "      <td>NaN</td>\n",
       "      <td>My students need an opportunity to sit and wor...</td>\n",
       "      <td>9</td>\n",
       "      <td>0</td>\n",
       "    </tr>\n",
       "    <tr>\n",
       "      <th>3</th>\n",
       "      <td>32</td>\n",
       "      <td>p156550</td>\n",
       "      <td>a902ce7ebdce6f236873d6b443c3ca08</td>\n",
       "      <td>Ms.</td>\n",
       "      <td>NY</td>\n",
       "      <td>2017-03-30 20:05:08</td>\n",
       "      <td>Grades 9-12</td>\n",
       "      <td>Applied Learning, Special Needs</td>\n",
       "      <td>Other, Special Needs</td>\n",
       "      <td>Keeping Students Focused with Fun and Technology!</td>\n",
       "      <td>Attending a District 75 high school in Bronx, ...</td>\n",
       "      <td>With a classroom lacking technology, student i...</td>\n",
       "      <td>NaN</td>\n",
       "      <td>NaN</td>\n",
       "      <td>My students need a wider variety of Interactiv...</td>\n",
       "      <td>0</td>\n",
       "      <td>1</td>\n",
       "    </tr>\n",
       "    <tr>\n",
       "      <th>4</th>\n",
       "      <td>59</td>\n",
       "      <td>p186381</td>\n",
       "      <td>da67f09a612a32fa30c9c80bed7e6365</td>\n",
       "      <td>Mrs.</td>\n",
       "      <td>NY</td>\n",
       "      <td>2016-09-24 11:36:26</td>\n",
       "      <td>Grades PreK-2</td>\n",
       "      <td>Literacy &amp; Language</td>\n",
       "      <td>Literacy, Literature &amp; Writing</td>\n",
       "      <td>Listening &amp; Learning in First Grade</td>\n",
       "      <td>Who doesn't enjoy listening to a great story? ...</td>\n",
       "      <td>The Listening Center in the classroom is alway...</td>\n",
       "      <td>NaN</td>\n",
       "      <td>NaN</td>\n",
       "      <td>My students need wireless headphones to use in...</td>\n",
       "      <td>9</td>\n",
       "      <td>1</td>\n",
       "    </tr>\n",
       "  </tbody>\n",
       "</table>\n",
       "</div>"
      ],
      "text/plain": [
       "   Unnamed: 0       id                        teacher_id teacher_prefix  \\\n",
       "0          13  p173555  9b7f355e34bc9ca5740779b69ee14d8e           Mrs.   \n",
       "1          21  p116615  b3593a375f2cf7fd4469b928ffac1c95           Mrs.   \n",
       "2          30  p081434  17563b7d138a9ca1e7308f0f480e7d09            Ms.   \n",
       "3          32  p156550  a902ce7ebdce6f236873d6b443c3ca08            Ms.   \n",
       "4          59  p186381  da67f09a612a32fa30c9c80bed7e6365           Mrs.   \n",
       "\n",
       "  school_state project_submitted_datetime project_grade_category  \\\n",
       "0           NY        2016-11-15 22:13:39             Grades 3-5   \n",
       "1           NY        2016-09-30 08:12:37          Grades PreK-2   \n",
       "2           NY        2016-12-06 21:19:44          Grades PreK-2   \n",
       "3           NY        2017-03-30 20:05:08            Grades 9-12   \n",
       "4           NY        2016-09-24 11:36:26          Grades PreK-2   \n",
       "\n",
       "           project_subject_categories       project_subject_subcategories  \\\n",
       "0                 Literacy & Language                Literature & Writing   \n",
       "1  Applied Learning, Music & The Arts  Early Development, Performing Arts   \n",
       "2      Health & Sports, Special Needs    Health & Wellness, Special Needs   \n",
       "3     Applied Learning, Special Needs                Other, Special Needs   \n",
       "4                 Literacy & Language      Literacy, Literature & Writing   \n",
       "\n",
       "                                       project_title  \\\n",
       "0  Extra! Extra! Read all about it!!  We love to ...   \n",
       "1  Oral Language Development through the use of p...   \n",
       "2         Seating Like a Boss- Our 21st Century Room   \n",
       "3  Keeping Students Focused with Fun and Technology!   \n",
       "4                Listening & Learning in First Grade   \n",
       "\n",
       "                                     project_essay_1  \\\n",
       "0  Each day my fifth graders walk into our \\\"home...   \n",
       "1  Teaching kindergarten in a diverse district po...   \n",
       "2  \\\"Great job buddy!\\\" is something I hear every...   \n",
       "3  Attending a District 75 high school in Bronx, ...   \n",
       "4  Who doesn't enjoy listening to a great story? ...   \n",
       "\n",
       "                                     project_essay_2 project_essay_3  \\\n",
       "0  My students have had a taste of good reading! ...             NaN   \n",
       "1  Students don't often get the chance to 'play' ...             NaN   \n",
       "2  In order to promote essential learning skills ...             NaN   \n",
       "3  With a classroom lacking technology, student i...             NaN   \n",
       "4  The Listening Center in the classroom is alway...             NaN   \n",
       "\n",
       "  project_essay_4                           project_resource_summary  \\\n",
       "0             NaN  My students need good books, with life lessons...   \n",
       "1             NaN  My students need the opportunity to develop or...   \n",
       "2             NaN  My students need an opportunity to sit and wor...   \n",
       "3             NaN  My students need a wider variety of Interactiv...   \n",
       "4             NaN  My students need wireless headphones to use in...   \n",
       "\n",
       "   teacher_number_of_previously_posted_projects  project_is_approved  \n",
       "0                                             5                    0  \n",
       "1                                             0                    1  \n",
       "2                                             9                    0  \n",
       "3                                             0                    1  \n",
       "4                                             9                    1  "
      ]
     },
     "execution_count": 15,
     "metadata": {},
     "output_type": "execute_result"
    }
   ],
   "source": [
    "train.head()"
   ]
  },
  {
   "cell_type": "code",
   "execution_count": 24,
   "metadata": {},
   "outputs": [],
   "source": [
    "essay = train.project_essay_1[10]"
   ]
  },
  {
   "cell_type": "code",
   "execution_count": 27,
   "metadata": {},
   "outputs": [
    {
     "data": {
      "text/plain": [
       "\"I have the amazing opportunity to collaborate with over 500 students in our STEM (Science, Technology, Engineering, Math) Inquiry-Based Learning Lab.  We are located in a small, rural community in Western New York.  (We can see cows from our classroom!)  I work with every student in our K-6 population on STEM project based learning.  \\\\r\\\\n\\\\r\\\\nWe would like to utilize engineering, robotics, and programming to develop solutions to real-world STEM problems.  Please help us move our youth's focus from passive consumers of technology to innovative creators of programs and inventions.  This will allow our students to begin thinking about career paths at an early-age and to develop confidence with a positive mindset concerning the STEM content areas.\""
      ]
     },
     "execution_count": 27,
     "metadata": {},
     "output_type": "execute_result"
    }
   ],
   "source": [
    "essay"
   ]
  },
  {
   "cell_type": "code",
   "execution_count": 25,
   "metadata": {},
   "outputs": [],
   "source": [
    "doc = nlp(essay)"
   ]
  },
  {
   "cell_type": "code",
   "execution_count": 26,
   "metadata": {},
   "outputs": [
    {
     "data": {
      "text/html": [
       "<div class=\"entities\" style=\"line-height: 2.5\">I have the amazing opportunity to collaborate with over \n",
       "<mark class=\"entity\" style=\"background: #e4e7d2; padding: 0.45em 0.6em; margin: 0 0.25em; line-height: 1; border-radius: 0.35em; box-decoration-break: clone; -webkit-box-decoration-break: clone\">\n",
       "    500\n",
       "    <span style=\"font-size: 0.8em; font-weight: bold; line-height: 1; border-radius: 0.35em; text-transform: uppercase; vertical-align: middle; margin-left: 0.5rem\">CARDINAL</span>\n",
       "</mark>\n",
       " students in our \n",
       "<mark class=\"entity\" style=\"background: #7aecec; padding: 0.45em 0.6em; margin: 0 0.25em; line-height: 1; border-radius: 0.35em; box-decoration-break: clone; -webkit-box-decoration-break: clone\">\n",
       "    STEM\n",
       "    <span style=\"font-size: 0.8em; font-weight: bold; line-height: 1; border-radius: 0.35em; text-transform: uppercase; vertical-align: middle; margin-left: 0.5rem\">ORG</span>\n",
       "</mark>\n",
       " (\n",
       "<mark class=\"entity\" style=\"background: #7aecec; padding: 0.45em 0.6em; margin: 0 0.25em; line-height: 1; border-radius: 0.35em; box-decoration-break: clone; -webkit-box-decoration-break: clone\">\n",
       "    Science, Technology, Engineering\n",
       "    <span style=\"font-size: 0.8em; font-weight: bold; line-height: 1; border-radius: 0.35em; text-transform: uppercase; vertical-align: middle; margin-left: 0.5rem\">ORG</span>\n",
       "</mark>\n",
       ", Math) Inquiry-Based Learning Lab.  We are located in a small, rural community in \n",
       "<mark class=\"entity\" style=\"background: #ff9561; padding: 0.45em 0.6em; margin: 0 0.25em; line-height: 1; border-radius: 0.35em; box-decoration-break: clone; -webkit-box-decoration-break: clone\">\n",
       "    Western New York\n",
       "    <span style=\"font-size: 0.8em; font-weight: bold; line-height: 1; border-radius: 0.35em; text-transform: uppercase; vertical-align: middle; margin-left: 0.5rem\">LOC</span>\n",
       "</mark>\n",
       ".  (We can see cows from our classroom!) \n",
       "<mark class=\"entity\" style=\"background: #c887fb; padding: 0.45em 0.6em; margin: 0 0.25em; line-height: 1; border-radius: 0.35em; box-decoration-break: clone; -webkit-box-decoration-break: clone\">\n",
       "     \n",
       "    <span style=\"font-size: 0.8em; font-weight: bold; line-height: 1; border-radius: 0.35em; text-transform: uppercase; vertical-align: middle; margin-left: 0.5rem\">NORP</span>\n",
       "</mark>\n",
       "I work with every student in our \n",
       "<mark class=\"entity\" style=\"background: #aa9cfc; padding: 0.45em 0.6em; margin: 0 0.25em; line-height: 1; border-radius: 0.35em; box-decoration-break: clone; -webkit-box-decoration-break: clone\">\n",
       "    K-6\n",
       "    <span style=\"font-size: 0.8em; font-weight: bold; line-height: 1; border-radius: 0.35em; text-transform: uppercase; vertical-align: middle; margin-left: 0.5rem\">PERSON</span>\n",
       "</mark>\n",
       " population on \n",
       "<mark class=\"entity\" style=\"background: #7aecec; padding: 0.45em 0.6em; margin: 0 0.25em; line-height: 1; border-radius: 0.35em; box-decoration-break: clone; -webkit-box-decoration-break: clone\">\n",
       "    STEM\n",
       "    <span style=\"font-size: 0.8em; font-weight: bold; line-height: 1; border-radius: 0.35em; text-transform: uppercase; vertical-align: middle; margin-left: 0.5rem\">ORG</span>\n",
       "</mark>\n",
       " project based learning.  \\r\\n\\r\\nWe would like to utilize engineering, robotics, and programming to develop solutions to real-world \n",
       "<mark class=\"entity\" style=\"background: #7aecec; padding: 0.45em 0.6em; margin: 0 0.25em; line-height: 1; border-radius: 0.35em; box-decoration-break: clone; -webkit-box-decoration-break: clone\">\n",
       "    STEM\n",
       "    <span style=\"font-size: 0.8em; font-weight: bold; line-height: 1; border-radius: 0.35em; text-transform: uppercase; vertical-align: middle; margin-left: 0.5rem\">ORG</span>\n",
       "</mark>\n",
       " problems.  Please help us move our youth's focus from passive consumers of technology to innovative creators of programs and inventions.  This will allow our students to begin thinking about career paths at an \n",
       "<mark class=\"entity\" style=\"background: #bfe1d9; padding: 0.45em 0.6em; margin: 0 0.25em; line-height: 1; border-radius: 0.35em; box-decoration-break: clone; -webkit-box-decoration-break: clone\">\n",
       "    early-age\n",
       "    <span style=\"font-size: 0.8em; font-weight: bold; line-height: 1; border-radius: 0.35em; text-transform: uppercase; vertical-align: middle; margin-left: 0.5rem\">DATE</span>\n",
       "</mark>\n",
       " and to develop confidence with a positive mindset concerning the \n",
       "<mark class=\"entity\" style=\"background: #7aecec; padding: 0.45em 0.6em; margin: 0 0.25em; line-height: 1; border-radius: 0.35em; box-decoration-break: clone; -webkit-box-decoration-break: clone\">\n",
       "    STEM\n",
       "    <span style=\"font-size: 0.8em; font-weight: bold; line-height: 1; border-radius: 0.35em; text-transform: uppercase; vertical-align: middle; margin-left: 0.5rem\">ORG</span>\n",
       "</mark>\n",
       " content areas.</div>"
      ],
      "text/plain": [
       "<IPython.core.display.HTML object>"
      ]
     },
     "metadata": {},
     "output_type": "display_data"
    }
   ],
   "source": [
    "displacy.render(doc, style='ent', jupyter=True)"
   ]
  },
  {
   "cell_type": "code",
   "execution_count": 19,
   "metadata": {},
   "outputs": [
    {
     "data": {
      "text/html": [
       "<h2 style=\"margin: 0\">Extra! Extra! Read all about it!!  We love to read!!</h2>\n",
       "\n",
       "<div class=\"entities\" style=\"line-height: 2.5\">I have the amazing opportunity to collaborate with over \n",
       "<mark class=\"entity\" style=\"background: #e4e7d2; padding: 0.45em 0.6em; margin: 0 0.25em; line-height: 1; border-radius: 0.35em; box-decoration-break: clone; -webkit-box-decoration-break: clone\">\n",
       "    500\n",
       "    <span style=\"font-size: 0.8em; font-weight: bold; line-height: 1; border-radius: 0.35em; text-transform: uppercase; vertical-align: middle; margin-left: 0.5rem\">CARDINAL</span>\n",
       "</mark>\n",
       " students in our \n",
       "<mark class=\"entity\" style=\"background: #7aecec; padding: 0.45em 0.6em; margin: 0 0.25em; line-height: 1; border-radius: 0.35em; box-decoration-break: clone; -webkit-box-decoration-break: clone\">\n",
       "    STEM\n",
       "    <span style=\"font-size: 0.8em; font-weight: bold; line-height: 1; border-radius: 0.35em; text-transform: uppercase; vertical-align: middle; margin-left: 0.5rem\">ORG</span>\n",
       "</mark>\n",
       " (\n",
       "<mark class=\"entity\" style=\"background: #7aecec; padding: 0.45em 0.6em; margin: 0 0.25em; line-height: 1; border-radius: 0.35em; box-decoration-break: clone; -webkit-box-decoration-break: clone\">\n",
       "    Science, Technology, Engineering\n",
       "    <span style=\"font-size: 0.8em; font-weight: bold; line-height: 1; border-radius: 0.35em; text-transform: uppercase; vertical-align: middle; margin-left: 0.5rem\">ORG</span>\n",
       "</mark>\n",
       ", Math) Inquiry-Based Learning Lab.  We are located in a small, rural community in \n",
       "<mark class=\"entity\" style=\"background: #ff9561; padding: 0.45em 0.6em; margin: 0 0.25em; line-height: 1; border-radius: 0.35em; box-decoration-break: clone; -webkit-box-decoration-break: clone\">\n",
       "    Western New York\n",
       "    <span style=\"font-size: 0.8em; font-weight: bold; line-height: 1; border-radius: 0.35em; text-transform: uppercase; vertical-align: middle; margin-left: 0.5rem\">LOC</span>\n",
       "</mark>\n",
       ".  (We can see cows from our classroom!) \n",
       "<mark class=\"entity\" style=\"background: #c887fb; padding: 0.45em 0.6em; margin: 0 0.25em; line-height: 1; border-radius: 0.35em; box-decoration-break: clone; -webkit-box-decoration-break: clone\">\n",
       "     \n",
       "    <span style=\"font-size: 0.8em; font-weight: bold; line-height: 1; border-radius: 0.35em; text-transform: uppercase; vertical-align: middle; margin-left: 0.5rem\">NORP</span>\n",
       "</mark>\n",
       "I work with every student in our \n",
       "<mark class=\"entity\" style=\"background: #aa9cfc; padding: 0.45em 0.6em; margin: 0 0.25em; line-height: 1; border-radius: 0.35em; box-decoration-break: clone; -webkit-box-decoration-break: clone\">\n",
       "    K-6\n",
       "    <span style=\"font-size: 0.8em; font-weight: bold; line-height: 1; border-radius: 0.35em; text-transform: uppercase; vertical-align: middle; margin-left: 0.5rem\">PERSON</span>\n",
       "</mark>\n",
       " population on \n",
       "<mark class=\"entity\" style=\"background: #7aecec; padding: 0.45em 0.6em; margin: 0 0.25em; line-height: 1; border-radius: 0.35em; box-decoration-break: clone; -webkit-box-decoration-break: clone\">\n",
       "    STEM\n",
       "    <span style=\"font-size: 0.8em; font-weight: bold; line-height: 1; border-radius: 0.35em; text-transform: uppercase; vertical-align: middle; margin-left: 0.5rem\">ORG</span>\n",
       "</mark>\n",
       " project based learning.  \\r\\n\\r\\nWe would like to utilize engineering, robotics, and programming to develop solutions to real-world \n",
       "<mark class=\"entity\" style=\"background: #7aecec; padding: 0.45em 0.6em; margin: 0 0.25em; line-height: 1; border-radius: 0.35em; box-decoration-break: clone; -webkit-box-decoration-break: clone\">\n",
       "    STEM\n",
       "    <span style=\"font-size: 0.8em; font-weight: bold; line-height: 1; border-radius: 0.35em; text-transform: uppercase; vertical-align: middle; margin-left: 0.5rem\">ORG</span>\n",
       "</mark>\n",
       " problems.  Please help us move our youth's focus from passive consumers of technology to innovative creators of programs and inventions.  This will allow our students to begin thinking about career paths at an \n",
       "<mark class=\"entity\" style=\"background: #bfe1d9; padding: 0.45em 0.6em; margin: 0 0.25em; line-height: 1; border-radius: 0.35em; box-decoration-break: clone; -webkit-box-decoration-break: clone\">\n",
       "    early-age\n",
       "    <span style=\"font-size: 0.8em; font-weight: bold; line-height: 1; border-radius: 0.35em; text-transform: uppercase; vertical-align: middle; margin-left: 0.5rem\">DATE</span>\n",
       "</mark>\n",
       " and to develop confidence with a positive mindset concerning the \n",
       "<mark class=\"entity\" style=\"background: #7aecec; padding: 0.45em 0.6em; margin: 0 0.25em; line-height: 1; border-radius: 0.35em; box-decoration-break: clone; -webkit-box-decoration-break: clone\">\n",
       "    STEM\n",
       "    <span style=\"font-size: 0.8em; font-weight: bold; line-height: 1; border-radius: 0.35em; text-transform: uppercase; vertical-align: middle; margin-left: 0.5rem\">ORG</span>\n",
       "</mark>\n",
       " content areas.</div>"
      ],
      "text/plain": [
       "<IPython.core.display.HTML object>"
      ]
     },
     "metadata": {},
     "output_type": "display_data"
    }
   ],
   "source": [
    "doc.user_data['title'] = train.project_title[0]\n",
    "displacy.render(doc, style='ent', jupyter=True)"
   ]
  },
  {
   "cell_type": "code",
   "execution_count": 20,
   "metadata": {},
   "outputs": [],
   "source": [
    "sents = essay.split('.')"
   ]
  },
  {
   "cell_type": "code",
   "execution_count": 21,
   "metadata": {},
   "outputs": [
    {
     "data": {
      "text/plain": [
       "'I have the amazing opportunity to collaborate with over 500 students in our STEM (Science, Technology, Engineering, Math) Inquiry-Based Learning Lab'"
      ]
     },
     "execution_count": 21,
     "metadata": {},
     "output_type": "execute_result"
    }
   ],
   "source": [
    "sents[0]"
   ]
  },
  {
   "cell_type": "code",
   "execution_count": 22,
   "metadata": {},
   "outputs": [],
   "source": [
    "sent = sents[0].replace('\\\\', '')"
   ]
  },
  {
   "cell_type": "code",
   "execution_count": 23,
   "metadata": {},
   "outputs": [
    {
     "data": {
      "text/plain": [
       "'I have the amazing opportunity to collaborate with over 500 students in our STEM (Science, Technology, Engineering, Math) Inquiry-Based Learning Lab'"
      ]
     },
     "execution_count": 23,
     "metadata": {},
     "output_type": "execute_result"
    }
   ],
   "source": [
    "sent"
   ]
  },
  {
   "cell_type": "code",
   "execution_count": 24,
   "metadata": {},
   "outputs": [],
   "source": [
    "doc = nlp(sent)"
   ]
  },
  {
   "cell_type": "code",
   "execution_count": 25,
   "metadata": {},
   "outputs": [
    {
     "name": "stdout",
     "output_type": "stream",
     "text": [
      "I PRON\n",
      "have VERB\n",
      "the DET\n",
      "amazing ADJ\n",
      "opportunity NOUN\n",
      "to PART\n",
      "collaborate VERB\n",
      "with ADP\n",
      "over ADP\n",
      "500 NUM\n",
      "students NOUN\n",
      "in ADP\n",
      "our ADJ\n",
      "STEM NOUN\n",
      "( PUNCT\n",
      "Science NOUN\n",
      ", PUNCT\n",
      "Technology PROPN\n",
      ", PUNCT\n",
      "Engineering PROPN\n",
      ", PUNCT\n",
      "Math PROPN\n",
      ") PUNCT\n",
      "Inquiry PROPN\n",
      "- PUNCT\n",
      "Based VERB\n",
      "Learning PROPN\n",
      "Lab NOUN\n"
     ]
    }
   ],
   "source": [
    "for word in doc:\n",
    "    print(word.text, word.pos_)"
   ]
  },
  {
   "cell_type": "code",
   "execution_count": 28,
   "metadata": {},
   "outputs": [
    {
     "name": "stdout",
     "output_type": "stream",
     "text": [
      "500 56 59 CARDINAL\n",
      "STEM 76 80 ORG\n",
      "Science, Technology, Engineering 82 114 ORG\n",
      "Western New York 197 213 LOC\n",
      "  254 255 NORP\n",
      "K-6 288 291 PERSON\n",
      "STEM 306 310 ORG\n",
      "STEM 443 447 ORG\n",
      "early-age 658 667 DATE\n",
      "STEM 733 737 ORG\n"
     ]
    }
   ],
   "source": [
    "for ent in doc.ents:\n",
    "    print(ent.text, ent.start_char, ent.end_char, ent.label_)"
   ]
  },
  {
   "cell_type": "code",
   "execution_count": 29,
   "metadata": {},
   "outputs": [],
   "source": [
    "from spacy.lang.en.stop_words import STOP_WORDS"
   ]
  },
  {
   "cell_type": "code",
   "execution_count": 30,
   "metadata": {},
   "outputs": [],
   "source": [
    "sentence = []\n",
    "for w in doc:\n",
    "    if w.text != 'n' and not w.is_stop and not w.is_punct and not w.like_num:\n",
    "        sentence.append(w.lemma_)"
   ]
  },
  {
   "cell_type": "code",
   "execution_count": 31,
   "metadata": {},
   "outputs": [
    {
     "data": {
      "text/plain": [
       "['-PRON-',\n",
       " 'amazing',\n",
       " 'opportunity',\n",
       " 'collaborate',\n",
       " 'student',\n",
       " 'stem',\n",
       " 'science',\n",
       " 'technology',\n",
       " 'engineering',\n",
       " 'math',\n",
       " 'inquiry',\n",
       " 'base',\n",
       " 'learning',\n",
       " 'lab',\n",
       " ' ',\n",
       " '-PRON-',\n",
       " 'locate',\n",
       " 'small',\n",
       " 'rural',\n",
       " 'community',\n",
       " 'western',\n",
       " 'new',\n",
       " 'york',\n",
       " ' ',\n",
       " '-PRON-',\n",
       " 'cow',\n",
       " 'classroom',\n",
       " ' ',\n",
       " '-PRON-',\n",
       " 'work',\n",
       " 'student',\n",
       " 'k-6',\n",
       " 'population',\n",
       " 'stem',\n",
       " 'project',\n",
       " 'base',\n",
       " 'learn',\n",
       " ' ',\n",
       " '\\\\r\\\\n\\\\r\\\\nwe',\n",
       " 'like',\n",
       " 'utilize',\n",
       " 'engineering',\n",
       " 'robotic',\n",
       " 'programming',\n",
       " 'develop',\n",
       " 'solution',\n",
       " 'real',\n",
       " 'world',\n",
       " 'stem',\n",
       " 'problem',\n",
       " ' ',\n",
       " 'please',\n",
       " 'help',\n",
       " 'youth',\n",
       " \"'s\",\n",
       " 'focus',\n",
       " 'passive',\n",
       " 'consumer',\n",
       " 'technology',\n",
       " 'innovative',\n",
       " 'creator',\n",
       " 'program',\n",
       " 'invention',\n",
       " ' ',\n",
       " 'this',\n",
       " 'allow',\n",
       " 'student',\n",
       " 'begin',\n",
       " 'think',\n",
       " 'career',\n",
       " 'path',\n",
       " 'early',\n",
       " 'age',\n",
       " 'develop',\n",
       " 'confidence',\n",
       " 'positive',\n",
       " 'mindset',\n",
       " 'concern',\n",
       " 'stem',\n",
       " 'content',\n",
       " 'area']"
      ]
     },
     "execution_count": 31,
     "metadata": {},
     "output_type": "execute_result"
    }
   ],
   "source": [
    "sentence"
   ]
  },
  {
   "cell_type": "code",
   "execution_count": 31,
   "metadata": {},
   "outputs": [
    {
     "name": "stdout",
     "output_type": "stream",
     "text": [
      "[I, the amazing opportunity, over 500 students, Science, Technology, Engineering, Math]\n"
     ]
    }
   ],
   "source": [
    "noun_chunks = list(doc.noun_chunks)\n",
    "print(noun_chunks)  \n",
    "\n",
    "sentences = list(doc.sents)"
   ]
  },
  {
   "cell_type": "markdown",
   "metadata": {},
   "source": [
    "### Essay Exercise\n",
    "\n",
    "\n",
    "- Can you locate a few essays that are talking about helping students improve their mathematics?  \n",
    "- Tell me something about the kinds of needs a few teachers in different areas describe in the `project_resource_summary` column.  Create visualization of dependency tree for two different teachers."
   ]
  },
  {
   "cell_type": "code",
   "execution_count": 33,
   "metadata": {},
   "outputs": [
    {
     "data": {
      "text/plain": [
       "\"As an elective, students will utilize digital cameras to learn how to take various types of pictures (different lighting, setting, action, subject juxtaposition etc...). The cameras though are just the first part of their journey in photography.  We hope to partner with our local drug store chain and have students learn how pictures are currently developed.  When students return for their second round of electives, they will study the history of photography, famous photographers, and recreate their style using the digital cameras.\\\\r\\\\n6th grade students live in a world of social media illusions.  They believe the pictures they see are mere pieces and don't understand the whole puzzle they represent.\\\\r\\\\nHopefully, through the course of this study they will understand how culture represents art and how sometimes art can be manipulated by the artist.\""
      ]
     },
     "execution_count": 33,
     "metadata": {},
     "output_type": "execute_result"
    }
   ],
   "source": [
    "essay2 = train.project_essay_2[11]\n",
    "essay2"
   ]
  },
  {
   "cell_type": "code",
   "execution_count": 52,
   "metadata": {},
   "outputs": [
    {
     "data": {
      "text/plain": [
       "<pandas.core.groupby.groupby.DataFrameGroupBy object at 0x12ac16240>"
      ]
     },
     "execution_count": 52,
     "metadata": {},
     "output_type": "execute_result"
    }
   ],
   "source": [
    "train.groupby(['project_essay_2','project_subject_categories'])"
   ]
  },
  {
   "cell_type": "code",
   "execution_count": 54,
   "metadata": {},
   "outputs": [],
   "source": [
    "essays = train.project_essay_2"
   ]
  },
  {
   "cell_type": "code",
   "execution_count": 55,
   "metadata": {},
   "outputs": [
    {
     "data": {
      "text/plain": [
       "33       Our classroom has a Smartboard that has taken ...\n",
       "35       My second grade students love math even though...\n",
       "36       I am requesting supplies such as laminating sh...\n",
       "37       PROJECT\\r\\n\\r\\nThe use of whiteboards is almos...\n",
       "50       My students all learn in different ways, and m...\n",
       "51       My first graders love working on the computer,...\n",
       "54       Having LEGO WeDo sets in our classroom would b...\n",
       "57       Chromebooks are fantastic for the quality and ...\n",
       "62       Students will use the ipads during research wr...\n",
       "63       General school supplies are expensive!  Our cl...\n",
       "65       Having these 2 computers will help enhance my ...\n",
       "74       HAVING A PROPER CAMCORDER TO RECORD A VARIETY ...\n",
       "76       My students are having such a great time recor...\n",
       "97       Ever since my students have realized that dono...\n",
       "106      I teach math and science to 52 amazing 6th-gra...\n",
       "108      The chrome books that I have asked for will be...\n",
       "119      The students in class 1-306 at P.S. 110 in Car...\n",
       "122      Students would use the iPad when making projec...\n",
       "128      My students are in dire need of hands on activ...\n",
       "135      In our classroom, Ms Mesk helps us to create i...\n",
       "138      The materials that we are hoping to be funded ...\n",
       "144      Students will benefit from the use a laptop as...\n",
       "147      I want to provide my students with the best ac...\n",
       "166      While Pre-K is all about the play, digital lit...\n",
       "178      The use of a whiteboard is almost a daily acti...\n",
       "186      I am requesting basic materials for my classro...\n",
       "189      In the fall, my coteacher and I will be embark...\n",
       "208      Play-doh is an excellent resource for young le...\n",
       "212      This year, we need some basic supplies for our...\n",
       "213      At any age, students love breaking out the Leg...\n",
       "                               ...                        \n",
       "11958    The donations for this project will help my st...\n",
       "11970    This year I have implemented interactive noteb...\n",
       "11977    My students are in need of STEM materials in o...\n",
       "11978    In today's growing digital world, students not...\n",
       "11981    If my students and I receive these resources, ...\n",
       "11983    Chromebooks are fantastic for the quality and ...\n",
       "11994    My students are not only visual and hands-on l...\n",
       "11995    All students need to develop and apply problem...\n",
       "11996    I am requesting a number of mathematical resou...\n",
       "11999    Since many of my students are English Language...\n",
       "12007    Manipulatives give the math students a concret...\n",
       "12016    Having the I-pad minis in my classroom will al...\n",
       "12017    My students crave technology! “Screen Time\\\" i...\n",
       "12028    Students are not learning science if they do n...\n",
       "12030    By providing students with these iPads, studen...\n",
       "12035    The scholastic science and math magazines that...\n",
       "12045    These Hokki Stools would have a positive impac...\n",
       "12049    As a classroom teacher in a district with a hi...\n",
       "12072    I am requesting glue sticks and markers for my...\n",
       "12076    Introducing new math materials to my fourth gr...\n",
       "12089    With the transition to Common Core mathematics...\n",
       "12094    Our first grade students are beginning to work...\n",
       "12104    My students are in need of access to more tech...\n",
       "12111    A laminating machine and necessary supplies wi...\n",
       "12114    My students will benefit from these jot memo p...\n",
       "12123    Out students need opportunities to engage in s...\n",
       "12124    Many of my students are hands-on learners who ...\n",
       "12136    I am requesting colored folders for students t...\n",
       "12140    Children with disabilities have difficulty acc...\n",
       "12152    Having a laptop to connect to our SMARTboard w...\n",
       "Name: project_essay_2, Length: 1901, dtype: object"
      ]
     },
     "execution_count": 55,
     "metadata": {},
     "output_type": "execute_result"
    }
   ],
   "source": [
    "essays[essays.str.contains('math')]"
   ]
  },
  {
   "cell_type": "code",
   "execution_count": null,
   "metadata": {},
   "outputs": [],
   "source": []
  },
  {
   "cell_type": "code",
   "execution_count": null,
   "metadata": {},
   "outputs": [],
   "source": []
  },
  {
   "cell_type": "code",
   "execution_count": null,
   "metadata": {},
   "outputs": [],
   "source": []
  }
 ],
 "metadata": {
  "kernelspec": {
   "display_name": "Python 3",
   "language": "python",
   "name": "python3"
  },
  "language_info": {
   "codemirror_mode": {
    "name": "ipython",
    "version": 3
   },
   "file_extension": ".py",
   "mimetype": "text/x-python",
   "name": "python",
   "nbconvert_exporter": "python",
   "pygments_lexer": "ipython3",
   "version": "3.6.5"
  }
 },
 "nbformat": 4,
 "nbformat_minor": 2
}
